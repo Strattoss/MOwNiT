{
 "cells": [
  {
   "cell_type": "markdown",
   "metadata": {},
   "source": [
    "# MOwNiT \n",
    "## Laboratorium\n",
    "### Znajdowanie pierwiastków"
   ]
  },
  {
   "cell_type": "markdown",
   "metadata": {},
   "source": [
    "Do poszukiwania pierwiastków funkcji w Julii używamy pakietu Roots"
   ]
  },
  {
   "cell_type": "markdown",
   "metadata": {},
   "source": [
    "```julia\n",
    "Pkg.add(\"Roots\")\n",
    "Pkg.add(\"ForwardDiff\")\n",
    "```"
   ]
  },
  {
   "cell_type": "code",
   "execution_count": 2,
   "metadata": {
    "tags": []
   },
   "outputs": [],
   "source": [
    "using Pkg\n",
    "#Pkg.add(\"Roots\")\n",
    "#Pkg.add(\"ForwardDiff\")\n",
    "using Roots  \n",
    "using Plots\n",
    "using ForwardDiff"
   ]
  },
  {
   "cell_type": "code",
   "execution_count": 9,
   "metadata": {
    "tags": []
   },
   "outputs": [
    {
     "data": {
      "image/svg+xml": [
       "<?xml version=\"1.0\" encoding=\"utf-8\"?>\n",
       "<svg xmlns=\"http://www.w3.org/2000/svg\" xmlns:xlink=\"http://www.w3.org/1999/xlink\" width=\"600\" height=\"400\" viewBox=\"0 0 2400 1600\">\n",
       "<defs>\n",
       "  <clipPath id=\"clip910\">\n",
       "    <rect x=\"0\" y=\"0\" width=\"2400\" height=\"1600\"/>\n",
       "  </clipPath>\n",
       "</defs>\n",
       "<path clip-path=\"url(#clip910)\" d=\"M0 1600 L2400 1600 L2400 0 L0 0  Z\" fill=\"#ffffff\" fill-rule=\"evenodd\" fill-opacity=\"1\"/>\n",
       "<defs>\n",
       "  <clipPath id=\"clip911\">\n",
       "    <rect x=\"480\" y=\"0\" width=\"1681\" height=\"1600\"/>\n",
       "  </clipPath>\n",
       "</defs>\n",
       "<path clip-path=\"url(#clip910)\" d=\"M193.936 1486.45 L2352.76 1486.45 L2352.76 47.2441 L193.936 47.2441  Z\" fill=\"#ffffff\" fill-rule=\"evenodd\" fill-opacity=\"1\"/>\n",
       "<defs>\n",
       "  <clipPath id=\"clip912\">\n",
       "    <rect x=\"193\" y=\"47\" width=\"2160\" height=\"1440\"/>\n",
       "  </clipPath>\n",
       "</defs>\n",
       "<polyline clip-path=\"url(#clip912)\" style=\"stroke:#000000; stroke-linecap:round; stroke-linejoin:round; stroke-width:2; stroke-opacity:0.1; fill:none\" points=\"255.035,1486.45 255.035,47.2441 \"/>\n",
       "<polyline clip-path=\"url(#clip912)\" style=\"stroke:#000000; stroke-linecap:round; stroke-linejoin:round; stroke-width:2; stroke-opacity:0.1; fill:none\" points=\"764.19,1486.45 764.19,47.2441 \"/>\n",
       "<polyline clip-path=\"url(#clip912)\" style=\"stroke:#000000; stroke-linecap:round; stroke-linejoin:round; stroke-width:2; stroke-opacity:0.1; fill:none\" points=\"1273.35,1486.45 1273.35,47.2441 \"/>\n",
       "<polyline clip-path=\"url(#clip912)\" style=\"stroke:#000000; stroke-linecap:round; stroke-linejoin:round; stroke-width:2; stroke-opacity:0.1; fill:none\" points=\"1782.5,1486.45 1782.5,47.2441 \"/>\n",
       "<polyline clip-path=\"url(#clip912)\" style=\"stroke:#000000; stroke-linecap:round; stroke-linejoin:round; stroke-width:2; stroke-opacity:0.1; fill:none\" points=\"2291.66,1486.45 2291.66,47.2441 \"/>\n",
       "<polyline clip-path=\"url(#clip910)\" style=\"stroke:#000000; stroke-linecap:round; stroke-linejoin:round; stroke-width:4; stroke-opacity:1; fill:none\" points=\"193.936,1486.45 2352.76,1486.45 \"/>\n",
       "<polyline clip-path=\"url(#clip910)\" style=\"stroke:#000000; stroke-linecap:round; stroke-linejoin:round; stroke-width:4; stroke-opacity:1; fill:none\" points=\"255.035,1486.45 255.035,1467.55 \"/>\n",
       "<polyline clip-path=\"url(#clip910)\" style=\"stroke:#000000; stroke-linecap:round; stroke-linejoin:round; stroke-width:4; stroke-opacity:1; fill:none\" points=\"764.19,1486.45 764.19,1467.55 \"/>\n",
       "<polyline clip-path=\"url(#clip910)\" style=\"stroke:#000000; stroke-linecap:round; stroke-linejoin:round; stroke-width:4; stroke-opacity:1; fill:none\" points=\"1273.35,1486.45 1273.35,1467.55 \"/>\n",
       "<polyline clip-path=\"url(#clip910)\" style=\"stroke:#000000; stroke-linecap:round; stroke-linejoin:round; stroke-width:4; stroke-opacity:1; fill:none\" points=\"1782.5,1486.45 1782.5,1467.55 \"/>\n",
       "<polyline clip-path=\"url(#clip910)\" style=\"stroke:#000000; stroke-linecap:round; stroke-linejoin:round; stroke-width:4; stroke-opacity:1; fill:none\" points=\"2291.66,1486.45 2291.66,1467.55 \"/>\n",
       "<path clip-path=\"url(#clip910)\" d=\"M224.977 1532.02 L254.653 1532.02 L254.653 1535.95 L224.977 1535.95 L224.977 1532.02 Z\" fill=\"#000000\" fill-rule=\"evenodd\" fill-opacity=\"1\" /><path clip-path=\"url(#clip910)\" d=\"M268.773 1544.91 L285.092 1544.91 L285.092 1548.85 L263.148 1548.85 L263.148 1544.91 Q265.81 1542.16 270.393 1537.53 Q275 1532.88 276.18 1531.53 Q278.426 1529.01 279.305 1527.27 Q280.208 1525.51 280.208 1523.82 Q280.208 1521.07 278.264 1519.33 Q276.342 1517.6 273.241 1517.6 Q271.042 1517.6 268.588 1518.36 Q266.157 1519.13 263.38 1520.68 L263.38 1515.95 Q266.204 1514.82 268.657 1514.24 Q271.111 1513.66 273.148 1513.66 Q278.518 1513.66 281.713 1516.35 Q284.907 1519.03 284.907 1523.52 Q284.907 1525.65 284.097 1527.57 Q283.31 1529.47 281.204 1532.07 Q280.625 1532.74 277.523 1535.95 Q274.421 1539.15 268.773 1544.91 Z\" fill=\"#000000\" fill-rule=\"evenodd\" fill-opacity=\"1\" /><path clip-path=\"url(#clip910)\" d=\"M733.947 1532.02 L763.623 1532.02 L763.623 1535.95 L733.947 1535.95 L733.947 1532.02 Z\" fill=\"#000000\" fill-rule=\"evenodd\" fill-opacity=\"1\" /><path clip-path=\"url(#clip910)\" d=\"M774.526 1544.91 L782.165 1544.91 L782.165 1518.55 L773.855 1520.21 L773.855 1515.95 L782.118 1514.29 L786.794 1514.29 L786.794 1544.91 L794.433 1544.91 L794.433 1548.85 L774.526 1548.85 L774.526 1544.91 Z\" fill=\"#000000\" fill-rule=\"evenodd\" fill-opacity=\"1\" /><path clip-path=\"url(#clip910)\" d=\"M1273.35 1517.37 Q1269.73 1517.37 1267.91 1520.93 Q1266.1 1524.47 1266.1 1531.6 Q1266.1 1538.71 1267.91 1542.27 Q1269.73 1545.82 1273.35 1545.82 Q1276.98 1545.82 1278.79 1542.27 Q1280.61 1538.71 1280.61 1531.6 Q1280.61 1524.47 1278.79 1520.93 Q1276.98 1517.37 1273.35 1517.37 M1273.35 1513.66 Q1279.16 1513.66 1282.21 1518.27 Q1285.29 1522.85 1285.29 1531.6 Q1285.29 1540.33 1282.21 1544.94 Q1279.16 1549.52 1273.35 1549.52 Q1267.54 1549.52 1264.46 1544.94 Q1261.4 1540.33 1261.4 1531.6 Q1261.4 1522.85 1264.46 1518.27 Q1267.54 1513.66 1273.35 1513.66 Z\" fill=\"#000000\" fill-rule=\"evenodd\" fill-opacity=\"1\" /><path clip-path=\"url(#clip910)\" d=\"M1772.88 1544.91 L1780.52 1544.91 L1780.52 1518.55 L1772.21 1520.21 L1772.21 1515.95 L1780.48 1514.29 L1785.15 1514.29 L1785.15 1544.91 L1792.79 1544.91 L1792.79 1548.85 L1772.88 1548.85 L1772.88 1544.91 Z\" fill=\"#000000\" fill-rule=\"evenodd\" fill-opacity=\"1\" /><path clip-path=\"url(#clip910)\" d=\"M2286.31 1544.91 L2302.63 1544.91 L2302.63 1548.85 L2280.69 1548.85 L2280.69 1544.91 Q2283.35 1542.16 2287.93 1537.53 Q2292.54 1532.88 2293.72 1531.53 Q2295.96 1529.01 2296.84 1527.27 Q2297.75 1525.51 2297.75 1523.82 Q2297.75 1521.07 2295.8 1519.33 Q2293.88 1517.6 2290.78 1517.6 Q2288.58 1517.6 2286.12 1518.36 Q2283.69 1519.13 2280.92 1520.68 L2280.92 1515.95 Q2283.74 1514.82 2286.19 1514.24 Q2288.65 1513.66 2290.69 1513.66 Q2296.06 1513.66 2299.25 1516.35 Q2302.44 1519.03 2302.44 1523.52 Q2302.44 1525.65 2301.63 1527.57 Q2300.85 1529.47 2298.74 1532.07 Q2298.16 1532.74 2295.06 1535.95 Q2291.96 1539.15 2286.31 1544.91 Z\" fill=\"#000000\" fill-rule=\"evenodd\" fill-opacity=\"1\" /><polyline clip-path=\"url(#clip912)\" style=\"stroke:#000000; stroke-linecap:round; stroke-linejoin:round; stroke-width:2; stroke-opacity:0.1; fill:none\" points=\"193.936,1445.82 2352.76,1445.82 \"/>\n",
       "<polyline clip-path=\"url(#clip912)\" style=\"stroke:#000000; stroke-linecap:round; stroke-linejoin:round; stroke-width:2; stroke-opacity:0.1; fill:none\" points=\"193.936,1106.28 2352.76,1106.28 \"/>\n",
       "<polyline clip-path=\"url(#clip912)\" style=\"stroke:#000000; stroke-linecap:round; stroke-linejoin:round; stroke-width:2; stroke-opacity:0.1; fill:none\" points=\"193.936,766.744 2352.76,766.744 \"/>\n",
       "<polyline clip-path=\"url(#clip912)\" style=\"stroke:#000000; stroke-linecap:round; stroke-linejoin:round; stroke-width:2; stroke-opacity:0.1; fill:none\" points=\"193.936,427.205 2352.76,427.205 \"/>\n",
       "<polyline clip-path=\"url(#clip912)\" style=\"stroke:#000000; stroke-linecap:round; stroke-linejoin:round; stroke-width:2; stroke-opacity:0.1; fill:none\" points=\"193.936,87.6664 2352.76,87.6664 \"/>\n",
       "<polyline clip-path=\"url(#clip910)\" style=\"stroke:#000000; stroke-linecap:round; stroke-linejoin:round; stroke-width:4; stroke-opacity:1; fill:none\" points=\"193.936,1486.45 193.936,47.2441 \"/>\n",
       "<polyline clip-path=\"url(#clip910)\" style=\"stroke:#000000; stroke-linecap:round; stroke-linejoin:round; stroke-width:4; stroke-opacity:1; fill:none\" points=\"193.936,1445.82 212.834,1445.82 \"/>\n",
       "<polyline clip-path=\"url(#clip910)\" style=\"stroke:#000000; stroke-linecap:round; stroke-linejoin:round; stroke-width:4; stroke-opacity:1; fill:none\" points=\"193.936,1106.28 212.834,1106.28 \"/>\n",
       "<polyline clip-path=\"url(#clip910)\" style=\"stroke:#000000; stroke-linecap:round; stroke-linejoin:round; stroke-width:4; stroke-opacity:1; fill:none\" points=\"193.936,766.744 212.834,766.744 \"/>\n",
       "<polyline clip-path=\"url(#clip910)\" style=\"stroke:#000000; stroke-linecap:round; stroke-linejoin:round; stroke-width:4; stroke-opacity:1; fill:none\" points=\"193.936,427.205 212.834,427.205 \"/>\n",
       "<polyline clip-path=\"url(#clip910)\" style=\"stroke:#000000; stroke-linecap:round; stroke-linejoin:round; stroke-width:4; stroke-opacity:1; fill:none\" points=\"193.936,87.6664 212.834,87.6664 \"/>\n",
       "<path clip-path=\"url(#clip910)\" d=\"M50.9921 1446.27 L80.6679 1446.27 L80.6679 1450.21 L50.9921 1450.21 L50.9921 1446.27 Z\" fill=\"#000000\" fill-rule=\"evenodd\" fill-opacity=\"1\" /><path clip-path=\"url(#clip910)\" d=\"M91.5706 1459.17 L99.2095 1459.17 L99.2095 1432.8 L90.8993 1434.47 L90.8993 1430.21 L99.1632 1428.54 L103.839 1428.54 L103.839 1459.17 L111.478 1459.17 L111.478 1463.1 L91.5706 1463.1 L91.5706 1459.17 Z\" fill=\"#000000\" fill-rule=\"evenodd\" fill-opacity=\"1\" /><path clip-path=\"url(#clip910)\" d=\"M120.922 1457.22 L125.807 1457.22 L125.807 1463.1 L120.922 1463.1 L120.922 1457.22 Z\" fill=\"#000000\" fill-rule=\"evenodd\" fill-opacity=\"1\" /><path clip-path=\"url(#clip910)\" d=\"M145.992 1431.62 Q142.381 1431.62 140.552 1435.19 Q138.746 1438.73 138.746 1445.86 Q138.746 1452.96 140.552 1456.53 Q142.381 1460.07 145.992 1460.07 Q149.626 1460.07 151.431 1456.53 Q153.26 1452.96 153.26 1445.86 Q153.26 1438.73 151.431 1435.19 Q149.626 1431.62 145.992 1431.62 M145.992 1427.92 Q151.802 1427.92 154.857 1432.52 Q157.936 1437.11 157.936 1445.86 Q157.936 1454.58 154.857 1459.19 Q151.802 1463.77 145.992 1463.77 Q140.181 1463.77 137.103 1459.19 Q134.047 1454.58 134.047 1445.86 Q134.047 1437.11 137.103 1432.52 Q140.181 1427.92 145.992 1427.92 Z\" fill=\"#000000\" fill-rule=\"evenodd\" fill-opacity=\"1\" /><path clip-path=\"url(#clip910)\" d=\"M51.9875 1106.73 L81.6633 1106.73 L81.6633 1110.67 L51.9875 1110.67 L51.9875 1106.73 Z\" fill=\"#000000\" fill-rule=\"evenodd\" fill-opacity=\"1\" /><path clip-path=\"url(#clip910)\" d=\"M101.756 1092.08 Q98.1447 1092.08 96.316 1095.65 Q94.5104 1099.19 94.5104 1106.32 Q94.5104 1113.42 96.316 1116.99 Q98.1447 1120.53 101.756 1120.53 Q105.39 1120.53 107.196 1116.99 Q109.024 1113.42 109.024 1106.32 Q109.024 1099.19 107.196 1095.65 Q105.39 1092.08 101.756 1092.08 M101.756 1088.38 Q107.566 1088.38 110.621 1092.98 Q113.7 1097.57 113.7 1106.32 Q113.7 1115.04 110.621 1119.65 Q107.566 1124.23 101.756 1124.23 Q95.9456 1124.23 92.8669 1119.65 Q89.8114 1115.04 89.8114 1106.32 Q89.8114 1097.57 92.8669 1092.98 Q95.9456 1088.38 101.756 1088.38 Z\" fill=\"#000000\" fill-rule=\"evenodd\" fill-opacity=\"1\" /><path clip-path=\"url(#clip910)\" d=\"M121.918 1117.68 L126.802 1117.68 L126.802 1123.56 L121.918 1123.56 L121.918 1117.68 Z\" fill=\"#000000\" fill-rule=\"evenodd\" fill-opacity=\"1\" /><path clip-path=\"url(#clip910)\" d=\"M137.033 1089 L155.39 1089 L155.39 1092.94 L141.316 1092.94 L141.316 1101.41 Q142.334 1101.06 143.353 1100.9 Q144.371 1100.72 145.39 1100.72 Q151.177 1100.72 154.556 1103.89 Q157.936 1107.06 157.936 1112.47 Q157.936 1118.05 154.464 1121.16 Q150.992 1124.23 144.672 1124.23 Q142.496 1124.23 140.228 1123.86 Q137.982 1123.49 135.575 1122.75 L135.575 1118.05 Q137.658 1119.19 139.881 1119.74 Q142.103 1120.3 144.58 1120.3 Q148.584 1120.3 150.922 1118.19 Q153.26 1116.09 153.26 1112.47 Q153.26 1108.86 150.922 1106.76 Q148.584 1104.65 144.58 1104.65 Q142.705 1104.65 140.83 1105.07 Q138.978 1105.48 137.033 1106.36 L137.033 1089 Z\" fill=\"#000000\" fill-rule=\"evenodd\" fill-opacity=\"1\" /><path clip-path=\"url(#clip910)\" d=\"M100.76 752.543 Q97.1493 752.543 95.3206 756.107 Q93.515 759.649 93.515 766.779 Q93.515 773.885 95.3206 777.45 Q97.1493 780.992 100.76 780.992 Q104.395 780.992 106.2 777.45 Q108.029 773.885 108.029 766.779 Q108.029 759.649 106.2 756.107 Q104.395 752.543 100.76 752.543 M100.76 748.839 Q106.571 748.839 109.626 753.445 Q112.705 758.029 112.705 766.779 Q112.705 775.505 109.626 780.112 Q106.571 784.695 100.76 784.695 Q94.9502 784.695 91.8715 780.112 Q88.816 775.505 88.816 766.779 Q88.816 758.029 91.8715 753.445 Q94.9502 748.839 100.76 748.839 Z\" fill=\"#000000\" fill-rule=\"evenodd\" fill-opacity=\"1\" /><path clip-path=\"url(#clip910)\" d=\"M120.922 778.144 L125.807 778.144 L125.807 784.024 L120.922 784.024 L120.922 778.144 Z\" fill=\"#000000\" fill-rule=\"evenodd\" fill-opacity=\"1\" /><path clip-path=\"url(#clip910)\" d=\"M145.992 752.543 Q142.381 752.543 140.552 756.107 Q138.746 759.649 138.746 766.779 Q138.746 773.885 140.552 777.45 Q142.381 780.992 145.992 780.992 Q149.626 780.992 151.431 777.45 Q153.26 773.885 153.26 766.779 Q153.26 759.649 151.431 756.107 Q149.626 752.543 145.992 752.543 M145.992 748.839 Q151.802 748.839 154.857 753.445 Q157.936 758.029 157.936 766.779 Q157.936 775.505 154.857 780.112 Q151.802 784.695 145.992 784.695 Q140.181 784.695 137.103 780.112 Q134.047 775.505 134.047 766.779 Q134.047 758.029 137.103 753.445 Q140.181 748.839 145.992 748.839 Z\" fill=\"#000000\" fill-rule=\"evenodd\" fill-opacity=\"1\" /><path clip-path=\"url(#clip910)\" d=\"M101.756 413.004 Q98.1447 413.004 96.316 416.569 Q94.5104 420.11 94.5104 427.24 Q94.5104 434.346 96.316 437.911 Q98.1447 441.453 101.756 441.453 Q105.39 441.453 107.196 437.911 Q109.024 434.346 109.024 427.24 Q109.024 420.11 107.196 416.569 Q105.39 413.004 101.756 413.004 M101.756 409.3 Q107.566 409.3 110.621 413.907 Q113.7 418.49 113.7 427.24 Q113.7 435.967 110.621 440.573 Q107.566 445.156 101.756 445.156 Q95.9456 445.156 92.8669 440.573 Q89.8114 435.967 89.8114 427.24 Q89.8114 418.49 92.8669 413.907 Q95.9456 409.3 101.756 409.3 Z\" fill=\"#000000\" fill-rule=\"evenodd\" fill-opacity=\"1\" /><path clip-path=\"url(#clip910)\" d=\"M121.918 438.606 L126.802 438.606 L126.802 444.485 L121.918 444.485 L121.918 438.606 Z\" fill=\"#000000\" fill-rule=\"evenodd\" fill-opacity=\"1\" /><path clip-path=\"url(#clip910)\" d=\"M137.033 409.925 L155.39 409.925 L155.39 413.86 L141.316 413.86 L141.316 422.333 Q142.334 421.985 143.353 421.823 Q144.371 421.638 145.39 421.638 Q151.177 421.638 154.556 424.809 Q157.936 427.981 157.936 433.397 Q157.936 438.976 154.464 442.078 Q150.992 445.156 144.672 445.156 Q142.496 445.156 140.228 444.786 Q137.982 444.416 135.575 443.675 L135.575 438.976 Q137.658 440.11 139.881 440.666 Q142.103 441.221 144.58 441.221 Q148.584 441.221 150.922 439.115 Q153.26 437.008 153.26 433.397 Q153.26 429.786 150.922 427.68 Q148.584 425.573 144.58 425.573 Q142.705 425.573 140.83 425.99 Q138.978 426.407 137.033 427.286 L137.033 409.925 Z\" fill=\"#000000\" fill-rule=\"evenodd\" fill-opacity=\"1\" /><path clip-path=\"url(#clip910)\" d=\"M91.5706 101.011 L99.2095 101.011 L99.2095 74.6456 L90.8993 76.3123 L90.8993 72.053 L99.1632 70.3864 L103.839 70.3864 L103.839 101.011 L111.478 101.011 L111.478 104.946 L91.5706 104.946 L91.5706 101.011 Z\" fill=\"#000000\" fill-rule=\"evenodd\" fill-opacity=\"1\" /><path clip-path=\"url(#clip910)\" d=\"M120.922 99.0668 L125.807 99.0668 L125.807 104.946 L120.922 104.946 L120.922 99.0668 Z\" fill=\"#000000\" fill-rule=\"evenodd\" fill-opacity=\"1\" /><path clip-path=\"url(#clip910)\" d=\"M145.992 73.4651 Q142.381 73.4651 140.552 77.0299 Q138.746 80.5715 138.746 87.7011 Q138.746 94.8075 140.552 98.3723 Q142.381 101.914 145.992 101.914 Q149.626 101.914 151.431 98.3723 Q153.26 94.8075 153.26 87.7011 Q153.26 80.5715 151.431 77.0299 Q149.626 73.4651 145.992 73.4651 M145.992 69.7614 Q151.802 69.7614 154.857 74.3678 Q157.936 78.9512 157.936 87.7011 Q157.936 96.4279 154.857 101.034 Q151.802 105.618 145.992 105.618 Q140.181 105.618 137.103 101.034 Q134.047 96.4279 134.047 87.7011 Q134.047 78.9512 137.103 74.3678 Q140.181 69.7614 145.992 69.7614 Z\" fill=\"#000000\" fill-rule=\"evenodd\" fill-opacity=\"1\" /><polyline clip-path=\"url(#clip912)\" style=\"stroke:#009af9; stroke-linecap:round; stroke-linejoin:round; stroke-width:4; stroke-opacity:1; fill:none\" points=\"255.035,1384.23 258.35,1386.05 261.664,1387.85 264.979,1389.63 268.294,1391.38 298.945,1406.27 329.596,1418.85 360.247,1429.07 390.898,1436.89 409.318,1440.42 427.737,1443.07 446.157,1444.84 464.577,1445.72 495.725,1445.18 526.872,1442.1 560.707,1435.9 594.542,1426.74 625.735,1415.72 656.928,1402.26 690.37,1385.18 723.812,1365.44 762.558,1339.34 801.304,1309.93 835.737,1281.15 870.17,1250.01 900.364,1220.89 930.558,1190.17 963.478,1154.98 996.398,1118.17 1029.51,1079.66 1062.63,1039.83 1135.86,947.897 1205.53,856.924 1277.98,760.569 1338.96,679.476 1413.41,582.28 1481.62,496.649 1513.11,458.649 1544.61,421.827 1576.51,385.874 1608.42,351.415 1644.17,314.741 1679.93,280.294 1712.33,251.147 1744.73,224.086 1781.83,195.808 1818.92,170.559 1853.27,149.998 1887.62,132.243 1921.48,117.564 1955.34,105.755 1988.22,97.0862 2021.1,91.2084 2054.8,88.106 2088.51,87.9763 2106.97,89.1662 2125.44,91.2471 2143.9,94.2161 2162.36,98.0695 2189.18,105.232 2216,114.229 2242.83,125.037 2269.65,137.625 2275.15,140.425 2280.65,143.297 2286.15,146.243 2291.66,149.26 \"/>\n",
       "<path clip-path=\"url(#clip910)\" d=\"M265.897 198.898 L534.209 198.898 L534.209 95.2176 L265.897 95.2176  Z\" fill=\"#ffffff\" fill-rule=\"evenodd\" fill-opacity=\"1\"/>\n",
       "<polyline clip-path=\"url(#clip910)\" style=\"stroke:#000000; stroke-linecap:round; stroke-linejoin:round; stroke-width:4; stroke-opacity:1; fill:none\" points=\"265.897,198.898 534.209,198.898 534.209,95.2176 265.897,95.2176 265.897,198.898 \"/>\n",
       "<polyline clip-path=\"url(#clip910)\" style=\"stroke:#009af9; stroke-linecap:round; stroke-linejoin:round; stroke-width:4; stroke-opacity:1; fill:none\" points=\"289.884,147.058 433.805,147.058 \"/>\n",
       "<path clip-path=\"url(#clip910)\" d=\"M471.634 166.745 Q469.829 171.375 468.116 172.787 Q466.403 174.199 463.532 174.199 L460.13 174.199 L460.13 170.634 L462.63 170.634 Q464.389 170.634 465.361 169.8 Q466.333 168.967 467.514 165.865 L468.278 163.921 L457.792 138.412 L462.306 138.412 L470.407 158.689 L478.509 138.412 L483.023 138.412 L471.634 166.745 Z\" fill=\"#000000\" fill-rule=\"evenodd\" fill-opacity=\"1\" /><path clip-path=\"url(#clip910)\" d=\"M490.315 160.402 L497.954 160.402 L497.954 134.037 L489.643 135.703 L489.643 131.444 L497.907 129.778 L502.583 129.778 L502.583 160.402 L510.222 160.402 L510.222 164.338 L490.315 164.338 L490.315 160.402 Z\" fill=\"#000000\" fill-rule=\"evenodd\" fill-opacity=\"1\" /></svg>\n"
      ]
     },
     "execution_count": 9,
     "metadata": {},
     "output_type": "execute_result"
    }
   ],
   "source": [
    "# przykładowa funkcja do testów\n",
    "f(x) = sin(x)\n",
    "plot(f, -2, 2)"
   ]
  },
  {
   "cell_type": "markdown",
   "metadata": {},
   "source": [
    "Funkcja <i> find_zero</i>  dobiera odpowiedni algorytm w zależności od sposobu wywołania.\n"
   ]
  },
  {
   "cell_type": "markdown",
   "metadata": {},
   "source": [
    "### 1. Metody wykorzytujące  przedział i zmianę znaku"
   ]
  },
  {
   "cell_type": "markdown",
   "metadata": {},
   "source": [
    "#### 1.1 Metoda bisekcji - jesli wywołamy fzero z podaniem  przedziału (tutaj (0,1))"
   ]
  },
  {
   "cell_type": "code",
   "execution_count": 10,
   "metadata": {
    "tags": []
   },
   "outputs": [
    {
     "data": {
      "text/plain": [
       "Results of univariate zero finding:\n",
       "\n",
       "* Converged to: 0.0\n",
       "* Algorithm: Bisection()\n",
       "* iterations: 0\n",
       "* function evaluations ≈ 3\n",
       "* stopped as f(x_n) = 0\n",
       "\n",
       "Trace:\n",
       "(a₀, b₀) = ( 0, 1 )\n",
       "\n"
      ]
     },
     "metadata": {},
     "output_type": "display_data"
    },
    {
     "data": {
      "text/plain": [
       "0.0"
      ]
     },
     "execution_count": 10,
     "metadata": {},
     "output_type": "execute_result"
    }
   ],
   "source": [
    "x = find_zero(f, (0, 1),verbose=true)  "
   ]
  },
  {
   "cell_type": "code",
   "execution_count": 11,
   "metadata": {
    "tags": []
   },
   "outputs": [
    {
     "data": {
      "text/plain": [
       "Results of univariate zero finding:\n",
       "\n",
       "* Converged to: 0.0\n",
       "* Algorithm: Bisection()\n",
       "* iterations: 0\n",
       "* function evaluations ≈ 3\n",
       "* stopped as f(x_n) = 0\n",
       "\n",
       "Trace:\n",
       "(a₀, b₀) = ( 0, 1 )\n",
       "\n"
      ]
     },
     "metadata": {},
     "output_type": "display_data"
    },
    {
     "data": {
      "text/plain": [
       "0.0"
      ]
     },
     "execution_count": 11,
     "metadata": {},
     "output_type": "execute_result"
    }
   ],
   "source": [
    "# mozna wyspecyfikowac wprost\n",
    "x = find_zero(f, (0, 1), Bisection(),verbose=true)  "
   ]
  },
  {
   "cell_type": "markdown",
   "metadata": {},
   "source": [
    "#### Sprawdzanie, czy znaleźliśmy 0"
   ]
  },
  {
   "cell_type": "code",
   "execution_count": 12,
   "metadata": {
    "tags": []
   },
   "outputs": [
    {
     "name": "stdout",
     "output_type": "stream",
     "text": [
      "0.0\n"
     ]
    },
    {
     "data": {
      "text/plain": [
       "true"
      ]
     },
     "execution_count": 12,
     "metadata": {},
     "output_type": "execute_result"
    }
   ],
   "source": [
    "#Sprawdzamy czy znaleźliśmy 0\n",
    "println(f(x))\n",
    "iszero(f(x))"
   ]
  },
  {
   "cell_type": "code",
   "execution_count": 13,
   "metadata": {
    "tags": []
   },
   "outputs": [
    {
     "data": {
      "text/plain": [
       "-1.0"
      ]
     },
     "execution_count": 13,
     "metadata": {},
     "output_type": "execute_result"
    }
   ],
   "source": [
    "# można też sprawdzić, czy funkcja zmienia znak dla lewego i prawego sąsiada miejsca zerowego.\n",
    "sign(f(prevfloat(x))) *sign(f(nextfloat(x))) "
   ]
  },
  {
   "cell_type": "code",
   "execution_count": 14,
   "metadata": {
    "tags": []
   },
   "outputs": [
    {
     "data": {
      "text/plain": [
       "(3.141592653589793, 1.2246467991473532e-16)"
      ]
     },
     "execution_count": 14,
     "metadata": {},
     "output_type": "execute_result"
    }
   ],
   "source": [
    "# czasem algorytm znajduje najlepsze przybliżenie 0\n",
    "g(x) = sin(x)\n",
    "x = find_zero(g, (pi/2, 3pi/2))\n",
    "x, g(x)"
   ]
  },
  {
   "cell_type": "code",
   "execution_count": 15,
   "metadata": {
    "tags": []
   },
   "outputs": [
    {
     "data": {
      "text/plain": [
       "false"
      ]
     },
     "execution_count": 15,
     "metadata": {},
     "output_type": "execute_result"
    }
   ],
   "source": [
    "# nie jest to dokładnie 0, ale ...\n",
    "iszero(g(x))"
   ]
  },
  {
   "cell_type": "code",
   "execution_count": 16,
   "metadata": {
    "tags": []
   },
   "outputs": [
    {
     "data": {
      "text/plain": [
       "true"
      ]
     },
     "execution_count": 16,
     "metadata": {},
     "output_type": "execute_result"
    }
   ],
   "source": [
    "#... najbliższy lewy albo prawy sąsiad leży po przeciwnej stronie osi x  niż nasze 0.\n",
    "g(prevfloat(x)) * g(x) < 0.0 || g(x) * g(nextfloat(x)) < 0.0"
   ]
  },
  {
   "cell_type": "markdown",
   "metadata": {},
   "source": [
    "#### 1.2 Metoda regula falsi"
   ]
  },
  {
   "cell_type": "code",
   "execution_count": 17,
   "metadata": {
    "tags": []
   },
   "outputs": [
    {
     "data": {
      "text/plain": [
       "Results of univariate zero finding:\n",
       "\n",
       "* Converged to: 9.094947017729282e-13\n",
       "* Algorithm: FalsePosition{:anderson_bjork}()\n",
       "* iterations: 40\n",
       "* function evaluations ≈ 42\n",
       "\n",
       "Trace:\n",
       "x₁ = 0,\t fx₁ = 0\n",
       "x₂ = 1,\t fx₂ = 0.8414709848078965\n",
       "x₃ = 0.5,\t fx₃ = 0.47942553860420301\n",
       "x₄ = 0.25,\t fx₄ = 0.24740395925452294\n",
       "x₅ = 0.125,\t fx₅ = 0.12467473338522769\n",
       "x₆ = 0.0625,\t fx₆ = 0.062459317842380201\n",
       "x₇ = 0.03125,\t fx₇ = 0.03124491398532608\n",
       "x₈ = 0.015625,\t fx₈ = 0.015624364224883372\n",
       "x₉ = 0.0078125,\t fx₉ = 0.0078124205273828315\n",
       "x₁₀ = 0.00390625,\t fx₁₀ = 0.0039062400659001166\n",
       "x₁₁ = 0.001953125,\t fx₁₁ = 0.001953123758236804\n",
       "x₁₂ = 0.0009765625,\t fx₁₂ = 0.00097656234477957831\n",
       "x₁₃ = 0.00048828125,\t fx₁₃ = 0.0004882812305974466\n",
       "x₁₄ = 0.000244140625,\t fx₁₄ = 0.0002441406225746808\n",
       "x₁₅ = 0.0001220703125,\t fx₁₅ = 0.0001220703121968351\n",
       "x₁₆ = 6.103515625e-05,\t fx₁₆ = 6.103515621210439e-05\n",
       "x₁₇ = 3.0517578125e-05,\t fx₁₇ = 3.051757812026305e-05\n",
       "x₁₈ = 1.52587890625e-05,\t fx₁₈ = 1.5258789061907882e-05\n",
       "x₁₉ = 7.62939453125e-06,\t fx₁₉ = 7.6293945311759854e-06\n",
       "x₂₀ = 3.814697265625e-06,\t fx₂₀ = 3.8146972656157483e-06\n",
       "x₂₁ = 1.9073486328125e-06,\t fx₂₁ = 1.9073486328113436e-06\n",
       "x₂₂ = 9.5367431640625e-07,\t fx₂₂ = 9.5367431640610548e-07\n",
       "x₂₃ = 4.76837158203125e-07,\t fx₂₃ = 4.7683715820310695e-07\n",
       "x₂₄ = 2.384185791015625e-07,\t fx₂₄ = 2.3841857910156025e-07\n",
       "x₂₅ = 1.1920928955078125e-07,\t fx₂₅ = 1.1920928955078097e-07\n",
       "x₂₆ = 5.9604644775390625e-08,\t fx₂₆ = 5.9604644775390592e-08\n",
       "x₂₇ = 2.9802322387695312e-08,\t fx₂₇ = 2.9802322387695309e-08\n",
       "x₂₈ = 1.4901161193847656e-08,\t fx₂₈ = 1.4901161193847656e-08\n",
       "x₂₉ = 7.4505805969238281e-09,\t fx₂₉ = 7.4505805969238281e-09\n",
       "x₃₀ = 3.7252902984619141e-09,\t fx₃₀ = 3.7252902984619141e-09\n",
       "x₃₁ = 1.862645149230957e-09,\t fx₃₁ = 1.862645149230957e-09\n",
       "x₃₂ = 9.3132257461547852e-10,\t fx₃₂ = 9.3132257461547852e-10\n",
       "x₃₃ = 4.6566128730773926e-10,\t fx₃₃ = 4.6566128730773926e-10\n",
       "x₃₄ = 2.3283064365386963e-10,\t fx₃₄ = 2.3283064365386963e-10\n",
       "x₃₅ = 1.1641532182693481e-10,\t fx₃₅ = 1.1641532182693481e-10\n",
       "x₃₆ = 5.8207660913467407e-11,\t fx₃₆ = 5.8207660913467407e-11\n",
       "x₃₇ = 2.9103830456733704e-11,\t fx₃₇ = 2.9103830456733704e-11\n",
       "x₃₈ = 1.4551915228366852e-11,\t fx₃₈ = 1.4551915228366852e-11\n",
       "x₃₉ = 7.2759576141834259e-12,\t fx₃₉ = 7.2759576141834259e-12\n",
       "x₄₀ = 3.637978807091713e-12,\t fx₄₀ = 3.637978807091713e-12\n",
       "x₄₁ = 1.8189894035458565e-12,\t fx₄₁ = 1.8189894035458565e-12\n",
       "x₄₂ = 9.0949470177292824e-13,\t fx₄₂ = 9.0949470177292824e-13\n",
       "\n"
      ]
     },
     "metadata": {},
     "output_type": "display_data"
    },
    {
     "data": {
      "text/plain": [
       "9.094947017729282e-13"
      ]
     },
     "execution_count": 17,
     "metadata": {},
     "output_type": "execute_result"
    }
   ],
   "source": [
    "find_zero(f, (0, 1), FalsePosition(), verbose=true) "
   ]
  },
  {
   "cell_type": "code",
   "execution_count": 18,
   "metadata": {
    "tags": []
   },
   "outputs": [
    {
     "data": {
      "text/plain": [
       "Results of univariate zero finding:\n",
       "\n",
       "* Converged to: 8.881784197001252e-16\n",
       "* Algorithm: FalsePosition{12}()\n",
       "* iterations: 50\n",
       "* function evaluations ≈ 52\n",
       "* stopped as |f(x_n)| ≤ max(δ, |x|⋅ϵ) using δ = atol, ϵ = rtol\n",
       "\n",
       "Trace:\n",
       "x₁ = 0,\t fx₁ = 0\n",
       "x₂ = 1,\t fx₂ = 0.8414709848078965\n",
       "x₃ = 0.5,\t fx₃ = 0.47942553860420301\n",
       "x₄ = 0.25,\t fx₄ = 0.24740395925452294\n",
       "x₅ = 0.125,\t fx₅ = 0.12467473338522769\n",
       "x₆ = 0.0625,\t fx₆ = 0.062459317842380201\n",
       "x₇ = 0.03125,\t fx₇ = 0.03124491398532608\n",
       "x₈ = 0.015625,\t fx₈ = 0.015624364224883372\n",
       "x₉ = 0.0078125,\t fx₉ = 0.0078124205273828315\n",
       "x₁₀ = 0.00390625,\t fx₁₀ = 0.0039062400659001166\n",
       "x₁₁ = 0.001953125,\t fx₁₁ = 0.001953123758236804\n",
       "x₁₂ = 0.0009765625,\t fx₁₂ = 0.00097656234477957831\n",
       "x₁₃ = 0.00048828125,\t fx₁₃ = 0.0004882812305974466\n",
       "x₁₄ = 0.000244140625,\t fx₁₄ = 0.0002441406225746808\n",
       "x₁₅ = 0.0001220703125,\t fx₁₅ = 0.0001220703121968351\n",
       "x₁₆ = 6.103515625e-05,\t fx₁₆ = 6.103515621210439e-05\n",
       "x₁₇ = 3.0517578125e-05,\t fx₁₇ = 3.051757812026305e-05\n",
       "x₁₈ = 1.52587890625e-05,\t fx₁₈ = 1.5258789061907882e-05\n",
       "x₁₉ = 7.62939453125e-06,\t fx₁₉ = 7.6293945311759854e-06\n",
       "x₂₀ = 3.814697265625e-06,\t fx₂₀ = 3.8146972656157483e-06\n",
       "x₂₁ = 1.9073486328125e-06,\t fx₂₁ = 1.9073486328113436e-06\n",
       "x₂₂ = 9.5367431640625e-07,\t fx₂₂ = 9.5367431640610548e-07\n",
       "x₂₃ = 4.76837158203125e-07,\t fx₂₃ = 4.7683715820310695e-07\n",
       "x₂₄ = 2.384185791015625e-07,\t fx₂₄ = 2.3841857910156025e-07\n",
       "x₂₅ = 1.1920928955078125e-07,\t fx₂₅ = 1.1920928955078097e-07\n",
       "x₂₆ = 5.9604644775390625e-08,\t fx₂₆ = 5.9604644775390592e-08\n",
       "x₂₇ = 2.9802322387695312e-08,\t fx₂₇ = 2.9802322387695309e-08\n",
       "x₂₈ = 1.4901161193847656e-08,\t fx₂₈ = 1.4901161193847656e-08\n",
       "x₂₉ = 7.4505805969238281e-09,\t fx₂₉ = 7.4505805969238281e-09\n",
       "x₃₀ = 3.7252902984619141e-09,\t fx₃₀ = 3.7252902984619141e-09\n",
       "x₃₁ = 1.862645149230957e-09,\t fx₃₁ = 1.862645149230957e-09\n",
       "x₃₂ = 9.3132257461547852e-10,\t fx₃₂ = 9.3132257461547852e-10\n",
       "x₃₃ = 4.6566128730773926e-10,\t fx₃₃ = 4.6566128730773926e-10\n",
       "x₃₄ = 2.3283064365386963e-10,\t fx₃₄ = 2.3283064365386963e-10\n",
       "x₃₅ = 1.1641532182693481e-10,\t fx₃₅ = 1.1641532182693481e-10\n",
       "x₃₆ = 5.8207660913467407e-11,\t fx₃₆ = 5.8207660913467407e-11\n",
       "x₃₇ = 2.9103830456733704e-11,\t fx₃₇ = 2.9103830456733704e-11\n",
       "x₃₈ = 1.4551915228366852e-11,\t fx₃₈ = 1.4551915228366852e-11\n",
       "x₃₉ = 7.2759576141834259e-12,\t fx₃₉ = 7.2759576141834259e-12\n",
       "x₄₀ = 3.637978807091713e-12,\t fx₄₀ = 3.637978807091713e-12\n",
       "x₄₁ = 1.8189894035458565e-12,\t fx₄₁ = 1.8189894035458565e-12\n",
       "x₄₂ = 9.0949470177292824e-13,\t fx₄₂ = 9.0949470177292824e-13\n",
       "x₄₃ = 4.5474735088646412e-13,\t fx₄₃ = 4.5474735088646412e-13\n",
       "x₄₄ = 2.2737367544323206e-13,\t fx₄₄ = 2.2737367544323206e-13\n",
       "x₄₅ = 1.1368683772161603e-13,\t fx₄₅ = 1.1368683772161603e-13\n",
       "x₄₆ = 5.6843418860808015e-14,\t fx₄₆ = 5.6843418860808015e-14\n",
       "x₄₇ = 2.8421709430404007e-14,\t fx₄₇ = 2.8421709430404007e-14\n",
       "x₄₈ = 1.4210854715202004e-14,\t fx₄₈ = 1.4210854715202004e-14\n",
       "x₄₉ = 7.1054273576010019e-15,\t fx₄₉ = 7.1054273576010019e-15\n",
       "x₅₀ = 3.5527136788005009e-15,\t fx₅₀ = 3.5527136788005009e-15\n",
       "x₅₁ = 1.7763568394002505e-15,\t fx₅₁ = 1.7763568394002505e-15\n",
       "x₅₂ = 8.8817841970012523e-16,\t fx₅₂ = 8.8817841970012523e-16\n",
       "\n"
      ]
     },
     "metadata": {},
     "output_type": "display_data"
    },
    {
     "data": {
      "text/plain": [
       "8.881784197001252e-16"
      ]
     },
     "execution_count": 18,
     "metadata": {},
     "output_type": "execute_result"
    }
   ],
   "source": [
    "# do dyspozycji mamy  12 wersji algorytmu regula falsi\n",
    "find_zero(f, (0, 1), FalsePosition(12), verbose=true)"
   ]
  },
  {
   "cell_type": "markdown",
   "metadata": {},
   "source": [
    "### 2. Metody korzystające z pochodnych\n",
    "\n",
    "#### 2.1 Metoda Newtona, potrzebuje punktu startowego i wykorzystuje pochodną funkcji."
   ]
  },
  {
   "cell_type": "markdown",
   "metadata": {},
   "source": [
    "Aby użyć Metody Newtona, można skorzystać z pakietu ForwardDiff, aby obliczyć pochodną funkcji. "
   ]
  },
  {
   "cell_type": "code",
   "execution_count": 19,
   "metadata": {
    "tags": []
   },
   "outputs": [
    {
     "data": {
      "text/plain": [
       "D (generic function with 1 method)"
      ]
     },
     "execution_count": 19,
     "metadata": {},
     "output_type": "execute_result"
    }
   ],
   "source": [
    "# definujemy D(f) obliczającą  funkcje pochodną \n",
    "D(f) = x->ForwardDiff.derivative(f, float(x))"
   ]
  },
  {
   "cell_type": "code",
   "execution_count": 20,
   "metadata": {
    "tags": []
   },
   "outputs": [
    {
     "data": {
      "image/svg+xml": [
       "<?xml version=\"1.0\" encoding=\"utf-8\"?>\n",
       "<svg xmlns=\"http://www.w3.org/2000/svg\" xmlns:xlink=\"http://www.w3.org/1999/xlink\" width=\"600\" height=\"400\" viewBox=\"0 0 2400 1600\">\n",
       "<defs>\n",
       "  <clipPath id=\"clip950\">\n",
       "    <rect x=\"0\" y=\"0\" width=\"2400\" height=\"1600\"/>\n",
       "  </clipPath>\n",
       "</defs>\n",
       "<path clip-path=\"url(#clip950)\" d=\"M0 1600 L2400 1600 L2400 0 L0 0  Z\" fill=\"#ffffff\" fill-rule=\"evenodd\" fill-opacity=\"1\"/>\n",
       "<defs>\n",
       "  <clipPath id=\"clip951\">\n",
       "    <rect x=\"480\" y=\"0\" width=\"1681\" height=\"1600\"/>\n",
       "  </clipPath>\n",
       "</defs>\n",
       "<path clip-path=\"url(#clip950)\" d=\"M193.288 1486.45 L2352.76 1486.45 L2352.76 47.2441 L193.288 47.2441  Z\" fill=\"#ffffff\" fill-rule=\"evenodd\" fill-opacity=\"1\"/>\n",
       "<defs>\n",
       "  <clipPath id=\"clip952\">\n",
       "    <rect x=\"193\" y=\"47\" width=\"2160\" height=\"1440\"/>\n",
       "  </clipPath>\n",
       "</defs>\n",
       "<polyline clip-path=\"url(#clip952)\" style=\"stroke:#000000; stroke-linecap:round; stroke-linejoin:round; stroke-width:2; stroke-opacity:0.1; fill:none\" points=\"254.405,1486.45 254.405,47.2441 \"/>\n",
       "<polyline clip-path=\"url(#clip952)\" style=\"stroke:#000000; stroke-linecap:round; stroke-linejoin:round; stroke-width:2; stroke-opacity:0.1; fill:none\" points=\"763.713,1486.45 763.713,47.2441 \"/>\n",
       "<polyline clip-path=\"url(#clip952)\" style=\"stroke:#000000; stroke-linecap:round; stroke-linejoin:round; stroke-width:2; stroke-opacity:0.1; fill:none\" points=\"1273.02,1486.45 1273.02,47.2441 \"/>\n",
       "<polyline clip-path=\"url(#clip952)\" style=\"stroke:#000000; stroke-linecap:round; stroke-linejoin:round; stroke-width:2; stroke-opacity:0.1; fill:none\" points=\"1782.33,1486.45 1782.33,47.2441 \"/>\n",
       "<polyline clip-path=\"url(#clip952)\" style=\"stroke:#000000; stroke-linecap:round; stroke-linejoin:round; stroke-width:2; stroke-opacity:0.1; fill:none\" points=\"2291.64,1486.45 2291.64,47.2441 \"/>\n",
       "<polyline clip-path=\"url(#clip950)\" style=\"stroke:#000000; stroke-linecap:round; stroke-linejoin:round; stroke-width:4; stroke-opacity:1; fill:none\" points=\"193.288,1486.45 2352.76,1486.45 \"/>\n",
       "<polyline clip-path=\"url(#clip950)\" style=\"stroke:#000000; stroke-linecap:round; stroke-linejoin:round; stroke-width:4; stroke-opacity:1; fill:none\" points=\"254.405,1486.45 254.405,1467.55 \"/>\n",
       "<polyline clip-path=\"url(#clip950)\" style=\"stroke:#000000; stroke-linecap:round; stroke-linejoin:round; stroke-width:4; stroke-opacity:1; fill:none\" points=\"763.713,1486.45 763.713,1467.55 \"/>\n",
       "<polyline clip-path=\"url(#clip950)\" style=\"stroke:#000000; stroke-linecap:round; stroke-linejoin:round; stroke-width:4; stroke-opacity:1; fill:none\" points=\"1273.02,1486.45 1273.02,1467.55 \"/>\n",
       "<polyline clip-path=\"url(#clip950)\" style=\"stroke:#000000; stroke-linecap:round; stroke-linejoin:round; stroke-width:4; stroke-opacity:1; fill:none\" points=\"1782.33,1486.45 1782.33,1467.55 \"/>\n",
       "<polyline clip-path=\"url(#clip950)\" style=\"stroke:#000000; stroke-linecap:round; stroke-linejoin:round; stroke-width:4; stroke-opacity:1; fill:none\" points=\"2291.64,1486.45 2291.64,1467.55 \"/>\n",
       "<path clip-path=\"url(#clip950)\" d=\"M224.347 1532.02 L254.023 1532.02 L254.023 1535.95 L224.347 1535.95 L224.347 1532.02 Z\" fill=\"#000000\" fill-rule=\"evenodd\" fill-opacity=\"1\" /><path clip-path=\"url(#clip950)\" d=\"M268.143 1544.91 L284.463 1544.91 L284.463 1548.85 L262.518 1548.85 L262.518 1544.91 Q265.18 1542.16 269.764 1537.53 Q274.37 1532.88 275.551 1531.53 Q277.796 1529.01 278.676 1527.27 Q279.578 1525.51 279.578 1523.82 Q279.578 1521.07 277.634 1519.33 Q275.713 1517.6 272.611 1517.6 Q270.412 1517.6 267.958 1518.36 Q265.527 1519.13 262.75 1520.68 L262.75 1515.95 Q265.574 1514.82 268.027 1514.24 Q270.481 1513.66 272.518 1513.66 Q277.889 1513.66 281.083 1516.35 Q284.277 1519.03 284.277 1523.52 Q284.277 1525.65 283.467 1527.57 Q282.68 1529.47 280.574 1532.07 Q279.995 1532.74 276.893 1535.95 Q273.791 1539.15 268.143 1544.91 Z\" fill=\"#000000\" fill-rule=\"evenodd\" fill-opacity=\"1\" /><path clip-path=\"url(#clip950)\" d=\"M733.47 1532.02 L763.146 1532.02 L763.146 1535.95 L733.47 1535.95 L733.47 1532.02 Z\" fill=\"#000000\" fill-rule=\"evenodd\" fill-opacity=\"1\" /><path clip-path=\"url(#clip950)\" d=\"M774.049 1544.91 L781.688 1544.91 L781.688 1518.55 L773.378 1520.21 L773.378 1515.95 L781.642 1514.29 L786.317 1514.29 L786.317 1544.91 L793.956 1544.91 L793.956 1548.85 L774.049 1548.85 L774.049 1544.91 Z\" fill=\"#000000\" fill-rule=\"evenodd\" fill-opacity=\"1\" /><path clip-path=\"url(#clip950)\" d=\"M1273.02 1517.37 Q1269.41 1517.37 1267.58 1520.93 Q1265.78 1524.47 1265.78 1531.6 Q1265.78 1538.71 1267.58 1542.27 Q1269.41 1545.82 1273.02 1545.82 Q1276.66 1545.82 1278.46 1542.27 Q1280.29 1538.71 1280.29 1531.6 Q1280.29 1524.47 1278.46 1520.93 Q1276.66 1517.37 1273.02 1517.37 M1273.02 1513.66 Q1278.83 1513.66 1281.89 1518.27 Q1284.97 1522.85 1284.97 1531.6 Q1284.97 1540.33 1281.89 1544.94 Q1278.83 1549.52 1273.02 1549.52 Q1267.21 1549.52 1264.13 1544.94 Q1261.08 1540.33 1261.08 1531.6 Q1261.08 1522.85 1264.13 1518.27 Q1267.21 1513.66 1273.02 1513.66 Z\" fill=\"#000000\" fill-rule=\"evenodd\" fill-opacity=\"1\" /><path clip-path=\"url(#clip950)\" d=\"M1772.71 1544.91 L1780.35 1544.91 L1780.35 1518.55 L1772.04 1520.21 L1772.04 1515.95 L1780.3 1514.29 L1784.98 1514.29 L1784.98 1544.91 L1792.62 1544.91 L1792.62 1548.85 L1772.71 1548.85 L1772.71 1544.91 Z\" fill=\"#000000\" fill-rule=\"evenodd\" fill-opacity=\"1\" /><path clip-path=\"url(#clip950)\" d=\"M2286.29 1544.91 L2302.61 1544.91 L2302.61 1548.85 L2280.67 1548.85 L2280.67 1544.91 Q2283.33 1542.16 2287.91 1537.53 Q2292.52 1532.88 2293.7 1531.53 Q2295.94 1529.01 2296.82 1527.27 Q2297.73 1525.51 2297.73 1523.82 Q2297.73 1521.07 2295.78 1519.33 Q2293.86 1517.6 2290.76 1517.6 Q2288.56 1517.6 2286.11 1518.36 Q2283.68 1519.13 2280.9 1520.68 L2280.9 1515.95 Q2283.72 1514.82 2286.18 1514.24 Q2288.63 1513.66 2290.67 1513.66 Q2296.04 1513.66 2299.23 1516.35 Q2302.43 1519.03 2302.43 1523.52 Q2302.43 1525.65 2301.62 1527.57 Q2300.83 1529.47 2298.72 1532.07 Q2298.14 1532.74 2295.04 1535.95 Q2291.94 1539.15 2286.29 1544.91 Z\" fill=\"#000000\" fill-rule=\"evenodd\" fill-opacity=\"1\" /><polyline clip-path=\"url(#clip952)\" style=\"stroke:#000000; stroke-linecap:round; stroke-linejoin:round; stroke-width:2; stroke-opacity:0.1; fill:none\" points=\"193.288,1334.36 2352.76,1334.36 \"/>\n",
       "<polyline clip-path=\"url(#clip952)\" style=\"stroke:#000000; stroke-linecap:round; stroke-linejoin:round; stroke-width:2; stroke-opacity:0.1; fill:none\" points=\"193.288,1046.72 2352.76,1046.72 \"/>\n",
       "<polyline clip-path=\"url(#clip952)\" style=\"stroke:#000000; stroke-linecap:round; stroke-linejoin:round; stroke-width:2; stroke-opacity:0.1; fill:none\" points=\"193.288,759.085 2352.76,759.085 \"/>\n",
       "<polyline clip-path=\"url(#clip952)\" style=\"stroke:#000000; stroke-linecap:round; stroke-linejoin:round; stroke-width:2; stroke-opacity:0.1; fill:none\" points=\"193.288,471.45 2352.76,471.45 \"/>\n",
       "<polyline clip-path=\"url(#clip952)\" style=\"stroke:#000000; stroke-linecap:round; stroke-linejoin:round; stroke-width:2; stroke-opacity:0.1; fill:none\" points=\"193.288,183.815 2352.76,183.815 \"/>\n",
       "<polyline clip-path=\"url(#clip950)\" style=\"stroke:#000000; stroke-linecap:round; stroke-linejoin:round; stroke-width:4; stroke-opacity:1; fill:none\" points=\"193.288,1486.45 193.288,47.2441 \"/>\n",
       "<polyline clip-path=\"url(#clip950)\" style=\"stroke:#000000; stroke-linecap:round; stroke-linejoin:round; stroke-width:4; stroke-opacity:1; fill:none\" points=\"193.288,1334.36 212.185,1334.36 \"/>\n",
       "<polyline clip-path=\"url(#clip950)\" style=\"stroke:#000000; stroke-linecap:round; stroke-linejoin:round; stroke-width:4; stroke-opacity:1; fill:none\" points=\"193.288,1046.72 212.185,1046.72 \"/>\n",
       "<polyline clip-path=\"url(#clip950)\" style=\"stroke:#000000; stroke-linecap:round; stroke-linejoin:round; stroke-width:4; stroke-opacity:1; fill:none\" points=\"193.288,759.085 212.185,759.085 \"/>\n",
       "<polyline clip-path=\"url(#clip950)\" style=\"stroke:#000000; stroke-linecap:round; stroke-linejoin:round; stroke-width:4; stroke-opacity:1; fill:none\" points=\"193.288,471.45 212.185,471.45 \"/>\n",
       "<polyline clip-path=\"url(#clip950)\" style=\"stroke:#000000; stroke-linecap:round; stroke-linejoin:round; stroke-width:4; stroke-opacity:1; fill:none\" points=\"193.288,183.815 212.185,183.815 \"/>\n",
       "<path clip-path=\"url(#clip950)\" d=\"M50.9921 1334.81 L80.6679 1334.81 L80.6679 1338.74 L50.9921 1338.74 L50.9921 1334.81 Z\" fill=\"#000000\" fill-rule=\"evenodd\" fill-opacity=\"1\" /><path clip-path=\"url(#clip950)\" d=\"M100.76 1320.15 Q97.1493 1320.15 95.3206 1323.72 Q93.515 1327.26 93.515 1334.39 Q93.515 1341.5 95.3206 1345.06 Q97.1493 1348.6 100.76 1348.6 Q104.395 1348.6 106.2 1345.06 Q108.029 1341.5 108.029 1334.39 Q108.029 1327.26 106.2 1323.72 Q104.395 1320.15 100.76 1320.15 M100.76 1316.45 Q106.571 1316.45 109.626 1321.06 Q112.705 1325.64 112.705 1334.39 Q112.705 1343.12 109.626 1347.72 Q106.571 1352.31 100.76 1352.31 Q94.9502 1352.31 91.8715 1347.72 Q88.816 1343.12 88.816 1334.39 Q88.816 1325.64 91.8715 1321.06 Q94.9502 1316.45 100.76 1316.45 Z\" fill=\"#000000\" fill-rule=\"evenodd\" fill-opacity=\"1\" /><path clip-path=\"url(#clip950)\" d=\"M120.922 1345.76 L125.807 1345.76 L125.807 1351.64 L120.922 1351.64 L120.922 1345.76 Z\" fill=\"#000000\" fill-rule=\"evenodd\" fill-opacity=\"1\" /><path clip-path=\"url(#clip950)\" d=\"M150.158 1333 Q153.515 1333.72 155.39 1335.99 Q157.288 1338.26 157.288 1341.59 Q157.288 1346.71 153.769 1349.51 Q150.251 1352.31 143.769 1352.31 Q141.593 1352.31 139.279 1351.87 Q136.987 1351.45 134.533 1350.59 L134.533 1346.08 Q136.478 1347.21 138.793 1347.79 Q141.107 1348.37 143.631 1348.37 Q148.029 1348.37 150.32 1346.64 Q152.635 1344.9 152.635 1341.59 Q152.635 1338.53 150.482 1336.82 Q148.353 1335.09 144.533 1335.09 L140.506 1335.09 L140.506 1331.24 L144.718 1331.24 Q148.168 1331.24 149.996 1329.88 Q151.825 1328.49 151.825 1325.9 Q151.825 1323.23 149.927 1321.82 Q148.052 1320.39 144.533 1320.39 Q142.612 1320.39 140.413 1320.8 Q138.214 1321.22 135.575 1322.1 L135.575 1317.93 Q138.237 1317.19 140.552 1316.82 Q142.89 1316.45 144.95 1316.45 Q150.274 1316.45 153.376 1318.88 Q156.478 1321.29 156.478 1325.41 Q156.478 1328.28 154.834 1330.27 Q153.191 1332.24 150.158 1333 Z\" fill=\"#000000\" fill-rule=\"evenodd\" fill-opacity=\"1\" /><path clip-path=\"url(#clip950)\" d=\"M100.112 1032.52 Q96.5011 1032.52 94.6724 1036.08 Q92.8669 1039.63 92.8669 1046.76 Q92.8669 1053.86 94.6724 1057.43 Q96.5011 1060.97 100.112 1060.97 Q103.746 1060.97 105.552 1057.43 Q107.381 1053.86 107.381 1046.76 Q107.381 1039.63 105.552 1036.08 Q103.746 1032.52 100.112 1032.52 M100.112 1028.82 Q105.922 1028.82 108.978 1033.42 Q112.057 1038.01 112.057 1046.76 Q112.057 1055.48 108.978 1060.09 Q105.922 1064.67 100.112 1064.67 Q94.3021 1064.67 91.2234 1060.09 Q88.1679 1055.48 88.1679 1046.76 Q88.1679 1038.01 91.2234 1033.42 Q94.3021 1028.82 100.112 1028.82 Z\" fill=\"#000000\" fill-rule=\"evenodd\" fill-opacity=\"1\" /><path clip-path=\"url(#clip950)\" d=\"M120.274 1058.12 L125.158 1058.12 L125.158 1064 L120.274 1064 L120.274 1058.12 Z\" fill=\"#000000\" fill-rule=\"evenodd\" fill-opacity=\"1\" /><path clip-path=\"url(#clip950)\" d=\"M145.343 1032.52 Q141.732 1032.52 139.904 1036.08 Q138.098 1039.63 138.098 1046.76 Q138.098 1053.86 139.904 1057.43 Q141.732 1060.97 145.343 1060.97 Q148.978 1060.97 150.783 1057.43 Q152.612 1053.86 152.612 1046.76 Q152.612 1039.63 150.783 1036.08 Q148.978 1032.52 145.343 1032.52 M145.343 1028.82 Q151.154 1028.82 154.209 1033.42 Q157.288 1038.01 157.288 1046.76 Q157.288 1055.48 154.209 1060.09 Q151.154 1064.67 145.343 1064.67 Q139.533 1064.67 136.455 1060.09 Q133.399 1055.48 133.399 1046.76 Q133.399 1038.01 136.455 1033.42 Q139.533 1028.82 145.343 1028.82 Z\" fill=\"#000000\" fill-rule=\"evenodd\" fill-opacity=\"1\" /><path clip-path=\"url(#clip950)\" d=\"M100.76 744.884 Q97.1493 744.884 95.3206 748.449 Q93.515 751.991 93.515 759.12 Q93.515 766.227 95.3206 769.791 Q97.1493 773.333 100.76 773.333 Q104.395 773.333 106.2 769.791 Q108.029 766.227 108.029 759.12 Q108.029 751.991 106.2 748.449 Q104.395 744.884 100.76 744.884 M100.76 741.181 Q106.571 741.181 109.626 745.787 Q112.705 750.37 112.705 759.12 Q112.705 767.847 109.626 772.453 Q106.571 777.037 100.76 777.037 Q94.9502 777.037 91.8715 772.453 Q88.816 767.847 88.816 759.12 Q88.816 750.37 91.8715 745.787 Q94.9502 741.181 100.76 741.181 Z\" fill=\"#000000\" fill-rule=\"evenodd\" fill-opacity=\"1\" /><path clip-path=\"url(#clip950)\" d=\"M120.922 770.486 L125.807 770.486 L125.807 776.365 L120.922 776.365 L120.922 770.486 Z\" fill=\"#000000\" fill-rule=\"evenodd\" fill-opacity=\"1\" /><path clip-path=\"url(#clip950)\" d=\"M150.158 757.731 Q153.515 758.449 155.39 760.717 Q157.288 762.986 157.288 766.319 Q157.288 771.435 153.769 774.236 Q150.251 777.037 143.769 777.037 Q141.593 777.037 139.279 776.597 Q136.987 776.18 134.533 775.324 L134.533 770.81 Q136.478 771.944 138.793 772.523 Q141.107 773.102 143.631 773.102 Q148.029 773.102 150.32 771.366 Q152.635 769.629 152.635 766.319 Q152.635 763.264 150.482 761.551 Q148.353 759.815 144.533 759.815 L140.506 759.815 L140.506 755.972 L144.718 755.972 Q148.168 755.972 149.996 754.606 Q151.825 753.217 151.825 750.625 Q151.825 747.963 149.927 746.551 Q148.052 745.116 144.533 745.116 Q142.612 745.116 140.413 745.532 Q138.214 745.949 135.575 746.829 L135.575 742.662 Q138.237 741.921 140.552 741.551 Q142.89 741.181 144.95 741.181 Q150.274 741.181 153.376 743.611 Q156.478 746.018 156.478 750.139 Q156.478 753.009 154.834 755 Q153.191 756.967 150.158 757.731 Z\" fill=\"#000000\" fill-rule=\"evenodd\" fill-opacity=\"1\" /><path clip-path=\"url(#clip950)\" d=\"M99.9502 457.249 Q96.3391 457.249 94.5104 460.814 Q92.7049 464.355 92.7049 471.485 Q92.7049 478.591 94.5104 482.156 Q96.3391 485.698 99.9502 485.698 Q103.584 485.698 105.39 482.156 Q107.219 478.591 107.219 471.485 Q107.219 464.355 105.39 460.814 Q103.584 457.249 99.9502 457.249 M99.9502 453.545 Q105.76 453.545 108.816 458.152 Q111.895 462.735 111.895 471.485 Q111.895 480.212 108.816 484.818 Q105.76 489.402 99.9502 489.402 Q94.14 489.402 91.0614 484.818 Q88.0058 480.212 88.0058 471.485 Q88.0058 462.735 91.0614 458.152 Q94.14 453.545 99.9502 453.545 Z\" fill=\"#000000\" fill-rule=\"evenodd\" fill-opacity=\"1\" /><path clip-path=\"url(#clip950)\" d=\"M120.112 482.851 L124.996 482.851 L124.996 488.73 L120.112 488.73 L120.112 482.851 Z\" fill=\"#000000\" fill-rule=\"evenodd\" fill-opacity=\"1\" /><path clip-path=\"url(#clip950)\" d=\"M145.76 469.587 Q142.612 469.587 140.76 471.74 Q138.931 473.892 138.931 477.642 Q138.931 481.369 140.76 483.545 Q142.612 485.698 145.76 485.698 Q148.908 485.698 150.737 483.545 Q152.589 481.369 152.589 477.642 Q152.589 473.892 150.737 471.74 Q148.908 469.587 145.76 469.587 M155.042 454.934 L155.042 459.193 Q153.283 458.36 151.478 457.92 Q149.695 457.48 147.936 457.48 Q143.306 457.48 140.853 460.605 Q138.422 463.73 138.075 470.05 Q139.441 468.036 141.501 466.971 Q143.561 465.883 146.038 465.883 Q151.246 465.883 154.255 469.054 Q157.288 472.203 157.288 477.642 Q157.288 482.966 154.14 486.184 Q150.992 489.402 145.76 489.402 Q139.765 489.402 136.594 484.818 Q133.422 480.212 133.422 471.485 Q133.422 463.291 137.311 458.43 Q141.2 453.545 147.751 453.545 Q149.51 453.545 151.293 453.892 Q153.098 454.24 155.042 454.934 Z\" fill=\"#000000\" fill-rule=\"evenodd\" fill-opacity=\"1\" /><path clip-path=\"url(#clip950)\" d=\"M100.297 169.614 Q96.6863 169.614 94.8576 173.179 Q93.0521 176.72 93.0521 183.85 Q93.0521 190.956 94.8576 194.521 Q96.6863 198.063 100.297 198.063 Q103.932 198.063 105.737 194.521 Q107.566 190.956 107.566 183.85 Q107.566 176.72 105.737 173.179 Q103.932 169.614 100.297 169.614 M100.297 165.91 Q106.108 165.91 109.163 170.517 Q112.242 175.1 112.242 183.85 Q112.242 192.577 109.163 197.183 Q106.108 201.766 100.297 201.766 Q94.4873 201.766 91.4086 197.183 Q88.353 192.577 88.353 183.85 Q88.353 175.1 91.4086 170.517 Q94.4873 165.91 100.297 165.91 Z\" fill=\"#000000\" fill-rule=\"evenodd\" fill-opacity=\"1\" /><path clip-path=\"url(#clip950)\" d=\"M120.459 195.215 L125.344 195.215 L125.344 201.095 L120.459 201.095 L120.459 195.215 Z\" fill=\"#000000\" fill-rule=\"evenodd\" fill-opacity=\"1\" /><path clip-path=\"url(#clip950)\" d=\"M135.668 200.377 L135.668 196.118 Q137.427 196.952 139.232 197.391 Q141.038 197.831 142.774 197.831 Q147.404 197.831 149.834 194.729 Q152.288 191.604 152.635 185.262 Q151.293 187.253 149.232 188.317 Q147.172 189.382 144.672 189.382 Q139.487 189.382 136.455 186.257 Q133.445 183.109 133.445 177.669 Q133.445 172.345 136.594 169.128 Q139.742 165.91 144.973 165.91 Q150.968 165.91 154.117 170.517 Q157.288 175.1 157.288 183.85 Q157.288 192.021 153.399 196.905 Q149.533 201.766 142.982 201.766 Q141.223 201.766 139.418 201.419 Q137.612 201.072 135.668 200.377 M144.973 185.725 Q148.121 185.725 149.95 183.572 Q151.802 181.419 151.802 177.669 Q151.802 173.942 149.95 171.79 Q148.121 169.614 144.973 169.614 Q141.825 169.614 139.973 171.79 Q138.144 173.942 138.144 177.669 Q138.144 181.419 139.973 183.572 Q141.825 185.725 144.973 185.725 Z\" fill=\"#000000\" fill-rule=\"evenodd\" fill-opacity=\"1\" /><polyline clip-path=\"url(#clip952)\" style=\"stroke:#009af9; stroke-linecap:round; stroke-linejoin:round; stroke-width:4; stroke-opacity:1; fill:none\" points=\"254.405,1445.72 267.668,1422.88 390.309,1201.71 464.01,1063.65 526.324,946.524 594.014,821.05 656.419,708.85 689.871,650.686 723.323,594.23 762.081,531.277 800.838,471.306 818.06,445.708 835.281,420.797 852.503,396.601 869.724,373.148 899.928,333.892 930.131,297.142 963.061,260.082 995.991,226.309 1012.55,210.61 1029.12,195.795 1045.68,181.88 1062.24,168.879 1080.55,155.587 1098.87,143.446 1117.18,132.472 1135.49,122.681 1152.92,114.473 1170.34,107.357 1187.76,101.339 1205.19,96.4284 1223.3,92.5014 1241.42,89.7817 1259.54,88.2727 1277.65,87.9763 1292.9,88.6671 1308.15,90.2168 1323.4,92.624 1338.65,95.8866 1357.27,101.025 1375.89,107.428 1394.51,115.085 1413.13,123.988 1430.19,133.225 1447.24,143.487 1464.3,154.762 1481.35,167.037 1512.86,192.294 1544.37,220.82 1576.28,252.936 1608.19,288.168 1643.96,331.184 1679.73,377.727 1712.14,422.758 1744.55,470.314 1781.65,527.616 1818.76,587.673 1853.12,645.459 1887.48,705.07 1921.35,765.362 1955.22,826.899 1988.11,887.579 2021,948.921 2088.43,1075.68 2162.31,1213.9 2269.62,1407.67 2291.64,1445.72 \"/>\n",
       "<path clip-path=\"url(#clip950)\" d=\"M2012.4 198.898 L2280.77 198.898 L2280.77 95.2176 L2012.4 95.2176  Z\" fill=\"#ffffff\" fill-rule=\"evenodd\" fill-opacity=\"1\"/>\n",
       "<polyline clip-path=\"url(#clip950)\" style=\"stroke:#000000; stroke-linecap:round; stroke-linejoin:round; stroke-width:4; stroke-opacity:1; fill:none\" points=\"2012.4,198.898 2280.77,198.898 2280.77,95.2176 2012.4,95.2176 2012.4,198.898 \"/>\n",
       "<polyline clip-path=\"url(#clip950)\" style=\"stroke:#009af9; stroke-linecap:round; stroke-linejoin:round; stroke-width:4; stroke-opacity:1; fill:none\" points=\"2036.39,147.058 2180.36,147.058 \"/>\n",
       "<path clip-path=\"url(#clip950)\" d=\"M2218.19 166.745 Q2216.39 171.375 2214.67 172.787 Q2212.96 174.199 2210.09 174.199 L2206.69 174.199 L2206.69 170.634 L2209.19 170.634 Q2210.95 170.634 2211.92 169.8 Q2212.89 168.967 2214.07 165.865 L2214.84 163.921 L2204.35 138.412 L2208.86 138.412 L2216.96 158.689 L2225.07 138.412 L2229.58 138.412 L2218.19 166.745 Z\" fill=\"#000000\" fill-rule=\"evenodd\" fill-opacity=\"1\" /><path clip-path=\"url(#clip950)\" d=\"M2236.87 160.402 L2244.51 160.402 L2244.51 134.037 L2236.2 135.703 L2236.2 131.444 L2244.46 129.778 L2249.14 129.778 L2249.14 160.402 L2256.78 160.402 L2256.78 164.338 L2236.87 164.338 L2236.87 160.402 Z\" fill=\"#000000\" fill-rule=\"evenodd\" fill-opacity=\"1\" /></svg>\n"
      ]
     },
     "execution_count": 20,
     "metadata": {},
     "output_type": "execute_result"
    }
   ],
   "source": [
    "plot(D(f), -2,2)"
   ]
  },
  {
   "cell_type": "code",
   "execution_count": 21,
   "metadata": {
    "tags": []
   },
   "outputs": [
    {
     "data": {
      "text/plain": [
       "Results of univariate zero finding:\n",
       "\n",
       "* Converged to: 0.0\n",
       "* Algorithm: Roots.Newton()\n",
       "* iterations: 1\n",
       "* function evaluations ≈ 2\n",
       "* stopped as f(x_n) = 0\n",
       "\n",
       "Trace:\n",
       "x₁ = 0,\t fx₁ = 0\n",
       "x₂ = 0,\t fx₂ = 0\n",
       "\n"
      ]
     },
     "metadata": {},
     "output_type": "display_data"
    },
    {
     "data": {
      "text/plain": [
       "0.0"
      ]
     },
     "execution_count": 21,
     "metadata": {},
     "output_type": "execute_result"
    }
   ],
   "source": [
    "#wywolanie metody Newtona\n",
    "find_zero((f, D(f)),0, Roots.Newton(),verbose=true)"
   ]
  },
  {
   "cell_type": "markdown",
   "metadata": {},
   "source": [
    "#### 2.2 Metoda Halleya (potrzebuje pierwszej i drugiej pochodnej)"
   ]
  },
  {
   "cell_type": "code",
   "execution_count": 23,
   "metadata": {
    "tags": []
   },
   "outputs": [
    {
     "data": {
      "text/plain": [
       "Results of univariate zero finding:\n",
       "\n",
       "* Converged to: 0.0\n",
       "* Algorithm: Roots.Halley()\n",
       "* iterations: 4\n",
       "* function evaluations ≈ 15\n",
       "* stopped as f(x_n) = 0\n",
       "\n",
       "Trace:\n",
       "x₁ = -1,\t fx₁ = -0.8414709848078965\n",
       "x₂ = -0.29616942658570566,\t fx₂ = -0.29185856092924423\n",
       "x₃ = -0.0045997951946000759,\t fx₃ = -0.0045997789741173134\n",
       "x₄ = -1.6220740160777236e-08,\t fx₄ = -1.6220740160777236e-08\n",
       "x₅ = 0,\t fx₅ = 0\n",
       "\n"
      ]
     },
     "metadata": {},
     "output_type": "display_data"
    },
    {
     "data": {
      "text/plain": [
       "0.0"
      ]
     },
     "execution_count": 23,
     "metadata": {},
     "output_type": "execute_result"
    }
   ],
   "source": [
    "DD(f) = x->ForwardDiff.derivative(D(f), float(x))\n",
    "find_zero((f, D(f), DD(f)), -1, Roots.Halley(), verbose=true) "
   ]
  },
  {
   "cell_type": "markdown",
   "metadata": {},
   "source": [
    "### 3. Metody korzystające z przybliżenia pochodnej"
   ]
  },
  {
   "cell_type": "markdown",
   "metadata": {},
   "source": [
    "#### 3.1 Domyślna metoda bazuje na metodzie z <a href=\"http://www.hpl.hp.com/hpjournal/pdfs/IssuePDFs/1979-12.pdf\"> kalkulatorów HP-34</a> , używa metody siecznych\n",
    "oraz metody bazującej na przedziale wg artykułu:\n",
    "\n",
    "<a href=\"http://na.math.kit.edu/alefeld/download/1995_Algorithm_748_Enclosing_Zeros_of_Continuous_Functions.pdf\">G. E. Alefeld, F. A. Potra, and\n",
    "Y. Shi, \"Algorithm 748: enclosing zeros of continuous functions,\" ACM\n",
    "Trans. Math. Softw. 21, 327–344 (1995), DOI: 10.1145/210089.210111. </a>"
   ]
  },
  {
   "cell_type": "code",
   "execution_count": 17,
   "metadata": {
    "tags": []
   },
   "outputs": [
    {
     "data": {
      "text/plain": [
       "Results of univariate zero finding:\n",
       "\n",
       "* Converged to: 0.7390851332151607\n",
       "* Algorithm: Secant(); finished with bracketing method AlefeldPotraShi()\n",
       "* iterations: 4\n",
       "* function evaluations ≈ 10\n",
       "* stopped as x_n ≈ x_{n-1} using atol=xatol, rtol=xrtol\n",
       "* Note: Used bracketing method AlefeldPotraShi() on  [0.0,0.9999969722835389]\n",
       "\n",
       "Trace:\n",
       "x₁ = 6.0554544523933395e-06,\t fx₁ = 0.99999394452721335\n",
       "x₂ = 0,\t fx₂ = 1\n",
       "x₃ = 0.9999969722835389,\t fx₃ = -0.4596921186823234\n",
       "(a₃, b₃) = ( 0, 0.9999969722835389 )\n",
       "(a₄, b₄) = ( 0.68507389982090516, 0.9999969722835389 )\n",
       "(a₅, b₅) = ( 0.73908449070788018, 0.739085775539707 )\n",
       "(a₆, b₆) = ( 0.73908513321516056, 0.73908513321516078 )\n",
       "\n"
      ]
     },
     "metadata": {},
     "output_type": "display_data"
    },
    {
     "data": {
      "text/plain": [
       "0.7390851332151607"
      ]
     },
     "execution_count": 17,
     "metadata": {},
     "output_type": "execute_result"
    }
   ],
   "source": [
    "x = find_zero(f, 0,   verbose=true)"
   ]
  },
  {
   "cell_type": "markdown",
   "metadata": {},
   "source": [
    "Metody find_zero dla wyzszych rzędów to wariacje metody Newtona, które nie korzystaja z pochodnej, ale ja przyblizają.\n"
   ]
  },
  {
   "cell_type": "markdown",
   "metadata": {},
   "source": [
    "#### 3.2 Metoda siecznych"
   ]
  },
  {
   "cell_type": "code",
   "execution_count": 19,
   "metadata": {
    "tags": []
   },
   "outputs": [
    {
     "data": {
      "text/plain": [
       "Results of univariate zero finding:\n",
       "\n",
       "* Converged to: 0.7390851332151607\n",
       "* Algorithm: Secant()\n",
       "* iterations: 7\n",
       "* function evaluations ≈ 9\n",
       "* stopped as f(x_n) = 0\n",
       "\n",
       "Trace:\n",
       "x₁ = 6.0554544523933395e-06,\t fx₁ = 0.99999394452721335\n",
       "x₂ = 0,\t fx₂ = 1\n",
       "x₃ = 0.9999969722835389,\t fx₃ = -0.4596921186823234\n",
       "x₄ = 0.68507389982090516,\t fx₄ = 0.089298390734211308\n",
       "x₅ = 0.73629905416077657,\t fx₅ = 0.0046599445167858633\n",
       "x₆ = 0.7391193608624661,\t fx₆ = -5.7284235187471388e-05\n",
       "x₇ = 0.73908511212853889,\t fx₇ = 3.5290823707789798e-08\n",
       "x₈ = 0.73908513321500136,\t fx₈ = 2.6656454821250009e-13\n",
       "x₉ = 0.73908513321516067,\t fx₉ = 0\n",
       "\n"
      ]
     },
     "metadata": {},
     "output_type": "display_data"
    },
    {
     "data": {
      "text/plain": [
       "0.7390851332151607"
      ]
     },
     "execution_count": 19,
     "metadata": {},
     "output_type": "execute_result"
    }
   ],
   "source": [
    "# wywołanie find_zero używając punktu startowego (a nie przedziału) \n",
    "# oraz opcji order=1   wykorzystuje metodę siecznych  \n",
    "x = find_zero(f, 0, Order1(),  verbose=true) "
   ]
  },
  {
   "cell_type": "code",
   "execution_count": 20,
   "metadata": {
    "tags": []
   },
   "outputs": [
    {
     "data": {
      "text/plain": [
       "0.7390851332151607"
      ]
     },
     "execution_count": 20,
     "metadata": {},
     "output_type": "execute_result"
    }
   ],
   "source": [
    "# metoda siecznych może być wywołana bezpośrednio \n",
    "# implementacja taka sama jak find_zero(f, 0, Order1()), ale bez\n",
    "# narzutów frameworku oraz mniejsza ilość sprawdzanych warunków zbieżności - szybsza\n",
    "Roots.secant_method(f, 0)"
   ]
  },
  {
   "cell_type": "code",
   "execution_count": 21,
   "metadata": {
    "tags": []
   },
   "outputs": [
    {
     "data": {
      "text/plain": [
       "0.7390851332151607"
      ]
     },
     "execution_count": 21,
     "metadata": {},
     "output_type": "execute_result"
    }
   ],
   "source": [
    "# mozemy podać przedział\n",
    "Roots.secant_method(f, (0,1))"
   ]
  },
  {
   "cell_type": "markdown",
   "metadata": {},
   "source": [
    "#### 3.3 Metoda Steffensena \n",
    "przybliża pochodną poprzez  (f(x + f(x)) - f(x))/f(x)  \n",
    "aby ja wywołać podajemy punkt startowy oraz order 2"
   ]
  },
  {
   "cell_type": "code",
   "execution_count": 22,
   "metadata": {
    "tags": []
   },
   "outputs": [
    {
     "data": {
      "text/plain": [
       "Results of univariate zero finding:\n",
       "\n",
       "* Converged to: 0.7390851332151607\n",
       "* Algorithm: Order2()\n",
       "* iterations: 6\n",
       "* function evaluations ≈ 10\n",
       "* stopped as f(x_n) = 0\n",
       "\n",
       "Trace:\n",
       "x₁ = 6.0554544523933395e-06,\t fx₁ = 0.99999394452721335\n",
       "x₂ = 0,\t fx₂ = 1\n",
       "x₃ = 0.9999969722835389,\t fx₃ = -0.4596921186823234\n",
       "x₄ = 0.68507389982090516,\t fx₄ = 0.089298390734211308\n",
       "x₅ = 0.73629905416077657,\t fx₅ = 0.0046599445167858633\n",
       "x₆ = 0.7391193608624661,\t fx₆ = -5.7284235187471388e-05\n",
       "x₇ = 0.73908513304090806,\t fx₇ = 2.9163127468478933e-10\n",
       "x₈ = 0.73908513321516067,\t fx₈ = 0\n",
       "\n"
      ]
     },
     "metadata": {},
     "output_type": "display_data"
    },
    {
     "data": {
      "text/plain": [
       "0.7390851332151607"
      ]
     },
     "execution_count": 22,
     "metadata": {},
     "output_type": "execute_result"
    }
   ],
   "source": [
    "x = find_zero(f, 0, Order2(), verbose=true) "
   ]
  },
  {
   "cell_type": "code",
   "execution_count": 23,
   "metadata": {
    "tags": []
   },
   "outputs": [
    {
     "data": {
      "text/plain": [
       "Results of univariate zero finding:\n",
       "\n",
       "* Converged to: 0.7390851332151607\n",
       "* Algorithm: Order8()\n",
       "* iterations: 5\n",
       "* function evaluations ≈ 10\n",
       "* stopped as f(x_n) = 0\n",
       "\n",
       "Trace:\n",
       "x₁ = 6.0554544523933395e-06,\t fx₁ = 0.99999394452721335\n",
       "x₂ = 0,\t fx₂ = 1\n",
       "x₃ = 0.9999969722835389,\t fx₃ = -0.4596921186823234\n",
       "x₄ = 0.68507389982090516,\t fx₄ = 0.089298390734211308\n",
       "x₅ = 0.73629905416077657,\t fx₅ = 0.0046599445167858633\n",
       "x₆ = 0.7391193608624661,\t fx₆ = -5.7284235187471388e-05\n",
       "x₇ = 0.73908513321516067,\t fx₇ = 0\n",
       "\n"
      ]
     },
     "metadata": {},
     "output_type": "display_data"
    },
    {
     "data": {
      "text/plain": [
       "0.7390851332151607"
      ]
     },
     "execution_count": 23,
     "metadata": {},
     "output_type": "execute_result"
    }
   ],
   "source": [
    "# mozliwe sa jeszcze rzędy 5, 8 i 16\n",
    "x = find_zero(f, 0, Order8(), verbose=true) "
   ]
  },
  {
   "cell_type": "markdown",
   "metadata": {},
   "source": [
    "Można użyć funkcji fzero do znajdowania nieciagłości"
   ]
  },
  {
   "cell_type": "code",
   "execution_count": 24,
   "metadata": {
    "tags": []
   },
   "outputs": [
    {
     "data": {
      "image/svg+xml": [
       "<?xml version=\"1.0\" encoding=\"utf-8\"?>\n",
       "<svg xmlns=\"http://www.w3.org/2000/svg\" xmlns:xlink=\"http://www.w3.org/1999/xlink\" width=\"600\" height=\"400\" viewBox=\"0 0 2400 1600\">\n",
       "<defs>\n",
       "  <clipPath id=\"clip100\">\n",
       "    <rect x=\"0\" y=\"0\" width=\"2400\" height=\"1600\"/>\n",
       "  </clipPath>\n",
       "</defs>\n",
       "<path clip-path=\"url(#clip100)\" d=\"M0 1600 L2400 1600 L2400 0 L0 0  Z\" fill=\"#ffffff\" fill-rule=\"evenodd\" fill-opacity=\"1\"/>\n",
       "<defs>\n",
       "  <clipPath id=\"clip101\">\n",
       "    <rect x=\"480\" y=\"0\" width=\"1681\" height=\"1600\"/>\n",
       "  </clipPath>\n",
       "</defs>\n",
       "<path clip-path=\"url(#clip100)\" d=\"M209.029 1486.45 L2352.76 1486.45 L2352.76 47.2441 L209.029 47.2441  Z\" fill=\"#ffffff\" fill-rule=\"evenodd\" fill-opacity=\"1\"/>\n",
       "<defs>\n",
       "  <clipPath id=\"clip102\">\n",
       "    <rect x=\"209\" y=\"47\" width=\"2145\" height=\"1440\"/>\n",
       "  </clipPath>\n",
       "</defs>\n",
       "<polyline clip-path=\"url(#clip102)\" style=\"stroke:#000000; stroke-linecap:round; stroke-linejoin:round; stroke-width:2; stroke-opacity:0.1; fill:none\" points=\"471.938,1486.45 471.938,47.2441 \"/>\n",
       "<polyline clip-path=\"url(#clip102)\" style=\"stroke:#000000; stroke-linecap:round; stroke-linejoin:round; stroke-width:2; stroke-opacity:0.1; fill:none\" points=\"876.415,1486.45 876.415,47.2441 \"/>\n",
       "<polyline clip-path=\"url(#clip102)\" style=\"stroke:#000000; stroke-linecap:round; stroke-linejoin:round; stroke-width:2; stroke-opacity:0.1; fill:none\" points=\"1280.89,1486.45 1280.89,47.2441 \"/>\n",
       "<polyline clip-path=\"url(#clip102)\" style=\"stroke:#000000; stroke-linecap:round; stroke-linejoin:round; stroke-width:2; stroke-opacity:0.1; fill:none\" points=\"1685.37,1486.45 1685.37,47.2441 \"/>\n",
       "<polyline clip-path=\"url(#clip102)\" style=\"stroke:#000000; stroke-linecap:round; stroke-linejoin:round; stroke-width:2; stroke-opacity:0.1; fill:none\" points=\"2089.85,1486.45 2089.85,47.2441 \"/>\n",
       "<polyline clip-path=\"url(#clip100)\" style=\"stroke:#000000; stroke-linecap:round; stroke-linejoin:round; stroke-width:4; stroke-opacity:1; fill:none\" points=\"209.029,1486.45 2352.76,1486.45 \"/>\n",
       "<polyline clip-path=\"url(#clip100)\" style=\"stroke:#000000; stroke-linecap:round; stroke-linejoin:round; stroke-width:4; stroke-opacity:1; fill:none\" points=\"471.938,1486.45 471.938,1467.55 \"/>\n",
       "<polyline clip-path=\"url(#clip100)\" style=\"stroke:#000000; stroke-linecap:round; stroke-linejoin:round; stroke-width:4; stroke-opacity:1; fill:none\" points=\"876.415,1486.45 876.415,1467.55 \"/>\n",
       "<polyline clip-path=\"url(#clip100)\" style=\"stroke:#000000; stroke-linecap:round; stroke-linejoin:round; stroke-width:4; stroke-opacity:1; fill:none\" points=\"1280.89,1486.45 1280.89,1467.55 \"/>\n",
       "<polyline clip-path=\"url(#clip100)\" style=\"stroke:#000000; stroke-linecap:round; stroke-linejoin:round; stroke-width:4; stroke-opacity:1; fill:none\" points=\"1685.37,1486.45 1685.37,1467.55 \"/>\n",
       "<polyline clip-path=\"url(#clip100)\" style=\"stroke:#000000; stroke-linecap:round; stroke-linejoin:round; stroke-width:4; stroke-opacity:1; fill:none\" points=\"2089.85,1486.45 2089.85,1467.55 \"/>\n",
       "<path clip-path=\"url(#clip100)\" d=\"M440.839 1532.02 L470.515 1532.02 L470.515 1535.95 L440.839 1535.95 L440.839 1532.02 Z\" fill=\"#000000\" fill-rule=\"evenodd\" fill-opacity=\"1\" /><path clip-path=\"url(#clip100)\" d=\"M493.455 1518.36 L481.649 1536.81 L493.455 1536.81 L493.455 1518.36 M492.228 1514.29 L498.107 1514.29 L498.107 1536.81 L503.038 1536.81 L503.038 1540.7 L498.107 1540.7 L498.107 1548.85 L493.455 1548.85 L493.455 1540.7 L477.853 1540.7 L477.853 1536.19 L492.228 1514.29 Z\" fill=\"#000000\" fill-rule=\"evenodd\" fill-opacity=\"1\" /><path clip-path=\"url(#clip100)\" d=\"M846.358 1532.02 L876.033 1532.02 L876.033 1535.95 L846.358 1535.95 L846.358 1532.02 Z\" fill=\"#000000\" fill-rule=\"evenodd\" fill-opacity=\"1\" /><path clip-path=\"url(#clip100)\" d=\"M890.154 1544.91 L906.473 1544.91 L906.473 1548.85 L884.529 1548.85 L884.529 1544.91 Q887.191 1542.16 891.774 1537.53 Q896.381 1532.88 897.561 1531.53 Q899.806 1529.01 900.686 1527.27 Q901.589 1525.51 901.589 1523.82 Q901.589 1521.07 899.644 1519.33 Q897.723 1517.6 894.621 1517.6 Q892.422 1517.6 889.969 1518.36 Q887.538 1519.13 884.76 1520.68 L884.76 1515.95 Q887.584 1514.82 890.038 1514.24 Q892.492 1513.66 894.529 1513.66 Q899.899 1513.66 903.093 1516.35 Q906.288 1519.03 906.288 1523.52 Q906.288 1525.65 905.478 1527.57 Q904.691 1529.47 902.584 1532.07 Q902.005 1532.74 898.904 1535.95 Q895.802 1539.15 890.154 1544.91 Z\" fill=\"#000000\" fill-rule=\"evenodd\" fill-opacity=\"1\" /><path clip-path=\"url(#clip100)\" d=\"M1280.89 1517.37 Q1277.28 1517.37 1275.45 1520.93 Q1273.65 1524.47 1273.65 1531.6 Q1273.65 1538.71 1275.45 1542.27 Q1277.28 1545.82 1280.89 1545.82 Q1284.53 1545.82 1286.33 1542.27 Q1288.16 1538.71 1288.16 1531.6 Q1288.16 1524.47 1286.33 1520.93 Q1284.53 1517.37 1280.89 1517.37 M1280.89 1513.66 Q1286.7 1513.66 1289.76 1518.27 Q1292.84 1522.85 1292.84 1531.6 Q1292.84 1540.33 1289.76 1544.94 Q1286.7 1549.52 1280.89 1549.52 Q1275.08 1549.52 1272 1544.94 Q1268.95 1540.33 1268.95 1531.6 Q1268.95 1522.85 1272 1518.27 Q1275.08 1513.66 1280.89 1513.66 Z\" fill=\"#000000\" fill-rule=\"evenodd\" fill-opacity=\"1\" /><path clip-path=\"url(#clip100)\" d=\"M1680.02 1544.91 L1696.34 1544.91 L1696.34 1548.85 L1674.4 1548.85 L1674.4 1544.91 Q1677.06 1542.16 1681.64 1537.53 Q1686.25 1532.88 1687.43 1531.53 Q1689.67 1529.01 1690.55 1527.27 Q1691.46 1525.51 1691.46 1523.82 Q1691.46 1521.07 1689.51 1519.33 Q1687.59 1517.6 1684.49 1517.6 Q1682.29 1517.6 1679.84 1518.36 Q1677.41 1519.13 1674.63 1520.68 L1674.63 1515.95 Q1677.45 1514.82 1679.91 1514.24 Q1682.36 1513.66 1684.4 1513.66 Q1689.77 1513.66 1692.96 1516.35 Q1696.16 1519.03 1696.16 1523.52 Q1696.16 1525.65 1695.35 1527.57 Q1694.56 1529.47 1692.45 1532.07 Q1691.87 1532.74 1688.77 1535.95 Q1685.67 1539.15 1680.02 1544.91 Z\" fill=\"#000000\" fill-rule=\"evenodd\" fill-opacity=\"1\" /><path clip-path=\"url(#clip100)\" d=\"M2092.86 1518.36 L2081.05 1536.81 L2092.86 1536.81 L2092.86 1518.36 M2091.63 1514.29 L2097.51 1514.29 L2097.51 1536.81 L2102.44 1536.81 L2102.44 1540.7 L2097.51 1540.7 L2097.51 1548.85 L2092.86 1548.85 L2092.86 1540.7 L2077.25 1540.7 L2077.25 1536.19 L2091.63 1514.29 Z\" fill=\"#000000\" fill-rule=\"evenodd\" fill-opacity=\"1\" /><polyline clip-path=\"url(#clip102)\" style=\"stroke:#000000; stroke-linecap:round; stroke-linejoin:round; stroke-width:2; stroke-opacity:0.1; fill:none\" points=\"209.029,1479.73 2352.76,1479.73 \"/>\n",
       "<polyline clip-path=\"url(#clip102)\" style=\"stroke:#000000; stroke-linecap:round; stroke-linejoin:round; stroke-width:2; stroke-opacity:0.1; fill:none\" points=\"209.029,1200.9 2352.76,1200.9 \"/>\n",
       "<polyline clip-path=\"url(#clip102)\" style=\"stroke:#000000; stroke-linecap:round; stroke-linejoin:round; stroke-width:2; stroke-opacity:0.1; fill:none\" points=\"209.029,922.068 2352.76,922.068 \"/>\n",
       "<polyline clip-path=\"url(#clip102)\" style=\"stroke:#000000; stroke-linecap:round; stroke-linejoin:round; stroke-width:2; stroke-opacity:0.1; fill:none\" points=\"209.029,643.236 2352.76,643.236 \"/>\n",
       "<polyline clip-path=\"url(#clip102)\" style=\"stroke:#000000; stroke-linecap:round; stroke-linejoin:round; stroke-width:2; stroke-opacity:0.1; fill:none\" points=\"209.029,364.403 2352.76,364.403 \"/>\n",
       "<polyline clip-path=\"url(#clip102)\" style=\"stroke:#000000; stroke-linecap:round; stroke-linejoin:round; stroke-width:2; stroke-opacity:0.1; fill:none\" points=\"209.029,85.571 2352.76,85.571 \"/>\n",
       "<polyline clip-path=\"url(#clip100)\" style=\"stroke:#000000; stroke-linecap:round; stroke-linejoin:round; stroke-width:4; stroke-opacity:1; fill:none\" points=\"209.029,1486.45 209.029,47.2441 \"/>\n",
       "<polyline clip-path=\"url(#clip100)\" style=\"stroke:#000000; stroke-linecap:round; stroke-linejoin:round; stroke-width:4; stroke-opacity:1; fill:none\" points=\"209.029,1479.73 227.926,1479.73 \"/>\n",
       "<polyline clip-path=\"url(#clip100)\" style=\"stroke:#000000; stroke-linecap:round; stroke-linejoin:round; stroke-width:4; stroke-opacity:1; fill:none\" points=\"209.029,1200.9 227.926,1200.9 \"/>\n",
       "<polyline clip-path=\"url(#clip100)\" style=\"stroke:#000000; stroke-linecap:round; stroke-linejoin:round; stroke-width:4; stroke-opacity:1; fill:none\" points=\"209.029,922.068 227.926,922.068 \"/>\n",
       "<polyline clip-path=\"url(#clip100)\" style=\"stroke:#000000; stroke-linecap:round; stroke-linejoin:round; stroke-width:4; stroke-opacity:1; fill:none\" points=\"209.029,643.236 227.926,643.236 \"/>\n",
       "<polyline clip-path=\"url(#clip100)\" style=\"stroke:#000000; stroke-linecap:round; stroke-linejoin:round; stroke-width:4; stroke-opacity:1; fill:none\" points=\"209.029,364.403 227.926,364.403 \"/>\n",
       "<polyline clip-path=\"url(#clip100)\" style=\"stroke:#000000; stroke-linecap:round; stroke-linejoin:round; stroke-width:4; stroke-opacity:1; fill:none\" points=\"209.029,85.571 227.926,85.571 \"/>\n",
       "<path clip-path=\"url(#clip100)\" d=\"M50.9921 1480.18 L80.6679 1480.18 L80.6679 1484.12 L50.9921 1484.12 L50.9921 1480.18 Z\" fill=\"#000000\" fill-rule=\"evenodd\" fill-opacity=\"1\" /><path clip-path=\"url(#clip100)\" d=\"M90.8067 1462.45 L109.163 1462.45 L109.163 1466.39 L95.0891 1466.39 L95.0891 1474.86 Q96.1076 1474.51 97.1261 1474.35 Q98.1447 1474.17 99.1632 1474.17 Q104.95 1474.17 108.33 1477.34 Q111.709 1480.51 111.709 1485.93 Q111.709 1491.5 108.237 1494.61 Q104.765 1497.68 98.4456 1497.68 Q96.2697 1497.68 94.0012 1497.31 Q91.7558 1496.94 89.3484 1496.2 L89.3484 1491.5 Q91.4317 1492.64 93.6539 1493.19 Q95.8761 1493.75 98.353 1493.75 Q102.358 1493.75 104.696 1491.64 Q107.033 1489.54 107.033 1485.93 Q107.033 1482.31 104.696 1480.21 Q102.358 1478.1 98.353 1478.1 Q96.478 1478.1 94.603 1478.52 Q92.7512 1478.93 90.8067 1479.81 L90.8067 1462.45 Z\" fill=\"#000000\" fill-rule=\"evenodd\" fill-opacity=\"1\" /><path clip-path=\"url(#clip100)\" d=\"M130.922 1465.53 Q127.311 1465.53 125.482 1469.1 Q123.677 1472.64 123.677 1479.77 Q123.677 1486.87 125.482 1490.44 Q127.311 1493.98 130.922 1493.98 Q134.556 1493.98 136.362 1490.44 Q138.191 1486.87 138.191 1479.77 Q138.191 1472.64 136.362 1469.1 Q134.556 1465.53 130.922 1465.53 M130.922 1461.83 Q136.732 1461.83 139.788 1466.43 Q142.867 1471.02 142.867 1479.77 Q142.867 1488.49 139.788 1493.1 Q136.732 1497.68 130.922 1497.68 Q125.112 1497.68 122.033 1493.1 Q118.978 1488.49 118.978 1479.77 Q118.978 1471.02 122.033 1466.43 Q125.112 1461.83 130.922 1461.83 Z\" fill=\"#000000\" fill-rule=\"evenodd\" fill-opacity=\"1\" /><path clip-path=\"url(#clip100)\" d=\"M161.084 1465.53 Q157.473 1465.53 155.644 1469.1 Q153.839 1472.64 153.839 1479.77 Q153.839 1486.87 155.644 1490.44 Q157.473 1493.98 161.084 1493.98 Q164.718 1493.98 166.524 1490.44 Q168.353 1486.87 168.353 1479.77 Q168.353 1472.64 166.524 1469.1 Q164.718 1465.53 161.084 1465.53 M161.084 1461.83 Q166.894 1461.83 169.95 1466.43 Q173.029 1471.02 173.029 1479.77 Q173.029 1488.49 169.95 1493.1 Q166.894 1497.68 161.084 1497.68 Q155.274 1497.68 152.195 1493.1 Q149.14 1488.49 149.14 1479.77 Q149.14 1471.02 152.195 1466.43 Q155.274 1461.83 161.084 1461.83 Z\" fill=\"#000000\" fill-rule=\"evenodd\" fill-opacity=\"1\" /><path clip-path=\"url(#clip100)\" d=\"M161.084 1186.7 Q157.473 1186.7 155.644 1190.26 Q153.839 1193.81 153.839 1200.94 Q153.839 1208.04 155.644 1211.61 Q157.473 1215.15 161.084 1215.15 Q164.718 1215.15 166.524 1211.61 Q168.353 1208.04 168.353 1200.94 Q168.353 1193.81 166.524 1190.26 Q164.718 1186.7 161.084 1186.7 M161.084 1183 Q166.894 1183 169.95 1187.6 Q173.029 1192.19 173.029 1200.94 Q173.029 1209.66 169.95 1214.27 Q166.894 1218.85 161.084 1218.85 Q155.274 1218.85 152.195 1214.27 Q149.14 1209.66 149.14 1200.94 Q149.14 1192.19 152.195 1187.6 Q155.274 1183 161.084 1183 Z\" fill=\"#000000\" fill-rule=\"evenodd\" fill-opacity=\"1\" /><path clip-path=\"url(#clip100)\" d=\"M90.8067 904.788 L109.163 904.788 L109.163 908.724 L95.0891 908.724 L95.0891 917.196 Q96.1076 916.848 97.1261 916.686 Q98.1447 916.501 99.1632 916.501 Q104.95 916.501 108.33 919.673 Q111.709 922.844 111.709 928.26 Q111.709 933.839 108.237 936.941 Q104.765 940.02 98.4456 940.02 Q96.2697 940.02 94.0012 939.649 Q91.7558 939.279 89.3484 938.538 L89.3484 933.839 Q91.4317 934.973 93.6539 935.529 Q95.8761 936.084 98.353 936.084 Q102.358 936.084 104.696 933.978 Q107.033 931.872 107.033 928.26 Q107.033 924.649 104.696 922.543 Q102.358 920.436 98.353 920.436 Q96.478 920.436 94.603 920.853 Q92.7512 921.27 90.8067 922.149 L90.8067 904.788 Z\" fill=\"#000000\" fill-rule=\"evenodd\" fill-opacity=\"1\" /><path clip-path=\"url(#clip100)\" d=\"M130.922 907.867 Q127.311 907.867 125.482 911.432 Q123.677 914.973 123.677 922.103 Q123.677 929.21 125.482 932.774 Q127.311 936.316 130.922 936.316 Q134.556 936.316 136.362 932.774 Q138.191 929.21 138.191 922.103 Q138.191 914.973 136.362 911.432 Q134.556 907.867 130.922 907.867 M130.922 904.163 Q136.732 904.163 139.788 908.77 Q142.867 913.353 142.867 922.103 Q142.867 930.83 139.788 935.436 Q136.732 940.02 130.922 940.02 Q125.112 940.02 122.033 935.436 Q118.978 930.83 118.978 922.103 Q118.978 913.353 122.033 908.77 Q125.112 904.163 130.922 904.163 Z\" fill=\"#000000\" fill-rule=\"evenodd\" fill-opacity=\"1\" /><path clip-path=\"url(#clip100)\" d=\"M161.084 907.867 Q157.473 907.867 155.644 911.432 Q153.839 914.973 153.839 922.103 Q153.839 929.21 155.644 932.774 Q157.473 936.316 161.084 936.316 Q164.718 936.316 166.524 932.774 Q168.353 929.21 168.353 922.103 Q168.353 914.973 166.524 911.432 Q164.718 907.867 161.084 907.867 M161.084 904.163 Q166.894 904.163 169.95 908.77 Q173.029 913.353 173.029 922.103 Q173.029 930.83 169.95 935.436 Q166.894 940.02 161.084 940.02 Q155.274 940.02 152.195 935.436 Q149.14 930.83 149.14 922.103 Q149.14 913.353 152.195 908.77 Q155.274 904.163 161.084 904.163 Z\" fill=\"#000000\" fill-rule=\"evenodd\" fill-opacity=\"1\" /><path clip-path=\"url(#clip100)\" d=\"M61.4087 656.581 L69.0476 656.581 L69.0476 630.215 L60.7374 631.882 L60.7374 627.623 L69.0013 625.956 L73.6772 625.956 L73.6772 656.581 L81.316 656.581 L81.316 660.516 L61.4087 660.516 L61.4087 656.581 Z\" fill=\"#000000\" fill-rule=\"evenodd\" fill-opacity=\"1\" /><path clip-path=\"url(#clip100)\" d=\"M100.76 629.035 Q97.1493 629.035 95.3206 632.599 Q93.515 636.141 93.515 643.271 Q93.515 650.377 95.3206 653.942 Q97.1493 657.484 100.76 657.484 Q104.395 657.484 106.2 653.942 Q108.029 650.377 108.029 643.271 Q108.029 636.141 106.2 632.599 Q104.395 629.035 100.76 629.035 M100.76 625.331 Q106.571 625.331 109.626 629.937 Q112.705 634.521 112.705 643.271 Q112.705 651.997 109.626 656.604 Q106.571 661.187 100.76 661.187 Q94.9502 661.187 91.8715 656.604 Q88.816 651.997 88.816 643.271 Q88.816 634.521 91.8715 629.937 Q94.9502 625.331 100.76 625.331 Z\" fill=\"#000000\" fill-rule=\"evenodd\" fill-opacity=\"1\" /><path clip-path=\"url(#clip100)\" d=\"M130.922 629.035 Q127.311 629.035 125.482 632.599 Q123.677 636.141 123.677 643.271 Q123.677 650.377 125.482 653.942 Q127.311 657.484 130.922 657.484 Q134.556 657.484 136.362 653.942 Q138.191 650.377 138.191 643.271 Q138.191 636.141 136.362 632.599 Q134.556 629.035 130.922 629.035 M130.922 625.331 Q136.732 625.331 139.788 629.937 Q142.867 634.521 142.867 643.271 Q142.867 651.997 139.788 656.604 Q136.732 661.187 130.922 661.187 Q125.112 661.187 122.033 656.604 Q118.978 651.997 118.978 643.271 Q118.978 634.521 122.033 629.937 Q125.112 625.331 130.922 625.331 Z\" fill=\"#000000\" fill-rule=\"evenodd\" fill-opacity=\"1\" /><path clip-path=\"url(#clip100)\" d=\"M161.084 629.035 Q157.473 629.035 155.644 632.599 Q153.839 636.141 153.839 643.271 Q153.839 650.377 155.644 653.942 Q157.473 657.484 161.084 657.484 Q164.718 657.484 166.524 653.942 Q168.353 650.377 168.353 643.271 Q168.353 636.141 166.524 632.599 Q164.718 629.035 161.084 629.035 M161.084 625.331 Q166.894 625.331 169.95 629.937 Q173.029 634.521 173.029 643.271 Q173.029 651.997 169.95 656.604 Q166.894 661.187 161.084 661.187 Q155.274 661.187 152.195 656.604 Q149.14 651.997 149.14 643.271 Q149.14 634.521 152.195 629.937 Q155.274 625.331 161.084 625.331 Z\" fill=\"#000000\" fill-rule=\"evenodd\" fill-opacity=\"1\" /><path clip-path=\"url(#clip100)\" d=\"M61.4087 377.748 L69.0476 377.748 L69.0476 351.383 L60.7374 353.049 L60.7374 348.79 L69.0013 347.123 L73.6772 347.123 L73.6772 377.748 L81.316 377.748 L81.316 381.683 L61.4087 381.683 L61.4087 377.748 Z\" fill=\"#000000\" fill-rule=\"evenodd\" fill-opacity=\"1\" /><path clip-path=\"url(#clip100)\" d=\"M90.8067 347.123 L109.163 347.123 L109.163 351.059 L95.0891 351.059 L95.0891 359.531 Q96.1076 359.184 97.1261 359.022 Q98.1447 358.836 99.1632 358.836 Q104.95 358.836 108.33 362.008 Q111.709 365.179 111.709 370.596 Q111.709 376.174 108.237 379.276 Q104.765 382.355 98.4456 382.355 Q96.2697 382.355 94.0012 381.984 Q91.7558 381.614 89.3484 380.873 L89.3484 376.174 Q91.4317 377.309 93.6539 377.864 Q95.8761 378.42 98.353 378.42 Q102.358 378.42 104.696 376.313 Q107.033 374.207 107.033 370.596 Q107.033 366.984 104.696 364.878 Q102.358 362.772 98.353 362.772 Q96.478 362.772 94.603 363.188 Q92.7512 363.605 90.8067 364.484 L90.8067 347.123 Z\" fill=\"#000000\" fill-rule=\"evenodd\" fill-opacity=\"1\" /><path clip-path=\"url(#clip100)\" d=\"M130.922 350.202 Q127.311 350.202 125.482 353.767 Q123.677 357.309 123.677 364.438 Q123.677 371.545 125.482 375.109 Q127.311 378.651 130.922 378.651 Q134.556 378.651 136.362 375.109 Q138.191 371.545 138.191 364.438 Q138.191 357.309 136.362 353.767 Q134.556 350.202 130.922 350.202 M130.922 346.498 Q136.732 346.498 139.788 351.105 Q142.867 355.688 142.867 364.438 Q142.867 373.165 139.788 377.771 Q136.732 382.355 130.922 382.355 Q125.112 382.355 122.033 377.771 Q118.978 373.165 118.978 364.438 Q118.978 355.688 122.033 351.105 Q125.112 346.498 130.922 346.498 Z\" fill=\"#000000\" fill-rule=\"evenodd\" fill-opacity=\"1\" /><path clip-path=\"url(#clip100)\" d=\"M161.084 350.202 Q157.473 350.202 155.644 353.767 Q153.839 357.309 153.839 364.438 Q153.839 371.545 155.644 375.109 Q157.473 378.651 161.084 378.651 Q164.718 378.651 166.524 375.109 Q168.353 371.545 168.353 364.438 Q168.353 357.309 166.524 353.767 Q164.718 350.202 161.084 350.202 M161.084 346.498 Q166.894 346.498 169.95 351.105 Q173.029 355.688 173.029 364.438 Q173.029 373.165 169.95 377.771 Q166.894 382.355 161.084 382.355 Q155.274 382.355 152.195 377.771 Q149.14 373.165 149.14 364.438 Q149.14 355.688 152.195 351.105 Q155.274 346.498 161.084 346.498 Z\" fill=\"#000000\" fill-rule=\"evenodd\" fill-opacity=\"1\" /><path clip-path=\"url(#clip100)\" d=\"M64.6263 98.9159 L80.9457 98.9159 L80.9457 102.851 L59.0013 102.851 L59.0013 98.9159 Q61.6634 96.1613 66.2467 91.5317 Q70.8531 86.8789 72.0337 85.5363 Q74.279 83.0132 75.1587 81.2771 Q76.0614 79.5178 76.0614 77.828 Q76.0614 75.0734 74.117 73.3373 Q72.1957 71.6012 69.0939 71.6012 Q66.8948 71.6012 64.4411 72.3651 Q62.0106 73.129 59.2328 74.6799 L59.2328 69.9577 Q62.0569 68.8235 64.5106 68.2448 Q66.9643 67.6661 69.0013 67.6661 Q74.3716 67.6661 77.5661 70.3512 Q80.7605 73.0364 80.7605 77.5271 Q80.7605 79.6567 79.9503 81.578 Q79.1633 83.4762 77.0568 86.0687 Q76.4781 86.74 73.3763 89.9576 Q70.2744 93.152 64.6263 98.9159 Z\" fill=\"#000000\" fill-rule=\"evenodd\" fill-opacity=\"1\" /><path clip-path=\"url(#clip100)\" d=\"M100.76 71.3697 Q97.1493 71.3697 95.3206 74.9345 Q93.515 78.4762 93.515 85.6058 Q93.515 92.7122 95.3206 96.277 Q97.1493 99.8187 100.76 99.8187 Q104.395 99.8187 106.2 96.277 Q108.029 92.7122 108.029 85.6058 Q108.029 78.4762 106.2 74.9345 Q104.395 71.3697 100.76 71.3697 M100.76 67.6661 Q106.571 67.6661 109.626 72.2725 Q112.705 76.8558 112.705 85.6058 Q112.705 94.3326 109.626 98.939 Q106.571 103.522 100.76 103.522 Q94.9502 103.522 91.8715 98.939 Q88.816 94.3326 88.816 85.6058 Q88.816 76.8558 91.8715 72.2725 Q94.9502 67.6661 100.76 67.6661 Z\" fill=\"#000000\" fill-rule=\"evenodd\" fill-opacity=\"1\" /><path clip-path=\"url(#clip100)\" d=\"M130.922 71.3697 Q127.311 71.3697 125.482 74.9345 Q123.677 78.4762 123.677 85.6058 Q123.677 92.7122 125.482 96.277 Q127.311 99.8187 130.922 99.8187 Q134.556 99.8187 136.362 96.277 Q138.191 92.7122 138.191 85.6058 Q138.191 78.4762 136.362 74.9345 Q134.556 71.3697 130.922 71.3697 M130.922 67.6661 Q136.732 67.6661 139.788 72.2725 Q142.867 76.8558 142.867 85.6058 Q142.867 94.3326 139.788 98.939 Q136.732 103.522 130.922 103.522 Q125.112 103.522 122.033 98.939 Q118.978 94.3326 118.978 85.6058 Q118.978 76.8558 122.033 72.2725 Q125.112 67.6661 130.922 67.6661 Z\" fill=\"#000000\" fill-rule=\"evenodd\" fill-opacity=\"1\" /><path clip-path=\"url(#clip100)\" d=\"M161.084 71.3697 Q157.473 71.3697 155.644 74.9345 Q153.839 78.4762 153.839 85.6058 Q153.839 92.7122 155.644 96.277 Q157.473 99.8187 161.084 99.8187 Q164.718 99.8187 166.524 96.277 Q168.353 92.7122 168.353 85.6058 Q168.353 78.4762 166.524 74.9345 Q164.718 71.3697 161.084 71.3697 M161.084 67.6661 Q166.894 67.6661 169.95 72.2725 Q173.029 76.8558 173.029 85.6058 Q173.029 94.3326 169.95 98.939 Q166.894 103.522 161.084 103.522 Q155.274 103.522 152.195 98.939 Q149.14 94.3326 149.14 85.6058 Q149.14 76.8558 152.195 72.2725 Q155.274 67.6661 161.084 67.6661 Z\" fill=\"#000000\" fill-rule=\"evenodd\" fill-opacity=\"1\" /><polyline clip-path=\"url(#clip102)\" style=\"stroke:#009af9; stroke-linecap:round; stroke-linejoin:round; stroke-width:4; stroke-opacity:1; fill:none\" points=\"269.7,1201.01 282.867,1201.01 404.613,1201.03 477.778,1201.04 539.637,1201.05 606.834,1201.07 668.784,1201.09 735.2,1201.11 812.15,1201.14 880.534,1201.18 940.501,1201.23 1005.88,1201.31 1071.65,1201.44 1089.83,1201.49 1108.01,1201.55 1126.19,1201.63 1144.36,1201.73 1161.66,1201.85 1178.96,1202.01 1187.61,1202.11 1196.25,1202.23 1204.9,1202.38 1213.55,1202.58 1222.54,1202.83 1231.54,1203.19 1236.03,1203.41 1240.53,1203.69 1245.02,1204.05 1249.52,1204.5 1254.02,1205.1 1258.51,1205.94 1263.01,1207.21 1267.51,1209.33 1269.75,1211.03 1272,1213.59 1273.13,1215.42 1274.25,1217.88 1275.37,1221.34 1276.5,1226.56 1277.06,1230.33 1277.62,1235.38 1278.18,1242.54 1278.75,1253.44 1279.31,1272.07 1279.87,1311.18 1280.43,1445.72 1280.99,87.9763 1281.56,1030.88 1282.12,1108.86 1282.68,1137.8 1283.24,1152.9 1283.8,1162.16 1284.37,1168.43 1284.93,1172.95 1285.49,1176.37 1286.44,1180.56 1287.38,1183.52 1288.33,1185.73 1289.27,1187.45 1291.17,1189.92 1293.06,1191.63 1296.84,1193.83 1300.63,1195.19 1304.41,1196.11 1308.2,1196.77 1311.98,1197.27 1315.77,1197.67 1319.55,1197.98 1323.34,1198.24 1327.12,1198.46 1330.91,1198.65 1338.48,1198.94 1346.05,1199.17 1355.29,1199.38 1364.53,1199.55 1373.77,1199.69 1383.01,1199.8 1401.5,1199.97 1419.98,1200.09 1453.84,1200.25 1487.71,1200.36 1550.26,1200.48 1613.62,1200.56 1684.63,1200.62 1748.98,1200.66 1822.65,1200.69 1890.87,1200.72 1958.12,1200.73 2023.42,1200.75 2090.36,1200.76 2163.69,1200.77 2270.23,1200.79 2292.08,1200.79 \"/>\n",
       "<path clip-path=\"url(#clip100)\" d=\"M2014.5 198.898 L2281.3 198.898 L2281.3 95.2176 L2014.5 95.2176  Z\" fill=\"#ffffff\" fill-rule=\"evenodd\" fill-opacity=\"1\"/>\n",
       "<polyline clip-path=\"url(#clip100)\" style=\"stroke:#000000; stroke-linecap:round; stroke-linejoin:round; stroke-width:4; stroke-opacity:1; fill:none\" points=\"2014.5,198.898 2281.3,198.898 2281.3,95.2176 2014.5,95.2176 2014.5,198.898 \"/>\n",
       "<polyline clip-path=\"url(#clip100)\" style=\"stroke:#009af9; stroke-linecap:round; stroke-linejoin:round; stroke-width:4; stroke-opacity:1; fill:none\" points=\"2038.31,147.058 2181.23,147.058 \"/>\n",
       "<path clip-path=\"url(#clip100)\" d=\"M2218.89 166.745 Q2217.09 171.375 2215.37 172.787 Q2213.66 174.199 2210.79 174.199 L2207.39 174.199 L2207.39 170.634 L2209.89 170.634 Q2211.65 170.634 2212.62 169.8 Q2213.59 168.967 2214.77 165.865 L2215.53 163.921 L2205.05 138.412 L2209.56 138.412 L2217.66 158.689 L2225.77 138.412 L2230.28 138.412 L2218.89 166.745 Z\" fill=\"#000000\" fill-rule=\"evenodd\" fill-opacity=\"1\" /><path clip-path=\"url(#clip100)\" d=\"M2237.57 160.402 L2245.21 160.402 L2245.21 134.037 L2236.9 135.703 L2236.9 131.444 L2245.16 129.778 L2249.84 129.778 L2249.84 160.402 L2257.48 160.402 L2257.48 164.338 L2237.57 164.338 L2237.57 160.402 Z\" fill=\"#000000\" fill-rule=\"evenodd\" fill-opacity=\"1\" /></svg>\n"
      ]
     },
     "execution_count": 24,
     "metadata": {},
     "output_type": "execute_result"
    }
   ],
   "source": [
    "plot(x -> 1/x)"
   ]
  },
  {
   "cell_type": "code",
   "execution_count": 25,
   "metadata": {
    "tags": []
   },
   "outputs": [
    {
     "data": {
      "text/plain": [
       "Results of univariate zero finding:\n",
       "\n",
       "* Converged to: 0.0\n",
       "* Algorithm: Bisection()\n",
       "* iterations: 61\n",
       "* function evaluations ≈ 64\n",
       "* stopped as x_n ≈ x_{n-1} using atol=xatol, rtol=xrtol\n",
       "\n",
       "Trace:\n",
       "(a₀, b₀) = ( -1, 0 )\n",
       "(a₁, b₁) = ( -1.118751109680031e-154, 0 )\n",
       "(a₂, b₂) = ( -1.1272010346794983e-231, 0 )\n",
       "(a₃, b₃) = ( -3.5491565585003241e-270, 0 )\n",
       "(a₄, b₄) = ( -1.988135013128901e-289, 0 )\n",
       "(a₅, b₅) = ( -4.7036486372562232e-299, 0 )\n",
       "(a₆, b₆) = ( -7.2341601287786131e-304, 0 )\n",
       "(a₇, b₇) = ( -2.8369691695966818e-306, 0 )\n",
       "(a₈, b₈) = ( -1.7765824089018436e-307, 0 )\n",
       "(a₉, b₉) = ( -4.4458018696345059e-308, 0 )\n",
       "(a₁₀, b₁₀) = ( -2.2229009348172529e-308, 0 )\n",
       "(a₁₁, b₁₁) = ( -1.1114504674086265e-308, 0 )\n",
       "(a₁₂, b₁₂) = ( -5.5572523370431324e-309, 0 )\n",
       "(a₁₃, b₁₃) = ( -2.7786261685215662e-309, 0 )\n",
       "(a₁₄, b₁₄) = ( -1.3893130842607831e-309, 0 )\n",
       "(a₁₅, b₁₅) = ( -6.9465654213039155e-310, 0 )\n",
       "(a₁₆, b₁₆) = ( -3.4732827106519577e-310, 0 )\n",
       "(a₁₇, b₁₇) = ( -1.7366413553259789e-310, 0 )\n",
       "(a₁₈, b₁₈) = ( -8.6832067766298943e-311, 0 )\n",
       "(a₁₉, b₁₉) = ( -4.3416033883149472e-311, 0 )\n",
       "(a₂₀, b₂₀) = ( -2.1708016941574736e-311, 0 )\n",
       "(a₂₁, b₂₁) = ( -1.0854008470787368e-311, 0 )\n",
       "(a₂₂, b₂₂) = ( -5.4270042353936839e-312, 0 )\n",
       "(a₂₃, b₂₃) = ( -2.713502117696842e-312, 0 )\n",
       "(a₂₄, b₂₄) = ( -1.356751058848421e-312, 0 )\n",
       "(a₂₅, b₂₅) = ( -6.7837552942421049e-313, 0 )\n",
       "(a₂₆, b₂₆) = ( -3.3918776471210525e-313, 0 )\n",
       "(a₂₇, b₂₇) = ( -1.6959388235605262e-313, 0 )\n",
       "(a₂₈, b₂₈) = ( -8.4796941178026312e-314, 0 )\n",
       "(a₂₉, b₂₉) = ( -4.2398470589013156e-314, 0 )\n",
       "(a₃₀, b₃₀) = ( -2.1199235294506578e-314, 0 )\n",
       "(a₃₁, b₃₁) = ( -1.0599617647253289e-314, 0 )\n",
       "(a₃₂, b₃₂) = ( -5.2998088236266445e-315, 0 )\n",
       "(a₃₃, b₃₃) = ( -2.6499044118133222e-315, 0 )\n",
       "(a₃₄, b₃₄) = ( -1.3249522059066611e-315, 0 )\n",
       "(a₃₅, b₃₅) = ( -6.6247610295333056e-316, 0 )\n",
       "(a₃₆, b₃₆) = ( -3.3123805147666528e-316, 0 )\n",
       "(a₃₇, b₃₇) = ( -1.6561902573833264e-316, 0 )\n",
       "(a₃₈, b₃₈) = ( -8.280951286916632e-317, 0 )\n",
       "(a₃₉, b₃₉) = ( -4.140475643458316e-317, 0 )\n",
       "(a₄₀, b₄₀) = ( -2.070237821729158e-317, 0 )\n",
       "(a₄₁, b₄₁) = ( -1.035118910864579e-317, 0 )\n",
       "(a₄₂, b₄₂) = ( -5.175594554322895e-318, 0 )\n",
       "(a₄₃, b₄₃) = ( -2.5877972771614475e-318, 0 )\n",
       "(a₄₄, b₄₄) = ( -1.2938986385807237e-318, 0 )\n",
       "(a₄₅, b₄₅) = ( -6.4694931929036187e-319, 0 )\n",
       "(a₄₆, b₄₆) = ( -3.2347465964518094e-319, 0 )\n",
       "(a₄₇, b₄₇) = ( -1.6173732982259047e-319, 0 )\n",
       "(a₄₈, b₄₈) = ( -8.0868664911295234e-320, 0 )\n",
       "(a₄₉, b₄₉) = ( -4.0434332455647617e-320, 0 )\n",
       "(a₅₀, b₅₀) = ( -2.0217166227823809e-320, 0 )\n",
       "(a₅₁, b₅₁) = ( -1.0108583113911904e-320, 0 )\n",
       "(a₅₂, b₅₂) = ( -5.0542915569559521e-321, 0 )\n",
       "(a₅₃, b₅₃) = ( -2.5246754502487698e-321, 0 )\n",
       "(a₅₄, b₅₄) = ( -1.2598673968951787e-321, 0 )\n",
       "(a₅₅, b₅₅) = ( -6.2746337021838311e-322, 0 )\n",
       "(a₅₆, b₅₆) = ( -3.1126135687998532e-322, 0 )\n",
       "(a₅₇, b₅₇) = ( -1.5316035021078643e-322, 0 )\n",
       "(a₅₈, b₅₈) = ( -7.4109846876186982e-323, 0 )\n",
       "(a₅₉, b₅₉) = ( -3.4584595208887258e-323, 0 )\n",
       "(a₆₀, b₆₀) = ( -1.4821969375237396e-323, 0 )\n",
       "(a₆₁, b₆₁) = ( -4.9406564584124654e-324, 0 )\n",
       "\n"
      ]
     },
     "metadata": {},
     "output_type": "display_data"
    },
    {
     "data": {
      "text/plain": [
       "0.0"
      ]
     },
     "execution_count": 25,
     "metadata": {},
     "output_type": "execute_result"
    }
   ],
   "source": [
    "find_zero(x -> 1/x, (-1, 1), verbose=true)"
   ]
  },
  {
   "cell_type": "markdown",
   "metadata": {},
   "source": [
    "find_zeros - szukanie więcej niż jednego pierwiastka. Wykorzystuje podział przedziału na mniejsze podprzedziały"
   ]
  },
  {
   "cell_type": "code",
   "execution_count": 26,
   "metadata": {
    "tags": []
   },
   "outputs": [
    {
     "data": {
      "text/plain": [
       "2-element Vector{Float64}:\n",
       " 0.0\n",
       " 3.0"
      ]
     },
     "execution_count": 26,
     "metadata": {},
     "output_type": "execute_result"
    }
   ],
   "source": [
    "find_zeros(x ->(x-3)*x, -10, 10)"
   ]
  },
  {
   "cell_type": "code",
   "execution_count": 27,
   "metadata": {
    "scrolled": true,
    "tags": []
   },
   "outputs": [
    {
     "data": {
      "image/svg+xml": [
       "<?xml version=\"1.0\" encoding=\"utf-8\"?>\n",
       "<svg xmlns=\"http://www.w3.org/2000/svg\" xmlns:xlink=\"http://www.w3.org/1999/xlink\" width=\"600\" height=\"400\" viewBox=\"0 0 2400 1600\">\n",
       "<defs>\n",
       "  <clipPath id=\"clip140\">\n",
       "    <rect x=\"0\" y=\"0\" width=\"2400\" height=\"1600\"/>\n",
       "  </clipPath>\n",
       "</defs>\n",
       "<path clip-path=\"url(#clip140)\" d=\"M0 1600 L2400 1600 L2400 0 L0 0  Z\" fill=\"#ffffff\" fill-rule=\"evenodd\" fill-opacity=\"1\"/>\n",
       "<defs>\n",
       "  <clipPath id=\"clip141\">\n",
       "    <rect x=\"480\" y=\"0\" width=\"1681\" height=\"1600\"/>\n",
       "  </clipPath>\n",
       "</defs>\n",
       "<path clip-path=\"url(#clip140)\" d=\"M147.478 1486.45 L2352.76 1486.45 L2352.76 47.2441 L147.478 47.2441  Z\" fill=\"#ffffff\" fill-rule=\"evenodd\" fill-opacity=\"1\"/>\n",
       "<defs>\n",
       "  <clipPath id=\"clip142\">\n",
       "    <rect x=\"147\" y=\"47\" width=\"2206\" height=\"1440\"/>\n",
       "  </clipPath>\n",
       "</defs>\n",
       "<polyline clip-path=\"url(#clip142)\" style=\"stroke:#000000; stroke-linecap:round; stroke-linejoin:round; stroke-width:2; stroke-opacity:0.1; fill:none\" points=\"209.891,1486.45 209.891,47.2441 \"/>\n",
       "<polyline clip-path=\"url(#clip142)\" style=\"stroke:#000000; stroke-linecap:round; stroke-linejoin:round; stroke-width:2; stroke-opacity:0.1; fill:none\" points=\"625.982,1486.45 625.982,47.2441 \"/>\n",
       "<polyline clip-path=\"url(#clip142)\" style=\"stroke:#000000; stroke-linecap:round; stroke-linejoin:round; stroke-width:2; stroke-opacity:0.1; fill:none\" points=\"1042.07,1486.45 1042.07,47.2441 \"/>\n",
       "<polyline clip-path=\"url(#clip142)\" style=\"stroke:#000000; stroke-linecap:round; stroke-linejoin:round; stroke-width:2; stroke-opacity:0.1; fill:none\" points=\"1458.16,1486.45 1458.16,47.2441 \"/>\n",
       "<polyline clip-path=\"url(#clip142)\" style=\"stroke:#000000; stroke-linecap:round; stroke-linejoin:round; stroke-width:2; stroke-opacity:0.1; fill:none\" points=\"1874.25,1486.45 1874.25,47.2441 \"/>\n",
       "<polyline clip-path=\"url(#clip142)\" style=\"stroke:#000000; stroke-linecap:round; stroke-linejoin:round; stroke-width:2; stroke-opacity:0.1; fill:none\" points=\"2290.34,1486.45 2290.34,47.2441 \"/>\n",
       "<polyline clip-path=\"url(#clip140)\" style=\"stroke:#000000; stroke-linecap:round; stroke-linejoin:round; stroke-width:4; stroke-opacity:1; fill:none\" points=\"147.478,1486.45 2352.76,1486.45 \"/>\n",
       "<polyline clip-path=\"url(#clip140)\" style=\"stroke:#000000; stroke-linecap:round; stroke-linejoin:round; stroke-width:4; stroke-opacity:1; fill:none\" points=\"209.891,1486.45 209.891,1467.55 \"/>\n",
       "<polyline clip-path=\"url(#clip140)\" style=\"stroke:#000000; stroke-linecap:round; stroke-linejoin:round; stroke-width:4; stroke-opacity:1; fill:none\" points=\"625.982,1486.45 625.982,1467.55 \"/>\n",
       "<polyline clip-path=\"url(#clip140)\" style=\"stroke:#000000; stroke-linecap:round; stroke-linejoin:round; stroke-width:4; stroke-opacity:1; fill:none\" points=\"1042.07,1486.45 1042.07,1467.55 \"/>\n",
       "<polyline clip-path=\"url(#clip140)\" style=\"stroke:#000000; stroke-linecap:round; stroke-linejoin:round; stroke-width:4; stroke-opacity:1; fill:none\" points=\"1458.16,1486.45 1458.16,1467.55 \"/>\n",
       "<polyline clip-path=\"url(#clip140)\" style=\"stroke:#000000; stroke-linecap:round; stroke-linejoin:round; stroke-width:4; stroke-opacity:1; fill:none\" points=\"1874.25,1486.45 1874.25,1467.55 \"/>\n",
       "<polyline clip-path=\"url(#clip140)\" style=\"stroke:#000000; stroke-linecap:round; stroke-linejoin:round; stroke-width:4; stroke-opacity:1; fill:none\" points=\"2290.34,1486.45 2290.34,1467.55 \"/>\n",
       "<path clip-path=\"url(#clip140)\" d=\"M179.649 1532.02 L209.324 1532.02 L209.324 1535.95 L179.649 1535.95 L179.649 1532.02 Z\" fill=\"#000000\" fill-rule=\"evenodd\" fill-opacity=\"1\" /><path clip-path=\"url(#clip140)\" d=\"M220.227 1544.91 L227.866 1544.91 L227.866 1518.55 L219.556 1520.21 L219.556 1515.95 L227.82 1514.29 L232.495 1514.29 L232.495 1544.91 L240.134 1544.91 L240.134 1548.85 L220.227 1548.85 L220.227 1544.91 Z\" fill=\"#000000\" fill-rule=\"evenodd\" fill-opacity=\"1\" /><path clip-path=\"url(#clip140)\" d=\"M625.982 1517.37 Q622.371 1517.37 620.542 1520.93 Q618.736 1524.47 618.736 1531.6 Q618.736 1538.71 620.542 1542.27 Q622.371 1545.82 625.982 1545.82 Q629.616 1545.82 631.421 1542.27 Q633.25 1538.71 633.25 1531.6 Q633.25 1524.47 631.421 1520.93 Q629.616 1517.37 625.982 1517.37 M625.982 1513.66 Q631.792 1513.66 634.847 1518.27 Q637.926 1522.85 637.926 1531.6 Q637.926 1540.33 634.847 1544.94 Q631.792 1549.52 625.982 1549.52 Q620.171 1549.52 617.093 1544.94 Q614.037 1540.33 614.037 1531.6 Q614.037 1522.85 617.093 1518.27 Q620.171 1513.66 625.982 1513.66 Z\" fill=\"#000000\" fill-rule=\"evenodd\" fill-opacity=\"1\" /><path clip-path=\"url(#clip140)\" d=\"M1032.45 1544.91 L1040.09 1544.91 L1040.09 1518.55 L1031.78 1520.21 L1031.78 1515.95 L1040.05 1514.29 L1044.72 1514.29 L1044.72 1544.91 L1052.36 1544.91 L1052.36 1548.85 L1032.45 1548.85 L1032.45 1544.91 Z\" fill=\"#000000\" fill-rule=\"evenodd\" fill-opacity=\"1\" /><path clip-path=\"url(#clip140)\" d=\"M1452.81 1544.91 L1469.13 1544.91 L1469.13 1548.85 L1447.19 1548.85 L1447.19 1544.91 Q1449.85 1542.16 1454.44 1537.53 Q1459.04 1532.88 1460.22 1531.53 Q1462.47 1529.01 1463.35 1527.27 Q1464.25 1525.51 1464.25 1523.82 Q1464.25 1521.07 1462.31 1519.33 Q1460.38 1517.6 1457.28 1517.6 Q1455.08 1517.6 1452.63 1518.36 Q1450.2 1519.13 1447.42 1520.68 L1447.42 1515.95 Q1450.25 1514.82 1452.7 1514.24 Q1455.15 1513.66 1457.19 1513.66 Q1462.56 1513.66 1465.75 1516.35 Q1468.95 1519.03 1468.95 1523.52 Q1468.95 1525.65 1468.14 1527.57 Q1467.35 1529.47 1465.25 1532.07 Q1464.67 1532.74 1461.56 1535.95 Q1458.46 1539.15 1452.81 1544.91 Z\" fill=\"#000000\" fill-rule=\"evenodd\" fill-opacity=\"1\" /><path clip-path=\"url(#clip140)\" d=\"M1878.5 1530.21 Q1881.86 1530.93 1883.73 1533.2 Q1885.63 1535.47 1885.63 1538.8 Q1885.63 1543.92 1882.11 1546.72 Q1878.59 1549.52 1872.11 1549.52 Q1869.94 1549.52 1867.62 1549.08 Q1865.33 1548.66 1862.87 1547.81 L1862.87 1543.29 Q1864.82 1544.43 1867.13 1545.01 Q1869.45 1545.58 1871.97 1545.58 Q1876.37 1545.58 1878.66 1543.85 Q1880.98 1542.11 1880.98 1538.8 Q1880.98 1535.75 1878.82 1534.03 Q1876.69 1532.3 1872.87 1532.3 L1868.85 1532.3 L1868.85 1528.45 L1873.06 1528.45 Q1876.51 1528.45 1878.34 1527.09 Q1880.17 1525.7 1880.17 1523.11 Q1880.17 1520.45 1878.27 1519.03 Q1876.39 1517.6 1872.87 1517.6 Q1870.95 1517.6 1868.75 1518.01 Q1866.56 1518.43 1863.92 1519.31 L1863.92 1515.14 Q1866.58 1514.4 1868.89 1514.03 Q1871.23 1513.66 1873.29 1513.66 Q1878.62 1513.66 1881.72 1516.09 Q1884.82 1518.5 1884.82 1522.62 Q1884.82 1525.49 1883.18 1527.48 Q1881.53 1529.45 1878.5 1530.21 Z\" fill=\"#000000\" fill-rule=\"evenodd\" fill-opacity=\"1\" /><path clip-path=\"url(#clip140)\" d=\"M2293.35 1518.36 L2281.55 1536.81 L2293.35 1536.81 L2293.35 1518.36 M2292.12 1514.29 L2298 1514.29 L2298 1536.81 L2302.93 1536.81 L2302.93 1540.7 L2298 1540.7 L2298 1548.85 L2293.35 1548.85 L2293.35 1540.7 L2277.75 1540.7 L2277.75 1536.19 L2292.12 1514.29 Z\" fill=\"#000000\" fill-rule=\"evenodd\" fill-opacity=\"1\" /><polyline clip-path=\"url(#clip142)\" style=\"stroke:#000000; stroke-linecap:round; stroke-linejoin:round; stroke-width:2; stroke-opacity:0.1; fill:none\" points=\"147.478,1391.43 2352.76,1391.43 \"/>\n",
       "<polyline clip-path=\"url(#clip142)\" style=\"stroke:#000000; stroke-linecap:round; stroke-linejoin:round; stroke-width:2; stroke-opacity:0.1; fill:none\" points=\"147.478,1174.19 2352.76,1174.19 \"/>\n",
       "<polyline clip-path=\"url(#clip142)\" style=\"stroke:#000000; stroke-linecap:round; stroke-linejoin:round; stroke-width:2; stroke-opacity:0.1; fill:none\" points=\"147.478,956.947 2352.76,956.947 \"/>\n",
       "<polyline clip-path=\"url(#clip142)\" style=\"stroke:#000000; stroke-linecap:round; stroke-linejoin:round; stroke-width:2; stroke-opacity:0.1; fill:none\" points=\"147.478,739.705 2352.76,739.705 \"/>\n",
       "<polyline clip-path=\"url(#clip142)\" style=\"stroke:#000000; stroke-linecap:round; stroke-linejoin:round; stroke-width:2; stroke-opacity:0.1; fill:none\" points=\"147.478,522.462 2352.76,522.462 \"/>\n",
       "<polyline clip-path=\"url(#clip142)\" style=\"stroke:#000000; stroke-linecap:round; stroke-linejoin:round; stroke-width:2; stroke-opacity:0.1; fill:none\" points=\"147.478,305.219 2352.76,305.219 \"/>\n",
       "<polyline clip-path=\"url(#clip142)\" style=\"stroke:#000000; stroke-linecap:round; stroke-linejoin:round; stroke-width:2; stroke-opacity:0.1; fill:none\" points=\"147.478,87.9763 2352.76,87.9763 \"/>\n",
       "<polyline clip-path=\"url(#clip140)\" style=\"stroke:#000000; stroke-linecap:round; stroke-linejoin:round; stroke-width:4; stroke-opacity:1; fill:none\" points=\"147.478,1486.45 147.478,47.2441 \"/>\n",
       "<polyline clip-path=\"url(#clip140)\" style=\"stroke:#000000; stroke-linecap:round; stroke-linejoin:round; stroke-width:4; stroke-opacity:1; fill:none\" points=\"147.478,1391.43 166.376,1391.43 \"/>\n",
       "<polyline clip-path=\"url(#clip140)\" style=\"stroke:#000000; stroke-linecap:round; stroke-linejoin:round; stroke-width:4; stroke-opacity:1; fill:none\" points=\"147.478,1174.19 166.376,1174.19 \"/>\n",
       "<polyline clip-path=\"url(#clip140)\" style=\"stroke:#000000; stroke-linecap:round; stroke-linejoin:round; stroke-width:4; stroke-opacity:1; fill:none\" points=\"147.478,956.947 166.376,956.947 \"/>\n",
       "<polyline clip-path=\"url(#clip140)\" style=\"stroke:#000000; stroke-linecap:round; stroke-linejoin:round; stroke-width:4; stroke-opacity:1; fill:none\" points=\"147.478,739.705 166.376,739.705 \"/>\n",
       "<polyline clip-path=\"url(#clip140)\" style=\"stroke:#000000; stroke-linecap:round; stroke-linejoin:round; stroke-width:4; stroke-opacity:1; fill:none\" points=\"147.478,522.462 166.376,522.462 \"/>\n",
       "<polyline clip-path=\"url(#clip140)\" style=\"stroke:#000000; stroke-linecap:round; stroke-linejoin:round; stroke-width:4; stroke-opacity:1; fill:none\" points=\"147.478,305.219 166.376,305.219 \"/>\n",
       "<polyline clip-path=\"url(#clip140)\" style=\"stroke:#000000; stroke-linecap:round; stroke-linejoin:round; stroke-width:4; stroke-opacity:1; fill:none\" points=\"147.478,87.9763 166.376,87.9763 \"/>\n",
       "<path clip-path=\"url(#clip140)\" d=\"M51.3625 1391.88 L81.0383 1391.88 L81.0383 1395.82 L51.3625 1395.82 L51.3625 1391.88 Z\" fill=\"#000000\" fill-rule=\"evenodd\" fill-opacity=\"1\" /><path clip-path=\"url(#clip140)\" d=\"M95.1586 1404.78 L111.478 1404.78 L111.478 1408.71 L89.5336 1408.71 L89.5336 1404.78 Q92.1956 1402.02 96.7789 1397.39 Q101.385 1392.74 102.566 1391.4 Q104.811 1388.88 105.691 1387.14 Q106.594 1385.38 106.594 1383.69 Q106.594 1380.94 104.649 1379.2 Q102.728 1377.46 99.6261 1377.46 Q97.4271 1377.46 94.9734 1378.23 Q92.5428 1378.99 89.7651 1380.54 L89.7651 1375.82 Q92.5891 1374.69 95.0428 1374.11 Q97.4965 1373.53 99.5335 1373.53 Q104.904 1373.53 108.098 1376.21 Q111.293 1378.9 111.293 1383.39 Q111.293 1385.52 110.483 1387.44 Q109.696 1389.34 107.589 1391.93 Q107.01 1392.6 103.909 1395.82 Q100.807 1399.01 95.1586 1404.78 Z\" fill=\"#000000\" fill-rule=\"evenodd\" fill-opacity=\"1\" /><path clip-path=\"url(#clip140)\" d=\"M50.9921 1174.64 L80.6679 1174.64 L80.6679 1178.58 L50.9921 1178.58 L50.9921 1174.64 Z\" fill=\"#000000\" fill-rule=\"evenodd\" fill-opacity=\"1\" /><path clip-path=\"url(#clip140)\" d=\"M91.5706 1187.54 L99.2095 1187.54 L99.2095 1161.17 L90.8993 1162.84 L90.8993 1158.58 L99.1632 1156.91 L103.839 1156.91 L103.839 1187.54 L111.478 1187.54 L111.478 1191.47 L91.5706 1191.47 L91.5706 1187.54 Z\" fill=\"#000000\" fill-rule=\"evenodd\" fill-opacity=\"1\" /><path clip-path=\"url(#clip140)\" d=\"M99.5335 942.746 Q95.9224 942.746 94.0937 946.311 Q92.2882 949.853 92.2882 956.982 Q92.2882 964.089 94.0937 967.653 Q95.9224 971.195 99.5335 971.195 Q103.168 971.195 104.973 967.653 Q106.802 964.089 106.802 956.982 Q106.802 949.853 104.973 946.311 Q103.168 942.746 99.5335 942.746 M99.5335 939.042 Q105.344 939.042 108.399 943.649 Q111.478 948.232 111.478 956.982 Q111.478 965.709 108.399 970.315 Q105.344 974.899 99.5335 974.899 Q93.7234 974.899 90.6447 970.315 Q87.5892 965.709 87.5892 956.982 Q87.5892 948.232 90.6447 943.649 Q93.7234 939.042 99.5335 939.042 Z\" fill=\"#000000\" fill-rule=\"evenodd\" fill-opacity=\"1\" /><path clip-path=\"url(#clip140)\" d=\"M91.5706 753.05 L99.2095 753.05 L99.2095 726.684 L90.8993 728.351 L90.8993 724.091 L99.1632 722.425 L103.839 722.425 L103.839 753.05 L111.478 753.05 L111.478 756.985 L91.5706 756.985 L91.5706 753.05 Z\" fill=\"#000000\" fill-rule=\"evenodd\" fill-opacity=\"1\" /><path clip-path=\"url(#clip140)\" d=\"M95.1586 535.807 L111.478 535.807 L111.478 539.742 L89.5336 539.742 L89.5336 535.807 Q92.1956 533.052 96.7789 528.422 Q101.385 523.77 102.566 522.427 Q104.811 519.904 105.691 518.168 Q106.594 516.409 106.594 514.719 Q106.594 511.964 104.649 510.228 Q102.728 508.492 99.6261 508.492 Q97.4271 508.492 94.9734 509.256 Q92.5428 510.02 89.7651 511.571 L89.7651 506.849 Q92.5891 505.714 95.0428 505.136 Q97.4965 504.557 99.5335 504.557 Q104.904 504.557 108.098 507.242 Q111.293 509.927 111.293 514.418 Q111.293 516.548 110.483 518.469 Q109.696 520.367 107.589 522.96 Q107.01 523.631 103.909 526.848 Q100.807 530.043 95.1586 535.807 Z\" fill=\"#000000\" fill-rule=\"evenodd\" fill-opacity=\"1\" /><path clip-path=\"url(#clip140)\" d=\"M104.348 303.865 Q107.705 304.583 109.58 306.851 Q111.478 309.12 111.478 312.453 Q111.478 317.569 107.959 320.369 Q104.441 323.17 97.9595 323.17 Q95.7836 323.17 93.4688 322.731 Q91.1771 322.314 88.7234 321.457 L88.7234 316.944 Q90.6678 318.078 92.9826 318.657 Q95.2974 319.235 97.8206 319.235 Q102.219 319.235 104.51 317.499 Q106.825 315.763 106.825 312.453 Q106.825 309.397 104.672 307.684 Q102.543 305.948 98.7234 305.948 L94.6956 305.948 L94.6956 302.106 L98.9085 302.106 Q102.358 302.106 104.186 300.74 Q106.015 299.351 106.015 296.758 Q106.015 294.096 104.117 292.684 Q102.242 291.249 98.7234 291.249 Q96.8021 291.249 94.603 291.666 Q92.4039 292.083 89.7651 292.962 L89.7651 288.796 Q92.4271 288.055 94.7419 287.684 Q97.0798 287.314 99.14 287.314 Q104.464 287.314 107.566 289.745 Q110.668 292.152 110.668 296.272 Q110.668 299.143 109.024 301.133 Q107.381 303.101 104.348 303.865 Z\" fill=\"#000000\" fill-rule=\"evenodd\" fill-opacity=\"1\" /><path clip-path=\"url(#clip140)\" d=\"M101.895 74.7703 L90.0891 93.2193 L101.895 93.2193 L101.895 74.7703 M100.668 70.6963 L106.547 70.6963 L106.547 93.2193 L111.478 93.2193 L111.478 97.1082 L106.547 97.1082 L106.547 105.256 L101.895 105.256 L101.895 97.1082 L86.2929 97.1082 L86.2929 92.5943 L100.668 70.6963 Z\" fill=\"#000000\" fill-rule=\"evenodd\" fill-opacity=\"1\" /><polyline clip-path=\"url(#clip142)\" style=\"stroke:#009af9; stroke-linecap:round; stroke-linejoin:round; stroke-width:4; stroke-opacity:1; fill:none\" points=\"209.891,87.9763 213.278,96.8017 216.664,105.598 220.05,114.366 223.436,123.105 254.747,202.548 286.057,279.53 317.368,354.052 348.678,426.113 386.311,509.47 423.943,589.272 455.761,653.971 487.579,716.13 522.142,780.772 556.705,842.417 588.569,896.592 620.434,948.219 654.595,1000.74 688.757,1050.33 708.547,1077.72 728.337,1104.12 748.127,1129.54 767.917,1153.98 803.09,1195 838.264,1232.9 869.108,1263.59 899.953,1291.89 933.581,1320.02 967.21,1345.31 1001.04,1367.9 1034.87,1387.61 1072.27,1406.05 1109.67,1420.99 1145.26,1431.95 1180.84,1439.72 1217.84,1444.44 1254.85,1445.72 1285.99,1444.13 1317.14,1440.11 1336.16,1436.45 1355.17,1431.9 1374.18,1426.43 1393.2,1420.06 1428.03,1406.02 1462.87,1388.95 1495.04,1370.47 1527.22,1349.4 1559.81,1325.4 1592.4,1298.74 1628.92,1265.69 1665.45,1229.29 1698.55,1193.42 1731.64,1154.8 1750.59,1131.45 1769.54,1107.2 1788.49,1082.05 1807.43,1056 1842.52,1005.39 1877.61,951.678 1912.2,895.704 1946.79,836.726 1980.38,776.591 2013.96,713.625 2048.39,646.139 2082.82,575.677 2101.68,535.817 2120.54,495.063 2139.4,453.417 2158.27,410.878 2185.66,347.494 2213.06,282.225 2240.46,215.072 2267.86,146.036 2273.48,131.64 2279.1,117.165 2284.72,102.61 2290.34,87.9763 \"/>\n",
       "<path clip-path=\"url(#clip140)\" d=\"M2006.29 1438.47 L2279.25 1438.47 L2279.25 1334.79 L2006.29 1334.79  Z\" fill=\"#ffffff\" fill-rule=\"evenodd\" fill-opacity=\"1\"/>\n",
       "<polyline clip-path=\"url(#clip140)\" style=\"stroke:#000000; stroke-linecap:round; stroke-linejoin:round; stroke-width:4; stroke-opacity:1; fill:none\" points=\"2006.29,1438.47 2279.25,1438.47 2279.25,1334.79 2006.29,1334.79 2006.29,1438.47 \"/>\n",
       "<polyline clip-path=\"url(#clip140)\" style=\"stroke:#009af9; stroke-linecap:round; stroke-linejoin:round; stroke-width:4; stroke-opacity:1; fill:none\" points=\"2030.79,1386.63 2177.81,1386.63 \"/>\n",
       "<path clip-path=\"url(#clip140)\" d=\"M2216.16 1406.32 Q2214.35 1410.95 2212.64 1412.36 Q2210.92 1413.78 2208.05 1413.78 L2204.65 1413.78 L2204.65 1410.21 L2207.15 1410.21 Q2208.91 1410.21 2209.88 1409.38 Q2210.85 1408.54 2212.04 1405.44 L2212.8 1403.5 L2202.31 1377.99 L2206.83 1377.99 L2214.93 1398.27 L2223.03 1377.99 L2227.54 1377.99 L2216.16 1406.32 Z\" fill=\"#000000\" fill-rule=\"evenodd\" fill-opacity=\"1\" /><path clip-path=\"url(#clip140)\" d=\"M2234.84 1399.98 L2242.48 1399.98 L2242.48 1373.61 L2234.16 1375.28 L2234.16 1371.02 L2242.43 1369.35 L2247.1 1369.35 L2247.1 1399.98 L2254.74 1399.98 L2254.74 1403.91 L2234.84 1403.91 L2234.84 1399.98 Z\" fill=\"#000000\" fill-rule=\"evenodd\" fill-opacity=\"1\" /></svg>\n"
      ]
     },
     "execution_count": 27,
     "metadata": {},
     "output_type": "execute_result"
    }
   ],
   "source": [
    "plot(x ->(x-3)*x,-1,4)"
   ]
  },
  {
   "cell_type": "markdown",
   "metadata": {},
   "source": [
    "Więcej na https://docs.juliahub.com/Roots/o0Xsi/2.0.10/reference/"
   ]
  },
  {
   "cell_type": "markdown",
   "metadata": {},
   "source": [
    "Wyciąganie informacji z przebiegu działania funkcji: https://docs.juliahub.com/Roots/o0Xsi/2.0.10/reference/#Tracking-iterations\n",
    "\n",
    "\n",
    "tracker = Roots.Tracks()\n",
    "find_zero(..., tracks = tracker)\n",
    " \n",
    "iteracje ->  tracker.steps\n",
    "\n",
    "wywołania funkcji ->  tracker.fncalls\n"
   ]
  },
  {
   "cell_type": "markdown",
   "metadata": {},
   "source": [
    "### Zadanie:\n",
    "\n",
    "A. Wybrać trzy metody poszukiwania pierwiastków: \n",
    "\n",
    "* wykorzystującą przedział i zmianę znaku, \n",
    "* wykorzystującą pochodną, \n",
    "* wykorzystującą przybliżenie pochodnej\n",
    "\n",
    "    1. Każdą z trzech wybranych metod przetestować (ilość iteracji, ilość wywołań funkcji) na sześciu wybranych  funkcjach ze zbioru http://people.sc.fsu.edu/~jburkardt/py_src/test_zero/test_zero.html Wyniki przedstawić w formie tabelki. <b>Pamiętać o sprawdzeniu czy wynik jest poprawny poprzez obliczenie wartości funkcji dla znalezionego pierwiastka !</b> (3 pkt)\n",
    "\n",
    "    2. Zademonstrować wybrany, ciekawy przykład trudnej funkcji z p.1 i działania metod na niej. (1 pkt)\n",
    "\n",
    "    3. Dla każdej z wybranych metod zademonstrować i wyjaśnić po jednym  przykładzie, dla którego nie działają (można na podstawie p.1 lub wymyślić własny)(1 pkt)\n",
    "\n",
    "B. Narysować <a href=\"https://pl.wikipedia.org/wiki/Wst%C4%99ga_Newtona\"> wstegę Newtona </a> i objaśnić, w jaki sposób powstała i jaki jest jej związek z metodą Newtona do znajdowania pierwiastków. Sposób i język - dowolny. (1 pkt)"
   ]
  }
 ],
 "metadata": {
  "kernelspec": {
   "display_name": "Julia 1.8.5",
   "language": "julia",
   "name": "julia-1.8"
  },
  "language_info": {
   "file_extension": ".jl",
   "mimetype": "application/julia",
   "name": "julia",
   "version": "1.8.5"
  }
 },
 "nbformat": 4,
 "nbformat_minor": 4
}
