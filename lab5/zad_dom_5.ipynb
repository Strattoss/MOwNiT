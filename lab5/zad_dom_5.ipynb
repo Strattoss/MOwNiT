{
 "cells": [
  {
   "cell_type": "markdown",
   "id": "0c81b80b-11cc-4301-b24d-0a57a16f792f",
   "metadata": {},
   "source": [
    "# Zadania"
   ]
  },
  {
   "cell_type": "markdown",
   "id": "11ab99f3-de80-4d59-99d0-b65911ac6a8d",
   "metadata": {},
   "source": [
    "## Zad1"
   ]
  },
  {
   "cell_type": "markdown",
   "id": "4b5fbc89-3565-4e86-9e1e-2a6517175b59",
   "metadata": {},
   "source": [
    "Uruchomić \n",
    "   - `naive_multiplication(A,B)`, \n",
    "   - `better_multiplication(A,B)` \n",
    "   - mnożenie BLAS w Julii (`A*B`)\n",
    "   \n",
    "dla coraz większych macierzy kwadratowych i zmierzyć czasy. Narysować wykres zależyności czasu od rozmiaru macierzy wraz z słupkami błędów. Wszystkie trzy metody powinny być na jednym wykresie. **(1pkt)**. Do analizy danych można użyć wybranego narzędzia (Julia, R)\n",
    " "
   ]
  },
  {
   "cell_type": "markdown",
   "id": "fcdf0941-fb61-4aee-948c-9c4f8c32d65e",
   "metadata": {},
   "source": [
    "## Funkcje mnożące"
   ]
  },
  {
   "cell_type": "code",
   "execution_count": 1,
   "id": "f66e0bfc-378c-4eaf-9f40-43d03c695f74",
   "metadata": {
    "tags": []
   },
   "outputs": [
    {
     "data": {
      "text/plain": [
       "better_multiplication (generic function with 1 method)"
      ]
     },
     "execution_count": 1,
     "metadata": {},
     "output_type": "execute_result"
    }
   ],
   "source": [
    "function naive_multiplication(A,B)\n",
    "    C = zeros(Float64, size(A,1), size(B,2))\n",
    "    for i=1:size(A,1)\n",
    "        for j=1:size(B,2)\n",
    "            for k=1:size(A,2)\n",
    "                C[i,j] = C[i,j] + A[i,k]*B[k,j]\n",
    "            end\n",
    "        end\n",
    "    end\n",
    "    C\n",
    "end\n",
    "\n",
    "function better_multiplication(A, B)\n",
    "    C = zeros(Float64, size(A,1), size(B,2))\n",
    "    for j=1:size(B,2)\n",
    "        for k=1:size(A,2)\n",
    "            for i=1:size(A,1)\n",
    "                C[i,j] = C[i,j] + A[i,k]*B[k,j]\n",
    "            end\n",
    "        end\n",
    "    end\n",
    "    C\n",
    "end"
   ]
  },
  {
   "cell_type": "markdown",
   "id": "2098022b-7b38-411c-b7d1-cd70e3bff881",
   "metadata": {},
   "source": [
    "## Pomiary"
   ]
  },
  {
   "cell_type": "code",
   "execution_count": 26,
   "id": "b11233cb-b15c-49e7-831a-4ff97c67eff2",
   "metadata": {
    "tags": []
   },
   "outputs": [
    {
     "data": {
      "text/html": [
       "<div><div style = \"float: left;\"><span>330×3 DataFrame</span></div><div style = \"float: right;\"><span style = \"font-style: italic;\">305 rows omitted</span></div><div style = \"clear: both;\"></div></div><div class = \"data-frame\" style = \"overflow-x: scroll;\"><table class = \"data-frame\" style = \"margin-bottom: 6px;\"><thead><tr class = \"header\"><th class = \"rowNumber\" style = \"font-weight: bold; text-align: right;\">Row</th><th style = \"text-align: left;\">type</th><th style = \"text-align: left;\">matrix_size</th><th style = \"text-align: left;\">time</th></tr><tr class = \"subheader headerLastRow\"><th class = \"rowNumber\" style = \"font-weight: bold; text-align: right;\"></th><th title = \"String\" style = \"text-align: left;\">String</th><th title = \"Int64\" style = \"text-align: left;\">Int64</th><th title = \"Float64\" style = \"text-align: left;\">Float64</th></tr></thead><tbody><tr><td class = \"rowNumber\" style = \"font-weight: bold; text-align: right;\">1</td><td style = \"text-align: left;\">naive</td><td style = \"text-align: right;\">100</td><td style = \"text-align: right;\">0.0058528</td></tr><tr><td class = \"rowNumber\" style = \"font-weight: bold; text-align: right;\">2</td><td style = \"text-align: left;\">better</td><td style = \"text-align: right;\">100</td><td style = \"text-align: right;\">0.002314</td></tr><tr><td class = \"rowNumber\" style = \"font-weight: bold; text-align: right;\">3</td><td style = \"text-align: left;\">star product</td><td style = \"text-align: right;\">100</td><td style = \"text-align: right;\">0.000381</td></tr><tr><td class = \"rowNumber\" style = \"font-weight: bold; text-align: right;\">4</td><td style = \"text-align: left;\">naive</td><td style = \"text-align: right;\">100</td><td style = \"text-align: right;\">0.0057478</td></tr><tr><td class = \"rowNumber\" style = \"font-weight: bold; text-align: right;\">5</td><td style = \"text-align: left;\">better</td><td style = \"text-align: right;\">100</td><td style = \"text-align: right;\">0.0024025</td></tr><tr><td class = \"rowNumber\" style = \"font-weight: bold; text-align: right;\">6</td><td style = \"text-align: left;\">star product</td><td style = \"text-align: right;\">100</td><td style = \"text-align: right;\">0.0003328</td></tr><tr><td class = \"rowNumber\" style = \"font-weight: bold; text-align: right;\">7</td><td style = \"text-align: left;\">naive</td><td style = \"text-align: right;\">100</td><td style = \"text-align: right;\">0.0057835</td></tr><tr><td class = \"rowNumber\" style = \"font-weight: bold; text-align: right;\">8</td><td style = \"text-align: left;\">better</td><td style = \"text-align: right;\">100</td><td style = \"text-align: right;\">0.0022395</td></tr><tr><td class = \"rowNumber\" style = \"font-weight: bold; text-align: right;\">9</td><td style = \"text-align: left;\">star product</td><td style = \"text-align: right;\">100</td><td style = \"text-align: right;\">0.0003143</td></tr><tr><td class = \"rowNumber\" style = \"font-weight: bold; text-align: right;\">10</td><td style = \"text-align: left;\">naive</td><td style = \"text-align: right;\">100</td><td style = \"text-align: right;\">0.0057464</td></tr><tr><td class = \"rowNumber\" style = \"font-weight: bold; text-align: right;\">11</td><td style = \"text-align: left;\">better</td><td style = \"text-align: right;\">100</td><td style = \"text-align: right;\">0.0023434</td></tr><tr><td class = \"rowNumber\" style = \"font-weight: bold; text-align: right;\">12</td><td style = \"text-align: left;\">star product</td><td style = \"text-align: right;\">100</td><td style = \"text-align: right;\">0.0003027</td></tr><tr><td class = \"rowNumber\" style = \"font-weight: bold; text-align: right;\">13</td><td style = \"text-align: left;\">naive</td><td style = \"text-align: right;\">100</td><td style = \"text-align: right;\">0.0057654</td></tr><tr><td style = \"text-align: right;\">&vellip;</td><td style = \"text-align: right;\">&vellip;</td><td style = \"text-align: right;\">&vellip;</td><td style = \"text-align: right;\">&vellip;</td></tr><tr><td class = \"rowNumber\" style = \"font-weight: bold; text-align: right;\">319</td><td style = \"text-align: left;\">naive</td><td style = \"text-align: right;\">300</td><td style = \"text-align: right;\">0.162921</td></tr><tr><td class = \"rowNumber\" style = \"font-weight: bold; text-align: right;\">320</td><td style = \"text-align: left;\">better</td><td style = \"text-align: right;\">300</td><td style = \"text-align: right;\">0.0589128</td></tr><tr><td class = \"rowNumber\" style = \"font-weight: bold; text-align: right;\">321</td><td style = \"text-align: left;\">star product</td><td style = \"text-align: right;\">300</td><td style = \"text-align: right;\">0.0027464</td></tr><tr><td class = \"rowNumber\" style = \"font-weight: bold; text-align: right;\">322</td><td style = \"text-align: left;\">naive</td><td style = \"text-align: right;\">300</td><td style = \"text-align: right;\">0.16356</td></tr><tr><td class = \"rowNumber\" style = \"font-weight: bold; text-align: right;\">323</td><td style = \"text-align: left;\">better</td><td style = \"text-align: right;\">300</td><td style = \"text-align: right;\">0.0598802</td></tr><tr><td class = \"rowNumber\" style = \"font-weight: bold; text-align: right;\">324</td><td style = \"text-align: left;\">star product</td><td style = \"text-align: right;\">300</td><td style = \"text-align: right;\">0.002782</td></tr><tr><td class = \"rowNumber\" style = \"font-weight: bold; text-align: right;\">325</td><td style = \"text-align: left;\">naive</td><td style = \"text-align: right;\">300</td><td style = \"text-align: right;\">0.167056</td></tr><tr><td class = \"rowNumber\" style = \"font-weight: bold; text-align: right;\">326</td><td style = \"text-align: left;\">better</td><td style = \"text-align: right;\">300</td><td style = \"text-align: right;\">0.0632067</td></tr><tr><td class = \"rowNumber\" style = \"font-weight: bold; text-align: right;\">327</td><td style = \"text-align: left;\">star product</td><td style = \"text-align: right;\">300</td><td style = \"text-align: right;\">0.0028812</td></tr><tr><td class = \"rowNumber\" style = \"font-weight: bold; text-align: right;\">328</td><td style = \"text-align: left;\">naive</td><td style = \"text-align: right;\">300</td><td style = \"text-align: right;\">0.16306</td></tr><tr><td class = \"rowNumber\" style = \"font-weight: bold; text-align: right;\">329</td><td style = \"text-align: left;\">better</td><td style = \"text-align: right;\">300</td><td style = \"text-align: right;\">0.0593747</td></tr><tr><td class = \"rowNumber\" style = \"font-weight: bold; text-align: right;\">330</td><td style = \"text-align: left;\">star product</td><td style = \"text-align: right;\">300</td><td style = \"text-align: right;\">0.002788</td></tr></tbody></table></div>"
      ],
      "text/latex": [
       "\\begin{tabular}{r|ccc}\n",
       "\t& type & matrix\\_size & time\\\\\n",
       "\t\\hline\n",
       "\t& String & Int64 & Float64\\\\\n",
       "\t\\hline\n",
       "\t1 & naive & 100 & 0.0058528 \\\\\n",
       "\t2 & better & 100 & 0.002314 \\\\\n",
       "\t3 & star product & 100 & 0.000381 \\\\\n",
       "\t4 & naive & 100 & 0.0057478 \\\\\n",
       "\t5 & better & 100 & 0.0024025 \\\\\n",
       "\t6 & star product & 100 & 0.0003328 \\\\\n",
       "\t7 & naive & 100 & 0.0057835 \\\\\n",
       "\t8 & better & 100 & 0.0022395 \\\\\n",
       "\t9 & star product & 100 & 0.0003143 \\\\\n",
       "\t10 & naive & 100 & 0.0057464 \\\\\n",
       "\t11 & better & 100 & 0.0023434 \\\\\n",
       "\t12 & star product & 100 & 0.0003027 \\\\\n",
       "\t13 & naive & 100 & 0.0057654 \\\\\n",
       "\t14 & better & 100 & 0.0023477 \\\\\n",
       "\t15 & star product & 100 & 0.0003064 \\\\\n",
       "\t16 & naive & 100 & 0.0057807 \\\\\n",
       "\t17 & better & 100 & 0.0023154 \\\\\n",
       "\t18 & star product & 100 & 0.000297 \\\\\n",
       "\t19 & naive & 100 & 0.0057865 \\\\\n",
       "\t20 & better & 100 & 0.0023235 \\\\\n",
       "\t21 & star product & 100 & 0.0003232 \\\\\n",
       "\t22 & naive & 100 & 0.0058007 \\\\\n",
       "\t23 & better & 100 & 0.0023508 \\\\\n",
       "\t24 & star product & 100 & 0.0003165 \\\\\n",
       "\t25 & naive & 100 & 0.0059005 \\\\\n",
       "\t26 & better & 100 & 0.0022408 \\\\\n",
       "\t27 & star product & 100 & 0.0003404 \\\\\n",
       "\t28 & naive & 100 & 0.0051632 \\\\\n",
       "\t29 & better & 100 & 0.0020591 \\\\\n",
       "\t30 & star product & 100 & 0.0003136 \\\\\n",
       "\t$\\dots$ & $\\dots$ & $\\dots$ & $\\dots$ \\\\\n",
       "\\end{tabular}\n"
      ],
      "text/plain": [
       "\u001b[1m330×3 DataFrame\u001b[0m\n",
       "\u001b[1m Row \u001b[0m│\u001b[1m type         \u001b[0m\u001b[1m matrix_size \u001b[0m\u001b[1m time      \u001b[0m\n",
       "     │\u001b[90m String       \u001b[0m\u001b[90m Int64       \u001b[0m\u001b[90m Float64   \u001b[0m\n",
       "─────┼──────────────────────────────────────\n",
       "   1 │ naive                 100  0.0058528\n",
       "   2 │ better                100  0.002314\n",
       "   3 │ star product          100  0.000381\n",
       "   4 │ naive                 100  0.0057478\n",
       "   5 │ better                100  0.0024025\n",
       "   6 │ star product          100  0.0003328\n",
       "   7 │ naive                 100  0.0057835\n",
       "   8 │ better                100  0.0022395\n",
       "   9 │ star product          100  0.0003143\n",
       "  10 │ naive                 100  0.0057464\n",
       "  11 │ better                100  0.0023434\n",
       "  ⋮  │      ⋮             ⋮           ⋮\n",
       " 321 │ star product          300  0.0027464\n",
       " 322 │ naive                 300  0.16356\n",
       " 323 │ better                300  0.0598802\n",
       " 324 │ star product          300  0.002782\n",
       " 325 │ naive                 300  0.167056\n",
       " 326 │ better                300  0.0632067\n",
       " 327 │ star product          300  0.0028812\n",
       " 328 │ naive                 300  0.16306\n",
       " 329 │ better                300  0.0593747\n",
       " 330 │ star product          300  0.002788\n",
       "\u001b[36m                            309 rows omitted\u001b[0m"
      ]
     },
     "execution_count": 26,
     "metadata": {},
     "output_type": "execute_result"
    }
   ],
   "source": [
    "using DataFrames\n",
    "\n",
    "# compilation\n",
    "A = [[1.0 1.0]; [2.0 3.0]]\n",
    "B = [[1.0 1.0]; [2.0 3.0]]\n",
    "naive_multiplication(A, B)\n",
    "better_multiplication(A, B)\n",
    "A*B\n",
    "\n",
    "# dataframe\n",
    "measurements = DataFrame(type = String[], matrix_size= Int64[], time = Float64[])\n",
    "\n",
    "# measurements\n",
    "for n in 100:20:300\n",
    "    \n",
    "    A = zeros(Float64, n, n)\n",
    "    B = zeros(Float64, n, n)\n",
    "    \n",
    "    for i in 1:n\n",
    "        for j in 1:n\n",
    "            A[i, j] = rand()\n",
    "            B[i, j] = rand()\n",
    "        end\n",
    "    end\n",
    "    \n",
    "    for i in 1:10\n",
    "        meas_time = @elapsed naive_multiplication(A, B)\n",
    "        push!(measurements, [\"naive\", n, meas_time])\n",
    "        \n",
    "        meas_time = @elapsed better_multiplication(A, B)\n",
    "        push!(measurements, [\"better\", n, meas_time])\n",
    "        \n",
    "        meas_time = @elapsed A * B\n",
    "        push!(measurements, [\"star product\", n, meas_time])\n",
    "    end\n",
    "    \n",
    "end\n",
    "\n",
    "measurements"
   ]
  },
  {
   "cell_type": "markdown",
   "id": "445f8116-8a51-4198-8c66-e49d68afe3bf",
   "metadata": {},
   "source": [
    "## Przeksztacenia dataframe'a"
   ]
  },
  {
   "cell_type": "code",
   "execution_count": 27,
   "id": "aca0b4ed-dd31-40bc-9dac-60b2a99ae77a",
   "metadata": {},
   "outputs": [
    {
     "data": {
      "text/html": [
       "<div><div style = \"float: left;\"><span>33×4 DataFrame</span></div><div style = \"float: right;\"><span style = \"font-style: italic;\">8 rows omitted</span></div><div style = \"clear: both;\"></div></div><div class = \"data-frame\" style = \"overflow-x: scroll;\"><table class = \"data-frame\" style = \"margin-bottom: 6px;\"><thead><tr class = \"header\"><th class = \"rowNumber\" style = \"font-weight: bold; text-align: right;\">Row</th><th style = \"text-align: left;\">type</th><th style = \"text-align: left;\">matrix_size</th><th style = \"text-align: left;\">time_mean</th><th style = \"text-align: left;\">time_std</th></tr><tr class = \"subheader headerLastRow\"><th class = \"rowNumber\" style = \"font-weight: bold; text-align: right;\"></th><th title = \"String\" style = \"text-align: left;\">String</th><th title = \"Int64\" style = \"text-align: left;\">Int64</th><th title = \"Float64\" style = \"text-align: left;\">Float64</th><th title = \"Float64\" style = \"text-align: left;\">Float64</th></tr></thead><tbody><tr><td class = \"rowNumber\" style = \"font-weight: bold; text-align: right;\">1</td><td style = \"text-align: left;\">naive</td><td style = \"text-align: right;\">100</td><td style = \"text-align: right;\">0.00573275</td><td style = \"text-align: right;\">0.000205696</td></tr><tr><td class = \"rowNumber\" style = \"font-weight: bold; text-align: right;\">2</td><td style = \"text-align: left;\">better</td><td style = \"text-align: right;\">100</td><td style = \"text-align: right;\">0.00229367</td><td style = \"text-align: right;\">9.60487e-5</td></tr><tr><td class = \"rowNumber\" style = \"font-weight: bold; text-align: right;\">3</td><td style = \"text-align: left;\">star product</td><td style = \"text-align: right;\">100</td><td style = \"text-align: right;\">0.00032279</td><td style = \"text-align: right;\">2.4341e-5</td></tr><tr><td class = \"rowNumber\" style = \"font-weight: bold; text-align: right;\">4</td><td style = \"text-align: left;\">naive</td><td style = \"text-align: right;\">120</td><td style = \"text-align: right;\">0.0114257</td><td style = \"text-align: right;\">0.00125288</td></tr><tr><td class = \"rowNumber\" style = \"font-weight: bold; text-align: right;\">5</td><td style = \"text-align: left;\">better</td><td style = \"text-align: right;\">120</td><td style = \"text-align: right;\">0.00585169</td><td style = \"text-align: right;\">0.0010775</td></tr><tr><td class = \"rowNumber\" style = \"font-weight: bold; text-align: right;\">6</td><td style = \"text-align: left;\">star product</td><td style = \"text-align: right;\">120</td><td style = \"text-align: right;\">0.00045592</td><td style = \"text-align: right;\">4.37057e-5</td></tr><tr><td class = \"rowNumber\" style = \"font-weight: bold; text-align: right;\">7</td><td style = \"text-align: left;\">naive</td><td style = \"text-align: right;\">140</td><td style = \"text-align: right;\">0.0192331</td><td style = \"text-align: right;\">0.000892141</td></tr><tr><td class = \"rowNumber\" style = \"font-weight: bold; text-align: right;\">8</td><td style = \"text-align: left;\">better</td><td style = \"text-align: right;\">140</td><td style = \"text-align: right;\">0.00982277</td><td style = \"text-align: right;\">0.00143008</td></tr><tr><td class = \"rowNumber\" style = \"font-weight: bold; text-align: right;\">9</td><td style = \"text-align: left;\">star product</td><td style = \"text-align: right;\">140</td><td style = \"text-align: right;\">0.0005703</td><td style = \"text-align: right;\">5.03779e-5</td></tr><tr><td class = \"rowNumber\" style = \"font-weight: bold; text-align: right;\">10</td><td style = \"text-align: left;\">naive</td><td style = \"text-align: right;\">160</td><td style = \"text-align: right;\">0.0257455</td><td style = \"text-align: right;\">0.00272718</td></tr><tr><td class = \"rowNumber\" style = \"font-weight: bold; text-align: right;\">11</td><td style = \"text-align: left;\">better</td><td style = \"text-align: right;\">160</td><td style = \"text-align: right;\">0.0111443</td><td style = \"text-align: right;\">0.00301531</td></tr><tr><td class = \"rowNumber\" style = \"font-weight: bold; text-align: right;\">12</td><td style = \"text-align: left;\">star product</td><td style = \"text-align: right;\">160</td><td style = \"text-align: right;\">0.00066304</td><td style = \"text-align: right;\">9.04372e-5</td></tr><tr><td class = \"rowNumber\" style = \"font-weight: bold; text-align: right;\">13</td><td style = \"text-align: left;\">naive</td><td style = \"text-align: right;\">180</td><td style = \"text-align: right;\">0.0348159</td><td style = \"text-align: right;\">0.000221083</td></tr><tr><td style = \"text-align: right;\">&vellip;</td><td style = \"text-align: right;\">&vellip;</td><td style = \"text-align: right;\">&vellip;</td><td style = \"text-align: right;\">&vellip;</td><td style = \"text-align: right;\">&vellip;</td></tr><tr><td class = \"rowNumber\" style = \"font-weight: bold; text-align: right;\">22</td><td style = \"text-align: left;\">naive</td><td style = \"text-align: right;\">240</td><td style = \"text-align: right;\">0.0900875</td><td style = \"text-align: right;\">0.0100817</td></tr><tr><td class = \"rowNumber\" style = \"font-weight: bold; text-align: right;\">23</td><td style = \"text-align: left;\">better</td><td style = \"text-align: right;\">240</td><td style = \"text-align: right;\">0.0327069</td><td style = \"text-align: right;\">0.00471915</td></tr><tr><td class = \"rowNumber\" style = \"font-weight: bold; text-align: right;\">24</td><td style = \"text-align: left;\">star product</td><td style = \"text-align: right;\">240</td><td style = \"text-align: right;\">0.00175164</td><td style = \"text-align: right;\">0.000320647</td></tr><tr><td class = \"rowNumber\" style = \"font-weight: bold; text-align: right;\">25</td><td style = \"text-align: left;\">naive</td><td style = \"text-align: right;\">260</td><td style = \"text-align: right;\">0.105934</td><td style = \"text-align: right;\">0.00037119</td></tr><tr><td class = \"rowNumber\" style = \"font-weight: bold; text-align: right;\">26</td><td style = \"text-align: left;\">better</td><td style = \"text-align: right;\">260</td><td style = \"text-align: right;\">0.0391304</td><td style = \"text-align: right;\">0.00229534</td></tr><tr><td class = \"rowNumber\" style = \"font-weight: bold; text-align: right;\">27</td><td style = \"text-align: left;\">star product</td><td style = \"text-align: right;\">260</td><td style = \"text-align: right;\">0.00191707</td><td style = \"text-align: right;\">4.64826e-5</td></tr><tr><td class = \"rowNumber\" style = \"font-weight: bold; text-align: right;\">28</td><td style = \"text-align: left;\">naive</td><td style = \"text-align: right;\">280</td><td style = \"text-align: right;\">0.135672</td><td style = \"text-align: right;\">0.00694448</td></tr><tr><td class = \"rowNumber\" style = \"font-weight: bold; text-align: right;\">29</td><td style = \"text-align: left;\">better</td><td style = \"text-align: right;\">280</td><td style = \"text-align: right;\">0.0491915</td><td style = \"text-align: right;\">0.00410498</td></tr><tr><td class = \"rowNumber\" style = \"font-weight: bold; text-align: right;\">30</td><td style = \"text-align: left;\">star product</td><td style = \"text-align: right;\">280</td><td style = \"text-align: right;\">0.00241641</td><td style = \"text-align: right;\">0.000263228</td></tr><tr><td class = \"rowNumber\" style = \"font-weight: bold; text-align: right;\">31</td><td style = \"text-align: left;\">naive</td><td style = \"text-align: right;\">300</td><td style = \"text-align: right;\">0.165136</td><td style = \"text-align: right;\">0.00402891</td></tr><tr><td class = \"rowNumber\" style = \"font-weight: bold; text-align: right;\">32</td><td style = \"text-align: left;\">better</td><td style = \"text-align: right;\">300</td><td style = \"text-align: right;\">0.0599666</td><td style = \"text-align: right;\">0.00139907</td></tr><tr><td class = \"rowNumber\" style = \"font-weight: bold; text-align: right;\">33</td><td style = \"text-align: left;\">star product</td><td style = \"text-align: right;\">300</td><td style = \"text-align: right;\">0.00288866</td><td style = \"text-align: right;\">0.000221429</td></tr></tbody></table></div>"
      ],
      "text/latex": [
       "\\begin{tabular}{r|cccc}\n",
       "\t& type & matrix\\_size & time\\_mean & time\\_std\\\\\n",
       "\t\\hline\n",
       "\t& String & Int64 & Float64 & Float64\\\\\n",
       "\t\\hline\n",
       "\t1 & naive & 100 & 0.00573275 & 0.000205696 \\\\\n",
       "\t2 & better & 100 & 0.00229367 & 9.60487e-5 \\\\\n",
       "\t3 & star product & 100 & 0.00032279 & 2.4341e-5 \\\\\n",
       "\t4 & naive & 120 & 0.0114257 & 0.00125288 \\\\\n",
       "\t5 & better & 120 & 0.00585169 & 0.0010775 \\\\\n",
       "\t6 & star product & 120 & 0.00045592 & 4.37057e-5 \\\\\n",
       "\t7 & naive & 140 & 0.0192331 & 0.000892141 \\\\\n",
       "\t8 & better & 140 & 0.00982277 & 0.00143008 \\\\\n",
       "\t9 & star product & 140 & 0.0005703 & 5.03779e-5 \\\\\n",
       "\t10 & naive & 160 & 0.0257455 & 0.00272718 \\\\\n",
       "\t11 & better & 160 & 0.0111443 & 0.00301531 \\\\\n",
       "\t12 & star product & 160 & 0.00066304 & 9.04372e-5 \\\\\n",
       "\t13 & naive & 180 & 0.0348159 & 0.000221083 \\\\\n",
       "\t14 & better & 180 & 0.0134814 & 0.00143528 \\\\\n",
       "\t15 & star product & 180 & 0.00090158 & 3.81556e-5 \\\\\n",
       "\t16 & naive & 200 & 0.0501273 & 0.00486816 \\\\\n",
       "\t17 & better & 200 & 0.0194135 & 0.00237005 \\\\\n",
       "\t18 & star product & 200 & 0.00122928 & 0.000246657 \\\\\n",
       "\t19 & naive & 220 & 0.0669913 & 0.00543729 \\\\\n",
       "\t20 & better & 220 & 0.0240827 & 0.00173286 \\\\\n",
       "\t21 & star product & 220 & 0.0013271 & 9.66594e-5 \\\\\n",
       "\t22 & naive & 240 & 0.0900875 & 0.0100817 \\\\\n",
       "\t23 & better & 240 & 0.0327069 & 0.00471915 \\\\\n",
       "\t24 & star product & 240 & 0.00175164 & 0.000320647 \\\\\n",
       "\t25 & naive & 260 & 0.105934 & 0.00037119 \\\\\n",
       "\t26 & better & 260 & 0.0391304 & 0.00229534 \\\\\n",
       "\t27 & star product & 260 & 0.00191707 & 4.64826e-5 \\\\\n",
       "\t28 & naive & 280 & 0.135672 & 0.00694448 \\\\\n",
       "\t29 & better & 280 & 0.0491915 & 0.00410498 \\\\\n",
       "\t30 & star product & 280 & 0.00241641 & 0.000263228 \\\\\n",
       "\t$\\dots$ & $\\dots$ & $\\dots$ & $\\dots$ & $\\dots$ \\\\\n",
       "\\end{tabular}\n"
      ],
      "text/plain": [
       "\u001b[1m33×4 DataFrame\u001b[0m\n",
       "\u001b[1m Row \u001b[0m│\u001b[1m type         \u001b[0m\u001b[1m matrix_size \u001b[0m\u001b[1m time_mean  \u001b[0m\u001b[1m time_std    \u001b[0m\n",
       "     │\u001b[90m String       \u001b[0m\u001b[90m Int64       \u001b[0m\u001b[90m Float64    \u001b[0m\u001b[90m Float64     \u001b[0m\n",
       "─────┼────────────────────────────────────────────────────\n",
       "   1 │ naive                 100  0.00573275  0.000205696\n",
       "   2 │ better                100  0.00229367  9.60487e-5\n",
       "   3 │ star product          100  0.00032279  2.4341e-5\n",
       "   4 │ naive                 120  0.0114257   0.00125288\n",
       "   5 │ better                120  0.00585169  0.0010775\n",
       "   6 │ star product          120  0.00045592  4.37057e-5\n",
       "   7 │ naive                 140  0.0192331   0.000892141\n",
       "   8 │ better                140  0.00982277  0.00143008\n",
       "   9 │ star product          140  0.0005703   5.03779e-5\n",
       "  10 │ naive                 160  0.0257455   0.00272718\n",
       "  11 │ better                160  0.0111443   0.00301531\n",
       "  ⋮  │      ⋮             ⋮           ⋮            ⋮\n",
       "  24 │ star product          240  0.00175164  0.000320647\n",
       "  25 │ naive                 260  0.105934    0.00037119\n",
       "  26 │ better                260  0.0391304   0.00229534\n",
       "  27 │ star product          260  0.00191707  4.64826e-5\n",
       "  28 │ naive                 280  0.135672    0.00694448\n",
       "  29 │ better                280  0.0491915   0.00410498\n",
       "  30 │ star product          280  0.00241641  0.000263228\n",
       "  31 │ naive                 300  0.165136    0.00402891\n",
       "  32 │ better                300  0.0599666   0.00139907\n",
       "  33 │ star product          300  0.00288866  0.000221429\n",
       "\u001b[36m                                           12 rows omitted\u001b[0m"
      ]
     },
     "execution_count": 27,
     "metadata": {},
     "output_type": "execute_result"
    }
   ],
   "source": [
    "using Statistics\n",
    "\n",
    "measurements_grouped = groupby(measurements, [:type,:matrix_size])\n",
    "measurements_plottable = combine(measurements_grouped, :time => mean, :time => std)"
   ]
  },
  {
   "cell_type": "code",
   "execution_count": 32,
   "id": "7bc83a32-7a0f-4c15-8f2e-26c32602085e",
   "metadata": {},
   "outputs": [
    {
     "data": {
      "image/svg+xml": [
       "<?xml version=\"1.0\" encoding=\"utf-8\"?>\n",
       "<svg xmlns=\"http://www.w3.org/2000/svg\" xmlns:xlink=\"http://www.w3.org/1999/xlink\" width=\"600\" height=\"400\" viewBox=\"0 0 2400 1600\">\n",
       "<defs>\n",
       "  <clipPath id=\"clip390\">\n",
       "    <rect x=\"0\" y=\"0\" width=\"2400\" height=\"1600\"/>\n",
       "  </clipPath>\n",
       "</defs>\n",
       "<path clip-path=\"url(#clip390)\" d=\"M0 1600 L2400 1600 L2400 0 L0 0  Z\" fill=\"#ffffff\" fill-rule=\"evenodd\" fill-opacity=\"1\"/>\n",
       "<defs>\n",
       "  <clipPath id=\"clip391\">\n",
       "    <rect x=\"480\" y=\"0\" width=\"1681\" height=\"1600\"/>\n",
       "  </clipPath>\n",
       "</defs>\n",
       "<path clip-path=\"url(#clip390)\" d=\"M249.542 1423.18 L2352.76 1423.18 L2352.76 47.2441 L249.542 47.2441  Z\" fill=\"#ffffff\" fill-rule=\"evenodd\" fill-opacity=\"1\"/>\n",
       "<defs>\n",
       "  <clipPath id=\"clip392\">\n",
       "    <rect x=\"249\" y=\"47\" width=\"2104\" height=\"1377\"/>\n",
       "  </clipPath>\n",
       "</defs>\n",
       "<polyline clip-path=\"url(#clip392)\" style=\"stroke:#000000; stroke-linecap:round; stroke-linejoin:round; stroke-width:2; stroke-opacity:0.1; fill:none\" points=\"309.067,1423.18 309.067,47.2441 \"/>\n",
       "<polyline clip-path=\"url(#clip392)\" style=\"stroke:#000000; stroke-linecap:round; stroke-linejoin:round; stroke-width:2; stroke-opacity:0.1; fill:none\" points=\"805.108,1423.18 805.108,47.2441 \"/>\n",
       "<polyline clip-path=\"url(#clip392)\" style=\"stroke:#000000; stroke-linecap:round; stroke-linejoin:round; stroke-width:2; stroke-opacity:0.1; fill:none\" points=\"1301.15,1423.18 1301.15,47.2441 \"/>\n",
       "<polyline clip-path=\"url(#clip392)\" style=\"stroke:#000000; stroke-linecap:round; stroke-linejoin:round; stroke-width:2; stroke-opacity:0.1; fill:none\" points=\"1797.19,1423.18 1797.19,47.2441 \"/>\n",
       "<polyline clip-path=\"url(#clip392)\" style=\"stroke:#000000; stroke-linecap:round; stroke-linejoin:round; stroke-width:2; stroke-opacity:0.1; fill:none\" points=\"2293.23,1423.18 2293.23,47.2441 \"/>\n",
       "<polyline clip-path=\"url(#clip390)\" style=\"stroke:#000000; stroke-linecap:round; stroke-linejoin:round; stroke-width:4; stroke-opacity:1; fill:none\" points=\"249.542,1423.18 2352.76,1423.18 \"/>\n",
       "<polyline clip-path=\"url(#clip390)\" style=\"stroke:#000000; stroke-linecap:round; stroke-linejoin:round; stroke-width:4; stroke-opacity:1; fill:none\" points=\"309.067,1423.18 309.067,1404.28 \"/>\n",
       "<polyline clip-path=\"url(#clip390)\" style=\"stroke:#000000; stroke-linecap:round; stroke-linejoin:round; stroke-width:4; stroke-opacity:1; fill:none\" points=\"805.108,1423.18 805.108,1404.28 \"/>\n",
       "<polyline clip-path=\"url(#clip390)\" style=\"stroke:#000000; stroke-linecap:round; stroke-linejoin:round; stroke-width:4; stroke-opacity:1; fill:none\" points=\"1301.15,1423.18 1301.15,1404.28 \"/>\n",
       "<polyline clip-path=\"url(#clip390)\" style=\"stroke:#000000; stroke-linecap:round; stroke-linejoin:round; stroke-width:4; stroke-opacity:1; fill:none\" points=\"1797.19,1423.18 1797.19,1404.28 \"/>\n",
       "<polyline clip-path=\"url(#clip390)\" style=\"stroke:#000000; stroke-linecap:round; stroke-linejoin:round; stroke-width:4; stroke-opacity:1; fill:none\" points=\"2293.23,1423.18 2293.23,1404.28 \"/>\n",
       "<path clip-path=\"url(#clip390)\" d=\"M268.674 1481.64 L276.312 1481.64 L276.312 1455.28 L268.002 1456.95 L268.002 1452.69 L276.266 1451.02 L280.942 1451.02 L280.942 1481.64 L288.581 1481.64 L288.581 1485.58 L268.674 1485.58 L268.674 1481.64 Z\" fill=\"#000000\" fill-rule=\"evenodd\" fill-opacity=\"1\" /><path clip-path=\"url(#clip390)\" d=\"M308.025 1454.1 Q304.414 1454.1 302.586 1457.66 Q300.78 1461.2 300.78 1468.33 Q300.78 1475.44 302.586 1479.01 Q304.414 1482.55 308.025 1482.55 Q311.66 1482.55 313.465 1479.01 Q315.294 1475.44 315.294 1468.33 Q315.294 1461.2 313.465 1457.66 Q311.66 1454.1 308.025 1454.1 M308.025 1450.39 Q313.835 1450.39 316.891 1455 Q319.97 1459.58 319.97 1468.33 Q319.97 1477.06 316.891 1481.67 Q313.835 1486.25 308.025 1486.25 Q302.215 1486.25 299.136 1481.67 Q296.081 1477.06 296.081 1468.33 Q296.081 1459.58 299.136 1455 Q302.215 1450.39 308.025 1450.39 Z\" fill=\"#000000\" fill-rule=\"evenodd\" fill-opacity=\"1\" /><path clip-path=\"url(#clip390)\" d=\"M338.187 1454.1 Q334.576 1454.1 332.747 1457.66 Q330.942 1461.2 330.942 1468.33 Q330.942 1475.44 332.747 1479.01 Q334.576 1482.55 338.187 1482.55 Q341.821 1482.55 343.627 1479.01 Q345.456 1475.44 345.456 1468.33 Q345.456 1461.2 343.627 1457.66 Q341.821 1454.1 338.187 1454.1 M338.187 1450.39 Q343.997 1450.39 347.053 1455 Q350.132 1459.58 350.132 1468.33 Q350.132 1477.06 347.053 1481.67 Q343.997 1486.25 338.187 1486.25 Q332.377 1486.25 329.298 1481.67 Q326.243 1477.06 326.243 1468.33 Q326.243 1459.58 329.298 1455 Q332.377 1450.39 338.187 1450.39 Z\" fill=\"#000000\" fill-rule=\"evenodd\" fill-opacity=\"1\" /><path clip-path=\"url(#clip390)\" d=\"M764.715 1481.64 L772.354 1481.64 L772.354 1455.28 L764.043 1456.95 L764.043 1452.69 L772.307 1451.02 L776.983 1451.02 L776.983 1481.64 L784.622 1481.64 L784.622 1485.58 L764.715 1485.58 L764.715 1481.64 Z\" fill=\"#000000\" fill-rule=\"evenodd\" fill-opacity=\"1\" /><path clip-path=\"url(#clip390)\" d=\"M794.113 1451.02 L812.469 1451.02 L812.469 1454.96 L798.395 1454.96 L798.395 1463.43 Q799.414 1463.08 800.432 1462.92 Q801.451 1462.73 802.469 1462.73 Q808.256 1462.73 811.636 1465.9 Q815.015 1469.08 815.015 1474.49 Q815.015 1480.07 811.543 1483.17 Q808.071 1486.25 801.751 1486.25 Q799.576 1486.25 797.307 1485.88 Q795.062 1485.51 792.654 1484.77 L792.654 1480.07 Q794.738 1481.2 796.96 1481.76 Q799.182 1482.32 801.659 1482.32 Q805.664 1482.32 808.001 1480.21 Q810.339 1478.1 810.339 1474.49 Q810.339 1470.88 808.001 1468.77 Q805.664 1466.67 801.659 1466.67 Q799.784 1466.67 797.909 1467.08 Q796.057 1467.5 794.113 1468.38 L794.113 1451.02 Z\" fill=\"#000000\" fill-rule=\"evenodd\" fill-opacity=\"1\" /><path clip-path=\"url(#clip390)\" d=\"M834.228 1454.1 Q830.617 1454.1 828.788 1457.66 Q826.983 1461.2 826.983 1468.33 Q826.983 1475.44 828.788 1479.01 Q830.617 1482.55 834.228 1482.55 Q837.862 1482.55 839.668 1479.01 Q841.497 1475.44 841.497 1468.33 Q841.497 1461.2 839.668 1457.66 Q837.862 1454.1 834.228 1454.1 M834.228 1450.39 Q840.038 1450.39 843.094 1455 Q846.173 1459.58 846.173 1468.33 Q846.173 1477.06 843.094 1481.67 Q840.038 1486.25 834.228 1486.25 Q828.418 1486.25 825.339 1481.67 Q822.284 1477.06 822.284 1468.33 Q822.284 1459.58 825.339 1455 Q828.418 1450.39 834.228 1450.39 Z\" fill=\"#000000\" fill-rule=\"evenodd\" fill-opacity=\"1\" /><path clip-path=\"url(#clip390)\" d=\"M1264.84 1481.64 L1281.16 1481.64 L1281.16 1485.58 L1259.22 1485.58 L1259.22 1481.64 Q1261.88 1478.89 1266.46 1474.26 Q1271.07 1469.61 1272.25 1468.27 Q1274.49 1465.74 1275.37 1464.01 Q1276.28 1462.25 1276.28 1460.56 Q1276.28 1457.8 1274.33 1456.07 Q1272.41 1454.33 1269.31 1454.33 Q1267.11 1454.33 1264.66 1455.09 Q1262.23 1455.86 1259.45 1457.41 L1259.45 1452.69 Q1262.27 1451.55 1264.73 1450.97 Q1267.18 1450.39 1269.22 1450.39 Q1274.59 1450.39 1277.78 1453.08 Q1280.98 1455.77 1280.98 1460.26 Q1280.98 1462.39 1280.17 1464.31 Q1279.38 1466.2 1277.27 1468.8 Q1276.69 1469.47 1273.59 1472.69 Q1270.49 1475.88 1264.84 1481.64 Z\" fill=\"#000000\" fill-rule=\"evenodd\" fill-opacity=\"1\" /><path clip-path=\"url(#clip390)\" d=\"M1300.98 1454.1 Q1297.36 1454.1 1295.54 1457.66 Q1293.73 1461.2 1293.73 1468.33 Q1293.73 1475.44 1295.54 1479.01 Q1297.36 1482.55 1300.98 1482.55 Q1304.61 1482.55 1306.42 1479.01 Q1308.24 1475.44 1308.24 1468.33 Q1308.24 1461.2 1306.42 1457.66 Q1304.61 1454.1 1300.98 1454.1 M1300.98 1450.39 Q1306.79 1450.39 1309.84 1455 Q1312.92 1459.58 1312.92 1468.33 Q1312.92 1477.06 1309.84 1481.67 Q1306.79 1486.25 1300.98 1486.25 Q1295.17 1486.25 1292.09 1481.67 Q1289.03 1477.06 1289.03 1468.33 Q1289.03 1459.58 1292.09 1455 Q1295.17 1450.39 1300.98 1450.39 Z\" fill=\"#000000\" fill-rule=\"evenodd\" fill-opacity=\"1\" /><path clip-path=\"url(#clip390)\" d=\"M1331.14 1454.1 Q1327.53 1454.1 1325.7 1457.66 Q1323.89 1461.2 1323.89 1468.33 Q1323.89 1475.44 1325.7 1479.01 Q1327.53 1482.55 1331.14 1482.55 Q1334.77 1482.55 1336.58 1479.01 Q1338.41 1475.44 1338.41 1468.33 Q1338.41 1461.2 1336.58 1457.66 Q1334.77 1454.1 1331.14 1454.1 M1331.14 1450.39 Q1336.95 1450.39 1340 1455 Q1343.08 1459.58 1343.08 1468.33 Q1343.08 1477.06 1340 1481.67 Q1336.95 1486.25 1331.14 1486.25 Q1325.33 1486.25 1322.25 1481.67 Q1319.19 1477.06 1319.19 1468.33 Q1319.19 1459.58 1322.25 1455 Q1325.33 1450.39 1331.14 1450.39 Z\" fill=\"#000000\" fill-rule=\"evenodd\" fill-opacity=\"1\" /><path clip-path=\"url(#clip390)\" d=\"M1760.88 1481.64 L1777.2 1481.64 L1777.2 1485.58 L1755.26 1485.58 L1755.26 1481.64 Q1757.92 1478.89 1762.5 1474.26 Q1767.11 1469.61 1768.29 1468.27 Q1770.54 1465.74 1771.41 1464.01 Q1772.32 1462.25 1772.32 1460.56 Q1772.32 1457.8 1770.37 1456.07 Q1768.45 1454.33 1765.35 1454.33 Q1763.15 1454.33 1760.7 1455.09 Q1758.27 1455.86 1755.49 1457.41 L1755.49 1452.69 Q1758.31 1451.55 1760.77 1450.97 Q1763.22 1450.39 1765.26 1450.39 Q1770.63 1450.39 1773.82 1453.08 Q1777.02 1455.77 1777.02 1460.26 Q1777.02 1462.39 1776.21 1464.31 Q1775.42 1466.2 1773.31 1468.8 Q1772.73 1469.47 1769.63 1472.69 Q1766.53 1475.88 1760.88 1481.64 Z\" fill=\"#000000\" fill-rule=\"evenodd\" fill-opacity=\"1\" /><path clip-path=\"url(#clip390)\" d=\"M1787.06 1451.02 L1805.42 1451.02 L1805.42 1454.96 L1791.35 1454.96 L1791.35 1463.43 Q1792.36 1463.08 1793.38 1462.92 Q1794.4 1462.73 1795.42 1462.73 Q1801.21 1462.73 1804.59 1465.9 Q1807.97 1469.08 1807.97 1474.49 Q1807.97 1480.07 1804.49 1483.17 Q1801.02 1486.25 1794.7 1486.25 Q1792.53 1486.25 1790.26 1485.88 Q1788.01 1485.51 1785.6 1484.77 L1785.6 1480.07 Q1787.69 1481.2 1789.91 1481.76 Q1792.13 1482.32 1794.61 1482.32 Q1798.61 1482.32 1800.95 1480.21 Q1803.29 1478.1 1803.29 1474.49 Q1803.29 1470.88 1800.95 1468.77 Q1798.61 1466.67 1794.61 1466.67 Q1792.73 1466.67 1790.86 1467.08 Q1789.01 1467.5 1787.06 1468.38 L1787.06 1451.02 Z\" fill=\"#000000\" fill-rule=\"evenodd\" fill-opacity=\"1\" /><path clip-path=\"url(#clip390)\" d=\"M1827.18 1454.1 Q1823.57 1454.1 1821.74 1457.66 Q1819.93 1461.2 1819.93 1468.33 Q1819.93 1475.44 1821.74 1479.01 Q1823.57 1482.55 1827.18 1482.55 Q1830.81 1482.55 1832.62 1479.01 Q1834.45 1475.44 1834.45 1468.33 Q1834.45 1461.2 1832.62 1457.66 Q1830.81 1454.1 1827.18 1454.1 M1827.18 1450.39 Q1832.99 1450.39 1836.04 1455 Q1839.12 1459.58 1839.12 1468.33 Q1839.12 1477.06 1836.04 1481.67 Q1832.99 1486.25 1827.18 1486.25 Q1821.37 1486.25 1818.29 1481.67 Q1815.23 1477.06 1815.23 1468.33 Q1815.23 1459.58 1818.29 1455 Q1821.37 1450.39 1827.18 1450.39 Z\" fill=\"#000000\" fill-rule=\"evenodd\" fill-opacity=\"1\" /><path clip-path=\"url(#clip390)\" d=\"M2266.99 1466.95 Q2270.35 1467.66 2272.22 1469.93 Q2274.12 1472.2 2274.12 1475.53 Q2274.12 1480.65 2270.6 1483.45 Q2267.09 1486.25 2260.6 1486.25 Q2258.43 1486.25 2256.11 1485.81 Q2253.82 1485.39 2251.37 1484.54 L2251.37 1480.02 Q2253.31 1481.16 2255.63 1481.74 Q2257.94 1482.32 2260.46 1482.32 Q2264.86 1482.32 2267.15 1480.58 Q2269.47 1478.84 2269.47 1475.53 Q2269.47 1472.48 2267.32 1470.77 Q2265.19 1469.03 2261.37 1469.03 L2257.34 1469.03 L2257.34 1465.19 L2261.55 1465.19 Q2265 1465.19 2266.83 1463.82 Q2268.66 1462.43 2268.66 1459.84 Q2268.66 1457.18 2266.76 1455.77 Q2264.89 1454.33 2261.37 1454.33 Q2259.45 1454.33 2257.25 1454.75 Q2255.05 1455.16 2252.41 1456.04 L2252.41 1451.88 Q2255.07 1451.14 2257.39 1450.77 Q2259.72 1450.39 2261.78 1450.39 Q2267.11 1450.39 2270.21 1452.83 Q2273.31 1455.23 2273.31 1459.35 Q2273.31 1462.22 2271.67 1464.21 Q2270.03 1466.18 2266.99 1466.95 Z\" fill=\"#000000\" fill-rule=\"evenodd\" fill-opacity=\"1\" /><path clip-path=\"url(#clip390)\" d=\"M2292.99 1454.1 Q2289.38 1454.1 2287.55 1457.66 Q2285.74 1461.2 2285.74 1468.33 Q2285.74 1475.44 2287.55 1479.01 Q2289.38 1482.55 2292.99 1482.55 Q2296.62 1482.55 2298.43 1479.01 Q2300.26 1475.44 2300.26 1468.33 Q2300.26 1461.2 2298.43 1457.66 Q2296.62 1454.1 2292.99 1454.1 M2292.99 1450.39 Q2298.8 1450.39 2301.85 1455 Q2304.93 1459.58 2304.93 1468.33 Q2304.93 1477.06 2301.85 1481.67 Q2298.8 1486.25 2292.99 1486.25 Q2287.18 1486.25 2284.1 1481.67 Q2281.04 1477.06 2281.04 1468.33 Q2281.04 1459.58 2284.1 1455 Q2287.18 1450.39 2292.99 1450.39 Z\" fill=\"#000000\" fill-rule=\"evenodd\" fill-opacity=\"1\" /><path clip-path=\"url(#clip390)\" d=\"M2323.15 1454.1 Q2319.54 1454.1 2317.71 1457.66 Q2315.9 1461.2 2315.9 1468.33 Q2315.9 1475.44 2317.71 1479.01 Q2319.54 1482.55 2323.15 1482.55 Q2326.78 1482.55 2328.59 1479.01 Q2330.42 1475.44 2330.42 1468.33 Q2330.42 1461.2 2328.59 1457.66 Q2326.78 1454.1 2323.15 1454.1 M2323.15 1450.39 Q2328.96 1450.39 2332.02 1455 Q2335.09 1459.58 2335.09 1468.33 Q2335.09 1477.06 2332.02 1481.67 Q2328.96 1486.25 2323.15 1486.25 Q2317.34 1486.25 2314.26 1481.67 Q2311.21 1477.06 2311.21 1468.33 Q2311.21 1459.58 2314.26 1455 Q2317.34 1450.39 2323.15 1450.39 Z\" fill=\"#000000\" fill-rule=\"evenodd\" fill-opacity=\"1\" /><path clip-path=\"url(#clip390)\" d=\"M1154.02 1539.24 Q1156.22 1535.29 1159.27 1533.41 Q1162.33 1531.54 1166.47 1531.54 Q1172.04 1531.54 1175.06 1535.45 Q1178.08 1539.33 1178.08 1546.53 L1178.08 1568.04 L1172.2 1568.04 L1172.2 1546.72 Q1172.2 1541.59 1170.38 1539.11 Q1168.57 1536.63 1164.84 1536.63 Q1160.29 1536.63 1157.65 1539.65 Q1155.01 1542.68 1155.01 1547.9 L1155.01 1568.04 L1149.12 1568.04 L1149.12 1546.72 Q1149.12 1541.56 1147.31 1539.11 Q1145.49 1536.63 1141.7 1536.63 Q1137.22 1536.63 1134.57 1539.68 Q1131.93 1542.71 1131.93 1547.9 L1131.93 1568.04 L1126.04 1568.04 L1126.04 1532.4 L1131.93 1532.4 L1131.93 1537.93 Q1133.94 1534.66 1136.74 1533.1 Q1139.54 1531.54 1143.39 1531.54 Q1147.27 1531.54 1149.98 1533.51 Q1152.72 1535.48 1154.02 1539.24 Z\" fill=\"#000000\" fill-rule=\"evenodd\" fill-opacity=\"1\" /><path clip-path=\"url(#clip390)\" d=\"M1205.97 1550.12 Q1198.87 1550.12 1196.13 1551.75 Q1193.39 1553.37 1193.39 1557.29 Q1193.39 1560.4 1195.43 1562.25 Q1197.5 1564.07 1201.03 1564.07 Q1205.9 1564.07 1208.83 1560.63 Q1211.79 1557.16 1211.79 1551.43 L1211.79 1550.12 L1205.97 1550.12 M1217.65 1547.71 L1217.65 1568.04 L1211.79 1568.04 L1211.79 1562.63 Q1209.79 1565.88 1206.79 1567.44 Q1203.8 1568.97 1199.47 1568.97 Q1194 1568.97 1190.75 1565.91 Q1187.54 1562.82 1187.54 1557.67 Q1187.54 1551.65 1191.55 1548.6 Q1195.59 1545.54 1203.58 1545.54 L1211.79 1545.54 L1211.79 1544.97 Q1211.79 1540.93 1209.12 1538.73 Q1206.47 1536.5 1201.67 1536.5 Q1198.61 1536.5 1195.72 1537.23 Q1192.82 1537.97 1190.15 1539.43 L1190.15 1534.02 Q1193.36 1532.78 1196.39 1532.17 Q1199.41 1531.54 1202.27 1531.54 Q1210.01 1531.54 1213.83 1535.55 Q1217.65 1539.56 1217.65 1547.71 Z\" fill=\"#000000\" fill-rule=\"evenodd\" fill-opacity=\"1\" /><path clip-path=\"url(#clip390)\" d=\"M1235.5 1522.27 L1235.5 1532.4 L1247.57 1532.4 L1247.57 1536.95 L1235.5 1536.95 L1235.5 1556.3 Q1235.5 1560.66 1236.68 1561.9 Q1237.89 1563.14 1241.55 1563.14 L1247.57 1563.14 L1247.57 1568.04 L1241.55 1568.04 Q1234.77 1568.04 1232.19 1565.53 Q1229.61 1562.98 1229.61 1556.3 L1229.61 1536.95 L1225.32 1536.95 L1225.32 1532.4 L1229.61 1532.4 L1229.61 1522.27 L1235.5 1522.27 Z\" fill=\"#000000\" fill-rule=\"evenodd\" fill-opacity=\"1\" /><path clip-path=\"url(#clip390)\" d=\"M1275.92 1537.87 Q1274.94 1537.3 1273.76 1537.04 Q1272.61 1536.76 1271.21 1536.76 Q1266.25 1536.76 1263.58 1540 Q1260.93 1543.22 1260.93 1549.27 L1260.93 1568.04 L1255.05 1568.04 L1255.05 1532.4 L1260.93 1532.4 L1260.93 1537.93 Q1262.78 1534.69 1265.74 1533.13 Q1268.7 1531.54 1272.93 1531.54 Q1273.54 1531.54 1274.27 1531.63 Q1275 1531.7 1275.89 1531.85 L1275.92 1537.87 Z\" fill=\"#000000\" fill-rule=\"evenodd\" fill-opacity=\"1\" /><path clip-path=\"url(#clip390)\" d=\"M1282.07 1532.4 L1287.92 1532.4 L1287.92 1568.04 L1282.07 1568.04 L1282.07 1532.4 M1282.07 1518.52 L1287.92 1518.52 L1287.92 1525.93 L1282.07 1525.93 L1282.07 1518.52 Z\" fill=\"#000000\" fill-rule=\"evenodd\" fill-opacity=\"1\" /><path clip-path=\"url(#clip390)\" d=\"M1329.81 1532.4 L1316.92 1549.74 L1330.48 1568.04 L1323.57 1568.04 L1313.2 1554.04 L1302.82 1568.04 L1295.91 1568.04 L1309.76 1549.39 L1297.09 1532.4 L1304 1532.4 L1313.45 1545.1 L1322.9 1532.4 L1329.81 1532.4 Z\" fill=\"#000000\" fill-rule=\"evenodd\" fill-opacity=\"1\" /><path clip-path=\"url(#clip390)\" d=\"M1382.2 1533.45 L1382.2 1538.98 Q1379.72 1537.71 1377.04 1537.07 Q1374.37 1536.44 1371.51 1536.44 Q1367.15 1536.44 1364.95 1537.77 Q1362.78 1539.11 1362.78 1541.79 Q1362.78 1543.82 1364.34 1545 Q1365.9 1546.15 1370.61 1547.2 L1372.62 1547.64 Q1378.86 1548.98 1381.47 1551.43 Q1384.11 1553.85 1384.11 1558.21 Q1384.11 1563.17 1380.16 1566.07 Q1376.25 1568.97 1369.37 1568.97 Q1366.51 1568.97 1363.39 1568.39 Q1360.3 1567.85 1356.86 1566.74 L1356.86 1560.69 Q1360.11 1562.38 1363.26 1563.24 Q1366.41 1564.07 1369.5 1564.07 Q1373.64 1564.07 1375.87 1562.66 Q1378.09 1561.23 1378.09 1558.65 Q1378.09 1556.27 1376.47 1554.99 Q1374.88 1553.72 1369.44 1552.54 L1367.4 1552.07 Q1361.96 1550.92 1359.54 1548.56 Q1357.12 1546.18 1357.12 1542.04 Q1357.12 1537.01 1360.68 1534.27 Q1364.25 1531.54 1370.81 1531.54 Q1374.05 1531.54 1376.92 1532.01 Q1379.78 1532.49 1382.2 1533.45 Z\" fill=\"#000000\" fill-rule=\"evenodd\" fill-opacity=\"1\" /><path clip-path=\"url(#clip390)\" d=\"M1393.44 1532.4 L1399.29 1532.4 L1399.29 1568.04 L1393.44 1568.04 L1393.44 1532.4 M1393.44 1518.52 L1399.29 1518.52 L1399.29 1525.93 L1393.44 1525.93 L1393.44 1518.52 Z\" fill=\"#000000\" fill-rule=\"evenodd\" fill-opacity=\"1\" /><path clip-path=\"url(#clip390)\" d=\"M1409 1532.4 L1436.82 1532.4 L1436.82 1537.74 L1414.79 1563.37 L1436.82 1563.37 L1436.82 1568.04 L1408.2 1568.04 L1408.2 1562.7 L1430.23 1537.07 L1409 1537.07 L1409 1532.4 Z\" fill=\"#000000\" fill-rule=\"evenodd\" fill-opacity=\"1\" /><path clip-path=\"url(#clip390)\" d=\"M1476.25 1548.76 L1476.25 1551.62 L1449.33 1551.62 Q1449.71 1557.67 1452.96 1560.85 Q1456.23 1564 1462.06 1564 Q1465.43 1564 1468.58 1563.17 Q1471.77 1562.35 1474.89 1560.69 L1474.89 1566.23 Q1471.73 1567.57 1468.42 1568.27 Q1465.11 1568.97 1461.71 1568.97 Q1453.18 1568.97 1448.18 1564 Q1443.22 1559.04 1443.22 1550.57 Q1443.22 1541.82 1447.93 1536.69 Q1452.67 1531.54 1460.69 1531.54 Q1467.88 1531.54 1472.05 1536.18 Q1476.25 1540.8 1476.25 1548.76 M1470.4 1547.04 Q1470.33 1542.23 1467.69 1539.37 Q1465.08 1536.5 1460.75 1536.5 Q1455.85 1536.5 1452.89 1539.27 Q1449.96 1542.04 1449.52 1547.07 L1470.4 1547.04 Z\" fill=\"#000000\" fill-rule=\"evenodd\" fill-opacity=\"1\" /><polyline clip-path=\"url(#clip392)\" style=\"stroke:#000000; stroke-linecap:round; stroke-linejoin:round; stroke-width:2; stroke-opacity:0.1; fill:none\" points=\"249.542,1386.53 2352.76,1386.53 \"/>\n",
       "<polyline clip-path=\"url(#clip392)\" style=\"stroke:#000000; stroke-linecap:round; stroke-linejoin:round; stroke-width:2; stroke-opacity:0.1; fill:none\" points=\"249.542,1002.19 2352.76,1002.19 \"/>\n",
       "<polyline clip-path=\"url(#clip392)\" style=\"stroke:#000000; stroke-linecap:round; stroke-linejoin:round; stroke-width:2; stroke-opacity:0.1; fill:none\" points=\"249.542,617.844 2352.76,617.844 \"/>\n",
       "<polyline clip-path=\"url(#clip392)\" style=\"stroke:#000000; stroke-linecap:round; stroke-linejoin:round; stroke-width:2; stroke-opacity:0.1; fill:none\" points=\"249.542,233.5 2352.76,233.5 \"/>\n",
       "<polyline clip-path=\"url(#clip390)\" style=\"stroke:#000000; stroke-linecap:round; stroke-linejoin:round; stroke-width:4; stroke-opacity:1; fill:none\" points=\"249.542,1423.18 249.542,47.2441 \"/>\n",
       "<polyline clip-path=\"url(#clip390)\" style=\"stroke:#000000; stroke-linecap:round; stroke-linejoin:round; stroke-width:4; stroke-opacity:1; fill:none\" points=\"249.542,1386.53 268.44,1386.53 \"/>\n",
       "<polyline clip-path=\"url(#clip390)\" style=\"stroke:#000000; stroke-linecap:round; stroke-linejoin:round; stroke-width:4; stroke-opacity:1; fill:none\" points=\"249.542,1002.19 268.44,1002.19 \"/>\n",
       "<polyline clip-path=\"url(#clip390)\" style=\"stroke:#000000; stroke-linecap:round; stroke-linejoin:round; stroke-width:4; stroke-opacity:1; fill:none\" points=\"249.542,617.844 268.44,617.844 \"/>\n",
       "<polyline clip-path=\"url(#clip390)\" style=\"stroke:#000000; stroke-linecap:round; stroke-linejoin:round; stroke-width:4; stroke-opacity:1; fill:none\" points=\"249.542,233.5 268.44,233.5 \"/>\n",
       "<path clip-path=\"url(#clip390)\" d=\"M126.205 1372.33 Q122.593 1372.33 120.765 1375.9 Q118.959 1379.44 118.959 1386.57 Q118.959 1393.67 120.765 1397.24 Q122.593 1400.78 126.205 1400.78 Q129.839 1400.78 131.644 1397.24 Q133.473 1393.67 133.473 1386.57 Q133.473 1379.44 131.644 1375.9 Q129.839 1372.33 126.205 1372.33 M126.205 1368.63 Q132.015 1368.63 135.07 1373.23 Q138.149 1377.82 138.149 1386.57 Q138.149 1395.29 135.07 1399.9 Q132.015 1404.48 126.205 1404.48 Q120.394 1404.48 117.316 1399.9 Q114.26 1395.29 114.26 1386.57 Q114.26 1377.82 117.316 1373.23 Q120.394 1368.63 126.205 1368.63 Z\" fill=\"#000000\" fill-rule=\"evenodd\" fill-opacity=\"1\" /><path clip-path=\"url(#clip390)\" d=\"M146.366 1397.93 L151.251 1397.93 L151.251 1403.81 L146.366 1403.81 L146.366 1397.93 Z\" fill=\"#000000\" fill-rule=\"evenodd\" fill-opacity=\"1\" /><path clip-path=\"url(#clip390)\" d=\"M171.436 1372.33 Q167.825 1372.33 165.996 1375.9 Q164.19 1379.44 164.19 1386.57 Q164.19 1393.67 165.996 1397.24 Q167.825 1400.78 171.436 1400.78 Q175.07 1400.78 176.876 1397.24 Q178.704 1393.67 178.704 1386.57 Q178.704 1379.44 176.876 1375.9 Q175.07 1372.33 171.436 1372.33 M171.436 1368.63 Q177.246 1368.63 180.301 1373.23 Q183.38 1377.82 183.38 1386.57 Q183.38 1395.29 180.301 1399.9 Q177.246 1404.48 171.436 1404.48 Q165.626 1404.48 162.547 1399.9 Q159.491 1395.29 159.491 1386.57 Q159.491 1377.82 162.547 1373.23 Q165.626 1368.63 171.436 1368.63 Z\" fill=\"#000000\" fill-rule=\"evenodd\" fill-opacity=\"1\" /><path clip-path=\"url(#clip390)\" d=\"M201.598 1372.33 Q197.987 1372.33 196.158 1375.9 Q194.352 1379.44 194.352 1386.57 Q194.352 1393.67 196.158 1397.24 Q197.987 1400.78 201.598 1400.78 Q205.232 1400.78 207.037 1397.24 Q208.866 1393.67 208.866 1386.57 Q208.866 1379.44 207.037 1375.9 Q205.232 1372.33 201.598 1372.33 M201.598 1368.63 Q207.408 1368.63 210.463 1373.23 Q213.542 1377.82 213.542 1386.57 Q213.542 1395.29 210.463 1399.9 Q207.408 1404.48 201.598 1404.48 Q195.787 1404.48 192.709 1399.9 Q189.653 1395.29 189.653 1386.57 Q189.653 1377.82 192.709 1373.23 Q195.787 1368.63 201.598 1368.63 Z\" fill=\"#000000\" fill-rule=\"evenodd\" fill-opacity=\"1\" /><path clip-path=\"url(#clip390)\" d=\"M127.2 987.987 Q123.589 987.987 121.76 991.552 Q119.955 995.094 119.955 1002.22 Q119.955 1009.33 121.76 1012.89 Q123.589 1016.44 127.2 1016.44 Q130.834 1016.44 132.64 1012.89 Q134.468 1009.33 134.468 1002.22 Q134.468 995.094 132.64 991.552 Q130.834 987.987 127.2 987.987 M127.2 984.283 Q133.01 984.283 136.066 988.89 Q139.144 993.473 139.144 1002.22 Q139.144 1010.95 136.066 1015.56 Q133.01 1020.14 127.2 1020.14 Q121.39 1020.14 118.311 1015.56 Q115.256 1010.95 115.256 1002.22 Q115.256 993.473 118.311 988.89 Q121.39 984.283 127.2 984.283 Z\" fill=\"#000000\" fill-rule=\"evenodd\" fill-opacity=\"1\" /><path clip-path=\"url(#clip390)\" d=\"M147.362 1013.59 L152.246 1013.59 L152.246 1019.47 L147.362 1019.47 L147.362 1013.59 Z\" fill=\"#000000\" fill-rule=\"evenodd\" fill-opacity=\"1\" /><path clip-path=\"url(#clip390)\" d=\"M172.431 987.987 Q168.82 987.987 166.991 991.552 Q165.186 995.094 165.186 1002.22 Q165.186 1009.33 166.991 1012.89 Q168.82 1016.44 172.431 1016.44 Q176.065 1016.44 177.871 1012.89 Q179.7 1009.33 179.7 1002.22 Q179.7 995.094 177.871 991.552 Q176.065 987.987 172.431 987.987 M172.431 984.283 Q178.241 984.283 181.297 988.89 Q184.376 993.473 184.376 1002.22 Q184.376 1010.95 181.297 1015.56 Q178.241 1020.14 172.431 1020.14 Q166.621 1020.14 163.542 1015.56 Q160.487 1010.95 160.487 1002.22 Q160.487 993.473 163.542 988.89 Q166.621 984.283 172.431 984.283 Z\" fill=\"#000000\" fill-rule=\"evenodd\" fill-opacity=\"1\" /><path clip-path=\"url(#clip390)\" d=\"M192.639 984.908 L210.996 984.908 L210.996 988.844 L196.922 988.844 L196.922 997.316 Q197.94 996.969 198.959 996.807 Q199.977 996.621 200.996 996.621 Q206.783 996.621 210.162 999.793 Q213.542 1002.96 213.542 1008.38 Q213.542 1013.96 210.07 1017.06 Q206.598 1020.14 200.278 1020.14 Q198.102 1020.14 195.834 1019.77 Q193.588 1019.4 191.181 1018.66 L191.181 1013.96 Q193.264 1015.09 195.487 1015.65 Q197.709 1016.2 200.186 1016.2 Q204.19 1016.2 206.528 1014.1 Q208.866 1011.99 208.866 1008.38 Q208.866 1004.77 206.528 1002.66 Q204.19 1000.56 200.186 1000.56 Q198.311 1000.56 196.436 1000.97 Q194.584 1001.39 192.639 1002.27 L192.639 984.908 Z\" fill=\"#000000\" fill-rule=\"evenodd\" fill-opacity=\"1\" /><path clip-path=\"url(#clip390)\" d=\"M126.205 603.643 Q122.593 603.643 120.765 607.208 Q118.959 610.75 118.959 617.879 Q118.959 624.986 120.765 628.55 Q122.593 632.092 126.205 632.092 Q129.839 632.092 131.644 628.55 Q133.473 624.986 133.473 617.879 Q133.473 610.75 131.644 607.208 Q129.839 603.643 126.205 603.643 M126.205 599.939 Q132.015 599.939 135.07 604.546 Q138.149 609.129 138.149 617.879 Q138.149 626.606 135.07 631.212 Q132.015 635.796 126.205 635.796 Q120.394 635.796 117.316 631.212 Q114.26 626.606 114.26 617.879 Q114.26 609.129 117.316 604.546 Q120.394 599.939 126.205 599.939 Z\" fill=\"#000000\" fill-rule=\"evenodd\" fill-opacity=\"1\" /><path clip-path=\"url(#clip390)\" d=\"M146.366 629.245 L151.251 629.245 L151.251 635.124 L146.366 635.124 L146.366 629.245 Z\" fill=\"#000000\" fill-rule=\"evenodd\" fill-opacity=\"1\" /><path clip-path=\"url(#clip390)\" d=\"M162.246 631.189 L169.885 631.189 L169.885 604.824 L161.575 606.49 L161.575 602.231 L169.839 600.564 L174.514 600.564 L174.514 631.189 L182.153 631.189 L182.153 635.124 L162.246 635.124 L162.246 631.189 Z\" fill=\"#000000\" fill-rule=\"evenodd\" fill-opacity=\"1\" /><path clip-path=\"url(#clip390)\" d=\"M201.598 603.643 Q197.987 603.643 196.158 607.208 Q194.352 610.75 194.352 617.879 Q194.352 624.986 196.158 628.55 Q197.987 632.092 201.598 632.092 Q205.232 632.092 207.037 628.55 Q208.866 624.986 208.866 617.879 Q208.866 610.75 207.037 607.208 Q205.232 603.643 201.598 603.643 M201.598 599.939 Q207.408 599.939 210.463 604.546 Q213.542 609.129 213.542 617.879 Q213.542 626.606 210.463 631.212 Q207.408 635.796 201.598 635.796 Q195.787 635.796 192.709 631.212 Q189.653 626.606 189.653 617.879 Q189.653 609.129 192.709 604.546 Q195.787 599.939 201.598 599.939 Z\" fill=\"#000000\" fill-rule=\"evenodd\" fill-opacity=\"1\" /><path clip-path=\"url(#clip390)\" d=\"M127.2 219.299 Q123.589 219.299 121.76 222.864 Q119.955 226.406 119.955 233.535 Q119.955 240.642 121.76 244.206 Q123.589 247.748 127.2 247.748 Q130.834 247.748 132.64 244.206 Q134.468 240.642 134.468 233.535 Q134.468 226.406 132.64 222.864 Q130.834 219.299 127.2 219.299 M127.2 215.595 Q133.01 215.595 136.066 220.202 Q139.144 224.785 139.144 233.535 Q139.144 242.262 136.066 246.868 Q133.01 251.452 127.2 251.452 Q121.39 251.452 118.311 246.868 Q115.256 242.262 115.256 233.535 Q115.256 224.785 118.311 220.202 Q121.39 215.595 127.2 215.595 Z\" fill=\"#000000\" fill-rule=\"evenodd\" fill-opacity=\"1\" /><path clip-path=\"url(#clip390)\" d=\"M147.362 244.901 L152.246 244.901 L152.246 250.78 L147.362 250.78 L147.362 244.901 Z\" fill=\"#000000\" fill-rule=\"evenodd\" fill-opacity=\"1\" /><path clip-path=\"url(#clip390)\" d=\"M163.241 246.845 L170.88 246.845 L170.88 220.48 L162.57 222.146 L162.57 217.887 L170.834 216.22 L175.51 216.22 L175.51 246.845 L183.149 246.845 L183.149 250.78 L163.241 250.78 L163.241 246.845 Z\" fill=\"#000000\" fill-rule=\"evenodd\" fill-opacity=\"1\" /><path clip-path=\"url(#clip390)\" d=\"M192.639 216.22 L210.996 216.22 L210.996 220.156 L196.922 220.156 L196.922 228.628 Q197.94 228.281 198.959 228.119 Q199.977 227.933 200.996 227.933 Q206.783 227.933 210.162 231.105 Q213.542 234.276 213.542 239.693 Q213.542 245.271 210.07 248.373 Q206.598 251.452 200.278 251.452 Q198.102 251.452 195.834 251.081 Q193.588 250.711 191.181 249.97 L191.181 245.271 Q193.264 246.405 195.487 246.961 Q197.709 247.517 200.186 247.517 Q204.19 247.517 206.528 245.41 Q208.866 243.304 208.866 239.693 Q208.866 236.081 206.528 233.975 Q204.19 231.869 200.186 231.869 Q198.311 231.869 196.436 232.285 Q194.584 232.702 192.639 233.581 L192.639 216.22 Z\" fill=\"#000000\" fill-rule=\"evenodd\" fill-opacity=\"1\" /><path clip-path=\"url(#clip390)\" d=\"M18.2347 847.758 L28.3562 847.758 L28.3562 835.695 L32.9077 835.695 L32.9077 847.758 L52.2594 847.758 Q56.6199 847.758 57.8613 846.58 Q59.1026 845.371 59.1026 841.71 L59.1026 835.695 L64.0042 835.695 L64.0042 841.71 Q64.0042 848.49 61.4897 851.068 Q58.9434 853.646 52.2594 853.646 L32.9077 853.646 L32.9077 857.943 L28.3562 857.943 L28.3562 853.646 L18.2347 853.646 L18.2347 847.758 Z\" fill=\"#000000\" fill-rule=\"evenodd\" fill-opacity=\"1\" /><path clip-path=\"url(#clip390)\" d=\"M28.3562 827.992 L28.3562 822.136 L64.0042 822.136 L64.0042 827.992 L28.3562 827.992 M14.479 827.992 L14.479 822.136 L21.895 822.136 L21.895 827.992 L14.479 827.992 Z\" fill=\"#000000\" fill-rule=\"evenodd\" fill-opacity=\"1\" /><path clip-path=\"url(#clip390)\" d=\"M35.1993 782.127 Q31.2526 779.931 29.3747 776.876 Q27.4968 773.82 27.4968 769.682 Q27.4968 764.112 31.4117 761.089 Q35.2948 758.065 42.4881 758.065 L64.0042 758.065 L64.0042 763.953 L42.679 763.953 Q37.5546 763.953 35.072 765.767 Q32.5894 767.582 32.5894 771.306 Q32.5894 775.857 35.6131 778.499 Q38.6368 781.141 43.8567 781.141 L64.0042 781.141 L64.0042 787.029 L42.679 787.029 Q37.5228 787.029 35.072 788.843 Q32.5894 790.657 32.5894 794.445 Q32.5894 798.933 35.6449 801.574 Q38.6686 804.216 43.8567 804.216 L64.0042 804.216 L64.0042 810.105 L28.3562 810.105 L28.3562 804.216 L33.8944 804.216 Q30.616 802.211 29.0564 799.41 Q27.4968 796.609 27.4968 792.758 Q27.4968 788.875 29.4702 786.169 Q31.4436 783.432 35.1993 782.127 Z\" fill=\"#000000\" fill-rule=\"evenodd\" fill-opacity=\"1\" /><path clip-path=\"url(#clip390)\" d=\"M44.7161 715.892 L47.5806 715.892 L47.5806 742.819 Q53.6281 742.437 56.8109 739.191 Q59.9619 735.912 59.9619 730.088 Q59.9619 726.714 59.1344 723.563 Q58.3069 720.38 56.6518 717.261 L62.1899 717.261 Q63.5267 720.412 64.227 723.722 Q64.9272 727.032 64.9272 730.438 Q64.9272 738.968 59.9619 743.965 Q54.9967 748.93 46.5303 748.93 Q37.7774 748.93 32.6531 744.219 Q27.4968 739.477 27.4968 731.456 Q27.4968 724.263 32.1438 720.093 Q36.7589 715.892 44.7161 715.892 M42.9973 721.748 Q38.1912 721.812 35.3266 724.454 Q32.4621 727.064 32.4621 731.393 Q32.4621 736.294 35.2312 739.254 Q38.0002 742.182 43.0292 742.628 L42.9973 721.748 Z\" fill=\"#000000\" fill-rule=\"evenodd\" fill-opacity=\"1\" /><path clip-path=\"url(#clip390)\" d=\"M14.479 686.101 L14.479 672.605 L19.0304 672.605 L19.0304 680.244 L68.0464 680.244 L68.0464 672.605 L72.5979 672.605 L72.5979 686.101 L14.479 686.101 Z\" fill=\"#000000\" fill-rule=\"evenodd\" fill-opacity=\"1\" /><path clip-path=\"url(#clip390)\" d=\"M29.4065 637.403 L34.9447 637.403 Q33.6716 639.886 33.035 642.559 Q32.3984 645.233 32.3984 648.097 Q32.3984 652.458 33.7352 654.654 Q35.072 656.818 37.7456 656.818 Q39.7826 656.818 40.9603 655.259 Q42.1061 653.699 43.1565 648.988 L43.6021 646.983 Q44.9389 640.745 47.3897 638.135 Q49.8086 635.493 54.1691 635.493 Q59.1344 635.493 62.0308 639.44 Q64.9272 643.355 64.9272 650.23 Q64.9272 653.094 64.3543 656.214 Q63.8132 659.301 62.6992 662.738 L56.6518 662.738 Q58.3387 659.492 59.198 656.341 Q60.0256 653.19 60.0256 650.102 Q60.0256 645.965 58.6251 643.737 Q57.1929 641.509 54.6147 641.509 Q52.2276 641.509 50.9545 643.132 Q49.6813 644.723 48.5037 650.166 L48.0262 652.203 Q46.8804 657.646 44.5251 660.065 Q42.138 662.484 38.0002 662.484 Q32.9713 662.484 30.2341 658.919 Q27.4968 655.354 27.4968 648.798 Q27.4968 645.551 27.9743 642.686 Q28.4517 639.822 29.4065 637.403 Z\" fill=\"#000000\" fill-rule=\"evenodd\" fill-opacity=\"1\" /><path clip-path=\"url(#clip390)\" d=\"M14.479 612.481 L72.5979 612.481 L72.5979 625.976 L68.0464 625.976 L68.0464 618.369 L19.0304 618.369 L19.0304 625.976 L14.479 625.976 L14.479 612.481 Z\" fill=\"#000000\" fill-rule=\"evenodd\" fill-opacity=\"1\" /><polyline clip-path=\"url(#clip392)\" style=\"stroke:#000000; stroke-linecap:round; stroke-linejoin:round; stroke-width:4; stroke-opacity:1; fill:none\" points=\"309.067,1369.64 309.067,1368.16 \"/>\n",
       "<polyline clip-path=\"url(#clip392)\" style=\"stroke:#000000; stroke-linecap:round; stroke-linejoin:round; stroke-width:4; stroke-opacity:1; fill:none\" points=\"507.483,1349.83 507.483,1333.27 \"/>\n",
       "<polyline clip-path=\"url(#clip392)\" style=\"stroke:#000000; stroke-linecap:round; stroke-linejoin:round; stroke-width:4; stroke-opacity:1; fill:none\" points=\"705.9,1322.02 705.9,1300.03 \"/>\n",
       "<polyline clip-path=\"url(#clip392)\" style=\"stroke:#000000; stroke-linecap:round; stroke-linejoin:round; stroke-width:4; stroke-opacity:1; fill:none\" points=\"904.316,1324.05 904.316,1277.69 \"/>\n",
       "<polyline clip-path=\"url(#clip392)\" style=\"stroke:#000000; stroke-linecap:round; stroke-linejoin:round; stroke-width:4; stroke-opacity:1; fill:none\" points=\"1102.73,1293.94 1102.73,1271.87 \"/>\n",
       "<polyline clip-path=\"url(#clip392)\" style=\"stroke:#000000; stroke-linecap:round; stroke-linejoin:round; stroke-width:4; stroke-opacity:1; fill:none\" points=\"1301.15,1255.52 1301.15,1219.08 \"/>\n",
       "<polyline clip-path=\"url(#clip392)\" style=\"stroke:#000000; stroke-linecap:round; stroke-linejoin:round; stroke-width:4; stroke-opacity:1; fill:none\" points=\"1499.57,1214.73 1499.57,1188.09 \"/>\n",
       "<polyline clip-path=\"url(#clip392)\" style=\"stroke:#000000; stroke-linecap:round; stroke-linejoin:round; stroke-width:4; stroke-opacity:1; fill:none\" points=\"1697.98,1171.39 1697.98,1098.84 \"/>\n",
       "<polyline clip-path=\"url(#clip392)\" style=\"stroke:#000000; stroke-linecap:round; stroke-linejoin:round; stroke-width:4; stroke-opacity:1; fill:none\" points=\"1896.4,1103.39 1896.4,1068.1 \"/>\n",
       "<polyline clip-path=\"url(#clip392)\" style=\"stroke:#000000; stroke-linecap:round; stroke-linejoin:round; stroke-width:4; stroke-opacity:1; fill:none\" points=\"2094.81,1039.96 2094.81,976.849 \"/>\n",
       "<polyline clip-path=\"url(#clip392)\" style=\"stroke:#000000; stroke-linecap:round; stroke-linejoin:round; stroke-width:4; stroke-opacity:1; fill:none\" points=\"2293.23,936.331 2293.23,914.822 \"/>\n",
       "<line clip-path=\"url(#clip392)\" x1=\"325.067\" y1=\"1369.64\" x2=\"293.067\" y2=\"1369.64\" style=\"stroke:#000000; stroke-width:3.2; stroke-opacity:1\"/>\n",
       "<line clip-path=\"url(#clip392)\" x1=\"325.067\" y1=\"1368.16\" x2=\"293.067\" y2=\"1368.16\" style=\"stroke:#000000; stroke-width:3.2; stroke-opacity:1\"/>\n",
       "<line clip-path=\"url(#clip392)\" x1=\"523.483\" y1=\"1349.83\" x2=\"491.483\" y2=\"1349.83\" style=\"stroke:#000000; stroke-width:3.2; stroke-opacity:1\"/>\n",
       "<line clip-path=\"url(#clip392)\" x1=\"523.483\" y1=\"1333.27\" x2=\"491.483\" y2=\"1333.27\" style=\"stroke:#000000; stroke-width:3.2; stroke-opacity:1\"/>\n",
       "<line clip-path=\"url(#clip392)\" x1=\"721.9\" y1=\"1322.02\" x2=\"689.9\" y2=\"1322.02\" style=\"stroke:#000000; stroke-width:3.2; stroke-opacity:1\"/>\n",
       "<line clip-path=\"url(#clip392)\" x1=\"721.9\" y1=\"1300.03\" x2=\"689.9\" y2=\"1300.03\" style=\"stroke:#000000; stroke-width:3.2; stroke-opacity:1\"/>\n",
       "<line clip-path=\"url(#clip392)\" x1=\"920.316\" y1=\"1324.05\" x2=\"888.316\" y2=\"1324.05\" style=\"stroke:#000000; stroke-width:3.2; stroke-opacity:1\"/>\n",
       "<line clip-path=\"url(#clip392)\" x1=\"920.316\" y1=\"1277.69\" x2=\"888.316\" y2=\"1277.69\" style=\"stroke:#000000; stroke-width:3.2; stroke-opacity:1\"/>\n",
       "<line clip-path=\"url(#clip392)\" x1=\"1118.73\" y1=\"1293.94\" x2=\"1086.73\" y2=\"1293.94\" style=\"stroke:#000000; stroke-width:3.2; stroke-opacity:1\"/>\n",
       "<line clip-path=\"url(#clip392)\" x1=\"1118.73\" y1=\"1271.87\" x2=\"1086.73\" y2=\"1271.87\" style=\"stroke:#000000; stroke-width:3.2; stroke-opacity:1\"/>\n",
       "<line clip-path=\"url(#clip392)\" x1=\"1317.15\" y1=\"1255.52\" x2=\"1285.15\" y2=\"1255.52\" style=\"stroke:#000000; stroke-width:3.2; stroke-opacity:1\"/>\n",
       "<line clip-path=\"url(#clip392)\" x1=\"1317.15\" y1=\"1219.08\" x2=\"1285.15\" y2=\"1219.08\" style=\"stroke:#000000; stroke-width:3.2; stroke-opacity:1\"/>\n",
       "<line clip-path=\"url(#clip392)\" x1=\"1515.57\" y1=\"1214.73\" x2=\"1483.57\" y2=\"1214.73\" style=\"stroke:#000000; stroke-width:3.2; stroke-opacity:1\"/>\n",
       "<line clip-path=\"url(#clip392)\" x1=\"1515.57\" y1=\"1188.09\" x2=\"1483.57\" y2=\"1188.09\" style=\"stroke:#000000; stroke-width:3.2; stroke-opacity:1\"/>\n",
       "<line clip-path=\"url(#clip392)\" x1=\"1713.98\" y1=\"1171.39\" x2=\"1681.98\" y2=\"1171.39\" style=\"stroke:#000000; stroke-width:3.2; stroke-opacity:1\"/>\n",
       "<line clip-path=\"url(#clip392)\" x1=\"1713.98\" y1=\"1098.84\" x2=\"1681.98\" y2=\"1098.84\" style=\"stroke:#000000; stroke-width:3.2; stroke-opacity:1\"/>\n",
       "<line clip-path=\"url(#clip392)\" x1=\"1912.4\" y1=\"1103.39\" x2=\"1880.4\" y2=\"1103.39\" style=\"stroke:#000000; stroke-width:3.2; stroke-opacity:1\"/>\n",
       "<line clip-path=\"url(#clip392)\" x1=\"1912.4\" y1=\"1068.1\" x2=\"1880.4\" y2=\"1068.1\" style=\"stroke:#000000; stroke-width:3.2; stroke-opacity:1\"/>\n",
       "<line clip-path=\"url(#clip392)\" x1=\"2110.81\" y1=\"1039.96\" x2=\"2078.81\" y2=\"1039.96\" style=\"stroke:#000000; stroke-width:3.2; stroke-opacity:1\"/>\n",
       "<line clip-path=\"url(#clip392)\" x1=\"2110.81\" y1=\"976.849\" x2=\"2078.81\" y2=\"976.849\" style=\"stroke:#000000; stroke-width:3.2; stroke-opacity:1\"/>\n",
       "<line clip-path=\"url(#clip392)\" x1=\"2309.23\" y1=\"936.331\" x2=\"2277.23\" y2=\"936.331\" style=\"stroke:#000000; stroke-width:3.2; stroke-opacity:1\"/>\n",
       "<line clip-path=\"url(#clip392)\" x1=\"2309.23\" y1=\"914.822\" x2=\"2277.23\" y2=\"914.822\" style=\"stroke:#000000; stroke-width:3.2; stroke-opacity:1\"/>\n",
       "<circle clip-path=\"url(#clip392)\" cx=\"309.067\" cy=\"1368.9\" r=\"14.4\" fill=\"#009af9\" fill-rule=\"evenodd\" fill-opacity=\"1\" stroke=\"#000000\" stroke-opacity=\"1\" stroke-width=\"3.2\"/>\n",
       "<circle clip-path=\"url(#clip392)\" cx=\"507.483\" cy=\"1341.55\" r=\"14.4\" fill=\"#009af9\" fill-rule=\"evenodd\" fill-opacity=\"1\" stroke=\"#000000\" stroke-opacity=\"1\" stroke-width=\"3.2\"/>\n",
       "<circle clip-path=\"url(#clip392)\" cx=\"705.9\" cy=\"1311.03\" r=\"14.4\" fill=\"#009af9\" fill-rule=\"evenodd\" fill-opacity=\"1\" stroke=\"#000000\" stroke-opacity=\"1\" stroke-width=\"3.2\"/>\n",
       "<circle clip-path=\"url(#clip392)\" cx=\"904.316\" cy=\"1300.87\" r=\"14.4\" fill=\"#009af9\" fill-rule=\"evenodd\" fill-opacity=\"1\" stroke=\"#000000\" stroke-opacity=\"1\" stroke-width=\"3.2\"/>\n",
       "<circle clip-path=\"url(#clip392)\" cx=\"1102.73\" cy=\"1282.9\" r=\"14.4\" fill=\"#009af9\" fill-rule=\"evenodd\" fill-opacity=\"1\" stroke=\"#000000\" stroke-opacity=\"1\" stroke-width=\"3.2\"/>\n",
       "<circle clip-path=\"url(#clip392)\" cx=\"1301.15\" cy=\"1237.3\" r=\"14.4\" fill=\"#009af9\" fill-rule=\"evenodd\" fill-opacity=\"1\" stroke=\"#000000\" stroke-opacity=\"1\" stroke-width=\"3.2\"/>\n",
       "<circle clip-path=\"url(#clip392)\" cx=\"1499.57\" cy=\"1201.41\" r=\"14.4\" fill=\"#009af9\" fill-rule=\"evenodd\" fill-opacity=\"1\" stroke=\"#000000\" stroke-opacity=\"1\" stroke-width=\"3.2\"/>\n",
       "<circle clip-path=\"url(#clip392)\" cx=\"1697.98\" cy=\"1135.12\" r=\"14.4\" fill=\"#009af9\" fill-rule=\"evenodd\" fill-opacity=\"1\" stroke=\"#000000\" stroke-opacity=\"1\" stroke-width=\"3.2\"/>\n",
       "<circle clip-path=\"url(#clip392)\" cx=\"1896.4\" cy=\"1085.74\" r=\"14.4\" fill=\"#009af9\" fill-rule=\"evenodd\" fill-opacity=\"1\" stroke=\"#000000\" stroke-opacity=\"1\" stroke-width=\"3.2\"/>\n",
       "<circle clip-path=\"url(#clip392)\" cx=\"2094.81\" cy=\"1008.4\" r=\"14.4\" fill=\"#009af9\" fill-rule=\"evenodd\" fill-opacity=\"1\" stroke=\"#000000\" stroke-opacity=\"1\" stroke-width=\"3.2\"/>\n",
       "<circle clip-path=\"url(#clip392)\" cx=\"2293.23\" cy=\"925.576\" r=\"14.4\" fill=\"#009af9\" fill-rule=\"evenodd\" fill-opacity=\"1\" stroke=\"#000000\" stroke-opacity=\"1\" stroke-width=\"3.2\"/>\n",
       "<polyline clip-path=\"url(#clip392)\" style=\"stroke:#000000; stroke-linecap:round; stroke-linejoin:round; stroke-width:4; stroke-opacity:1; fill:none\" points=\"309.067,1344.05 309.067,1340.88 \"/>\n",
       "<polyline clip-path=\"url(#clip392)\" style=\"stroke:#000000; stroke-linecap:round; stroke-linejoin:round; stroke-width:4; stroke-opacity:1; fill:none\" points=\"507.483,1308.33 507.483,1289.07 \"/>\n",
       "<polyline clip-path=\"url(#clip392)\" style=\"stroke:#000000; stroke-linecap:round; stroke-linejoin:round; stroke-width:4; stroke-opacity:1; fill:none\" points=\"705.9,1245.55 705.9,1231.83 \"/>\n",
       "<polyline clip-path=\"url(#clip392)\" style=\"stroke:#000000; stroke-linecap:round; stroke-linejoin:round; stroke-width:4; stroke-opacity:1; fill:none\" points=\"904.316,1209.59 904.316,1167.67 \"/>\n",
       "<polyline clip-path=\"url(#clip392)\" style=\"stroke:#000000; stroke-linecap:round; stroke-linejoin:round; stroke-width:4; stroke-opacity:1; fill:none\" points=\"1102.73,1120.61 1102.73,1117.21 \"/>\n",
       "<polyline clip-path=\"url(#clip392)\" style=\"stroke:#000000; stroke-linecap:round; stroke-linejoin:round; stroke-width:4; stroke-opacity:1; fill:none\" points=\"1301.15,1038.63 1301.15,963.789 \"/>\n",
       "<polyline clip-path=\"url(#clip392)\" style=\"stroke:#000000; stroke-linecap:round; stroke-linejoin:round; stroke-width:4; stroke-opacity:1; fill:none\" points=\"1499.57,913.374 1499.57,829.782 \"/>\n",
       "<polyline clip-path=\"url(#clip392)\" style=\"stroke:#000000; stroke-linecap:round; stroke-linejoin:round; stroke-width:4; stroke-opacity:1; fill:none\" points=\"1697.98,771.538 1697.98,616.544 \"/>\n",
       "<polyline clip-path=\"url(#clip392)\" style=\"stroke:#000000; stroke-linecap:round; stroke-linejoin:round; stroke-width:4; stroke-opacity:1; fill:none\" points=\"1896.4,575.081 1896.4,569.375 \"/>\n",
       "<polyline clip-path=\"url(#clip392)\" style=\"stroke:#000000; stroke-linecap:round; stroke-linejoin:round; stroke-width:4; stroke-opacity:1; fill:none\" points=\"2094.81,397.021 2094.81,290.258 \"/>\n",
       "<polyline clip-path=\"url(#clip392)\" style=\"stroke:#000000; stroke-linecap:round; stroke-linejoin:round; stroke-width:4; stroke-opacity:1; fill:none\" points=\"2293.23,148.125 2293.23,86.1857 \"/>\n",
       "<line clip-path=\"url(#clip392)\" x1=\"325.067\" y1=\"1344.05\" x2=\"293.067\" y2=\"1344.05\" style=\"stroke:#000000; stroke-width:3.2; stroke-opacity:1\"/>\n",
       "<line clip-path=\"url(#clip392)\" x1=\"325.067\" y1=\"1340.88\" x2=\"293.067\" y2=\"1340.88\" style=\"stroke:#000000; stroke-width:3.2; stroke-opacity:1\"/>\n",
       "<line clip-path=\"url(#clip392)\" x1=\"523.483\" y1=\"1308.33\" x2=\"491.483\" y2=\"1308.33\" style=\"stroke:#000000; stroke-width:3.2; stroke-opacity:1\"/>\n",
       "<line clip-path=\"url(#clip392)\" x1=\"523.483\" y1=\"1289.07\" x2=\"491.483\" y2=\"1289.07\" style=\"stroke:#000000; stroke-width:3.2; stroke-opacity:1\"/>\n",
       "<line clip-path=\"url(#clip392)\" x1=\"721.9\" y1=\"1245.55\" x2=\"689.9\" y2=\"1245.55\" style=\"stroke:#000000; stroke-width:3.2; stroke-opacity:1\"/>\n",
       "<line clip-path=\"url(#clip392)\" x1=\"721.9\" y1=\"1231.83\" x2=\"689.9\" y2=\"1231.83\" style=\"stroke:#000000; stroke-width:3.2; stroke-opacity:1\"/>\n",
       "<line clip-path=\"url(#clip392)\" x1=\"920.316\" y1=\"1209.59\" x2=\"888.316\" y2=\"1209.59\" style=\"stroke:#000000; stroke-width:3.2; stroke-opacity:1\"/>\n",
       "<line clip-path=\"url(#clip392)\" x1=\"920.316\" y1=\"1167.67\" x2=\"888.316\" y2=\"1167.67\" style=\"stroke:#000000; stroke-width:3.2; stroke-opacity:1\"/>\n",
       "<line clip-path=\"url(#clip392)\" x1=\"1118.73\" y1=\"1120.61\" x2=\"1086.73\" y2=\"1120.61\" style=\"stroke:#000000; stroke-width:3.2; stroke-opacity:1\"/>\n",
       "<line clip-path=\"url(#clip392)\" x1=\"1118.73\" y1=\"1117.21\" x2=\"1086.73\" y2=\"1117.21\" style=\"stroke:#000000; stroke-width:3.2; stroke-opacity:1\"/>\n",
       "<line clip-path=\"url(#clip392)\" x1=\"1317.15\" y1=\"1038.63\" x2=\"1285.15\" y2=\"1038.63\" style=\"stroke:#000000; stroke-width:3.2; stroke-opacity:1\"/>\n",
       "<line clip-path=\"url(#clip392)\" x1=\"1317.15\" y1=\"963.789\" x2=\"1285.15\" y2=\"963.789\" style=\"stroke:#000000; stroke-width:3.2; stroke-opacity:1\"/>\n",
       "<line clip-path=\"url(#clip392)\" x1=\"1515.57\" y1=\"913.374\" x2=\"1483.57\" y2=\"913.374\" style=\"stroke:#000000; stroke-width:3.2; stroke-opacity:1\"/>\n",
       "<line clip-path=\"url(#clip392)\" x1=\"1515.57\" y1=\"829.782\" x2=\"1483.57\" y2=\"829.782\" style=\"stroke:#000000; stroke-width:3.2; stroke-opacity:1\"/>\n",
       "<line clip-path=\"url(#clip392)\" x1=\"1713.98\" y1=\"771.538\" x2=\"1681.98\" y2=\"771.538\" style=\"stroke:#000000; stroke-width:3.2; stroke-opacity:1\"/>\n",
       "<line clip-path=\"url(#clip392)\" x1=\"1713.98\" y1=\"616.544\" x2=\"1681.98\" y2=\"616.544\" style=\"stroke:#000000; stroke-width:3.2; stroke-opacity:1\"/>\n",
       "<line clip-path=\"url(#clip392)\" x1=\"1912.4\" y1=\"575.081\" x2=\"1880.4\" y2=\"575.081\" style=\"stroke:#000000; stroke-width:3.2; stroke-opacity:1\"/>\n",
       "<line clip-path=\"url(#clip392)\" x1=\"1912.4\" y1=\"569.375\" x2=\"1880.4\" y2=\"569.375\" style=\"stroke:#000000; stroke-width:3.2; stroke-opacity:1\"/>\n",
       "<line clip-path=\"url(#clip392)\" x1=\"2110.81\" y1=\"397.021\" x2=\"2078.81\" y2=\"397.021\" style=\"stroke:#000000; stroke-width:3.2; stroke-opacity:1\"/>\n",
       "<line clip-path=\"url(#clip392)\" x1=\"2110.81\" y1=\"290.258\" x2=\"2078.81\" y2=\"290.258\" style=\"stroke:#000000; stroke-width:3.2; stroke-opacity:1\"/>\n",
       "<line clip-path=\"url(#clip392)\" x1=\"2309.23\" y1=\"148.125\" x2=\"2277.23\" y2=\"148.125\" style=\"stroke:#000000; stroke-width:3.2; stroke-opacity:1\"/>\n",
       "<line clip-path=\"url(#clip392)\" x1=\"2309.23\" y1=\"86.1857\" x2=\"2277.23\" y2=\"86.1857\" style=\"stroke:#000000; stroke-width:3.2; stroke-opacity:1\"/>\n",
       "<circle clip-path=\"url(#clip392)\" cx=\"309.067\" cy=\"1342.47\" r=\"14.4\" fill=\"#e26f46\" fill-rule=\"evenodd\" fill-opacity=\"1\" stroke=\"#000000\" stroke-opacity=\"1\" stroke-width=\"3.2\"/>\n",
       "<circle clip-path=\"url(#clip392)\" cx=\"507.483\" cy=\"1298.7\" r=\"14.4\" fill=\"#e26f46\" fill-rule=\"evenodd\" fill-opacity=\"1\" stroke=\"#000000\" stroke-opacity=\"1\" stroke-width=\"3.2\"/>\n",
       "<circle clip-path=\"url(#clip392)\" cx=\"705.9\" cy=\"1238.69\" r=\"14.4\" fill=\"#e26f46\" fill-rule=\"evenodd\" fill-opacity=\"1\" stroke=\"#000000\" stroke-opacity=\"1\" stroke-width=\"3.2\"/>\n",
       "<circle clip-path=\"url(#clip392)\" cx=\"904.316\" cy=\"1188.63\" r=\"14.4\" fill=\"#e26f46\" fill-rule=\"evenodd\" fill-opacity=\"1\" stroke=\"#000000\" stroke-opacity=\"1\" stroke-width=\"3.2\"/>\n",
       "<circle clip-path=\"url(#clip392)\" cx=\"1102.73\" cy=\"1118.91\" r=\"14.4\" fill=\"#e26f46\" fill-rule=\"evenodd\" fill-opacity=\"1\" stroke=\"#000000\" stroke-opacity=\"1\" stroke-width=\"3.2\"/>\n",
       "<circle clip-path=\"url(#clip392)\" cx=\"1301.15\" cy=\"1001.21\" r=\"14.4\" fill=\"#e26f46\" fill-rule=\"evenodd\" fill-opacity=\"1\" stroke=\"#000000\" stroke-opacity=\"1\" stroke-width=\"3.2\"/>\n",
       "<circle clip-path=\"url(#clip392)\" cx=\"1499.57\" cy=\"871.578\" r=\"14.4\" fill=\"#e26f46\" fill-rule=\"evenodd\" fill-opacity=\"1\" stroke=\"#000000\" stroke-opacity=\"1\" stroke-width=\"3.2\"/>\n",
       "<circle clip-path=\"url(#clip392)\" cx=\"1697.98\" cy=\"694.041\" r=\"14.4\" fill=\"#e26f46\" fill-rule=\"evenodd\" fill-opacity=\"1\" stroke=\"#000000\" stroke-opacity=\"1\" stroke-width=\"3.2\"/>\n",
       "<circle clip-path=\"url(#clip392)\" cx=\"1896.4\" cy=\"572.228\" r=\"14.4\" fill=\"#e26f46\" fill-rule=\"evenodd\" fill-opacity=\"1\" stroke=\"#000000\" stroke-opacity=\"1\" stroke-width=\"3.2\"/>\n",
       "<circle clip-path=\"url(#clip392)\" cx=\"2094.81\" cy=\"343.639\" r=\"14.4\" fill=\"#e26f46\" fill-rule=\"evenodd\" fill-opacity=\"1\" stroke=\"#000000\" stroke-opacity=\"1\" stroke-width=\"3.2\"/>\n",
       "<circle clip-path=\"url(#clip392)\" cx=\"2293.23\" cy=\"117.155\" r=\"14.4\" fill=\"#e26f46\" fill-rule=\"evenodd\" fill-opacity=\"1\" stroke=\"#000000\" stroke-opacity=\"1\" stroke-width=\"3.2\"/>\n",
       "<polyline clip-path=\"url(#clip392)\" style=\"stroke:#000000; stroke-linecap:round; stroke-linejoin:round; stroke-width:4; stroke-opacity:1; fill:none\" points=\"309.067,1384.24 309.067,1383.86 \"/>\n",
       "<polyline clip-path=\"url(#clip392)\" style=\"stroke:#000000; stroke-linecap:round; stroke-linejoin:round; stroke-width:4; stroke-opacity:1; fill:none\" points=\"507.483,1383.36 507.483,1382.69 \"/>\n",
       "<polyline clip-path=\"url(#clip392)\" style=\"stroke:#000000; stroke-linecap:round; stroke-linejoin:round; stroke-width:4; stroke-opacity:1; fill:none\" points=\"705.9,1382.54 705.9,1381.76 \"/>\n",
       "<polyline clip-path=\"url(#clip392)\" style=\"stroke:#000000; stroke-linecap:round; stroke-linejoin:round; stroke-width:4; stroke-opacity:1; fill:none\" points=\"904.316,1382.13 904.316,1380.74 \"/>\n",
       "<polyline clip-path=\"url(#clip392)\" style=\"stroke:#000000; stroke-linecap:round; stroke-linejoin:round; stroke-width:4; stroke-opacity:1; fill:none\" points=\"1102.73,1379.9 1102.73,1379.31 \"/>\n",
       "<polyline clip-path=\"url(#clip392)\" style=\"stroke:#000000; stroke-linecap:round; stroke-linejoin:round; stroke-width:4; stroke-opacity:1; fill:none\" points=\"1301.15,1378.98 1301.15,1375.19 \"/>\n",
       "<polyline clip-path=\"url(#clip392)\" style=\"stroke:#000000; stroke-linecap:round; stroke-linejoin:round; stroke-width:4; stroke-opacity:1; fill:none\" points=\"1499.57,1377.07 1499.57,1375.59 \"/>\n",
       "<polyline clip-path=\"url(#clip392)\" style=\"stroke:#000000; stroke-linecap:round; stroke-linejoin:round; stroke-width:4; stroke-opacity:1; fill:none\" points=\"1697.98,1375.53 1697.98,1370.6 \"/>\n",
       "<polyline clip-path=\"url(#clip392)\" style=\"stroke:#000000; stroke-linecap:round; stroke-linejoin:round; stroke-width:4; stroke-opacity:1; fill:none\" points=\"1896.4,1372.15 1896.4,1371.44 \"/>\n",
       "<polyline clip-path=\"url(#clip392)\" style=\"stroke:#000000; stroke-linecap:round; stroke-linejoin:round; stroke-width:4; stroke-opacity:1; fill:none\" points=\"2094.81,1369.98 2094.81,1365.93 \"/>\n",
       "<polyline clip-path=\"url(#clip392)\" style=\"stroke:#000000; stroke-linecap:round; stroke-linejoin:round; stroke-width:4; stroke-opacity:1; fill:none\" points=\"2293.23,1366.03 2293.23,1362.63 \"/>\n",
       "<line clip-path=\"url(#clip392)\" x1=\"325.067\" y1=\"1384.24\" x2=\"293.067\" y2=\"1384.24\" style=\"stroke:#000000; stroke-width:3.2; stroke-opacity:1\"/>\n",
       "<line clip-path=\"url(#clip392)\" x1=\"325.067\" y1=\"1383.86\" x2=\"293.067\" y2=\"1383.86\" style=\"stroke:#000000; stroke-width:3.2; stroke-opacity:1\"/>\n",
       "<line clip-path=\"url(#clip392)\" x1=\"523.483\" y1=\"1383.36\" x2=\"491.483\" y2=\"1383.36\" style=\"stroke:#000000; stroke-width:3.2; stroke-opacity:1\"/>\n",
       "<line clip-path=\"url(#clip392)\" x1=\"523.483\" y1=\"1382.69\" x2=\"491.483\" y2=\"1382.69\" style=\"stroke:#000000; stroke-width:3.2; stroke-opacity:1\"/>\n",
       "<line clip-path=\"url(#clip392)\" x1=\"721.9\" y1=\"1382.54\" x2=\"689.9\" y2=\"1382.54\" style=\"stroke:#000000; stroke-width:3.2; stroke-opacity:1\"/>\n",
       "<line clip-path=\"url(#clip392)\" x1=\"721.9\" y1=\"1381.76\" x2=\"689.9\" y2=\"1381.76\" style=\"stroke:#000000; stroke-width:3.2; stroke-opacity:1\"/>\n",
       "<line clip-path=\"url(#clip392)\" x1=\"920.316\" y1=\"1382.13\" x2=\"888.316\" y2=\"1382.13\" style=\"stroke:#000000; stroke-width:3.2; stroke-opacity:1\"/>\n",
       "<line clip-path=\"url(#clip392)\" x1=\"920.316\" y1=\"1380.74\" x2=\"888.316\" y2=\"1380.74\" style=\"stroke:#000000; stroke-width:3.2; stroke-opacity:1\"/>\n",
       "<line clip-path=\"url(#clip392)\" x1=\"1118.73\" y1=\"1379.9\" x2=\"1086.73\" y2=\"1379.9\" style=\"stroke:#000000; stroke-width:3.2; stroke-opacity:1\"/>\n",
       "<line clip-path=\"url(#clip392)\" x1=\"1118.73\" y1=\"1379.31\" x2=\"1086.73\" y2=\"1379.31\" style=\"stroke:#000000; stroke-width:3.2; stroke-opacity:1\"/>\n",
       "<line clip-path=\"url(#clip392)\" x1=\"1317.15\" y1=\"1378.98\" x2=\"1285.15\" y2=\"1378.98\" style=\"stroke:#000000; stroke-width:3.2; stroke-opacity:1\"/>\n",
       "<line clip-path=\"url(#clip392)\" x1=\"1317.15\" y1=\"1375.19\" x2=\"1285.15\" y2=\"1375.19\" style=\"stroke:#000000; stroke-width:3.2; stroke-opacity:1\"/>\n",
       "<line clip-path=\"url(#clip392)\" x1=\"1515.57\" y1=\"1377.07\" x2=\"1483.57\" y2=\"1377.07\" style=\"stroke:#000000; stroke-width:3.2; stroke-opacity:1\"/>\n",
       "<line clip-path=\"url(#clip392)\" x1=\"1515.57\" y1=\"1375.59\" x2=\"1483.57\" y2=\"1375.59\" style=\"stroke:#000000; stroke-width:3.2; stroke-opacity:1\"/>\n",
       "<line clip-path=\"url(#clip392)\" x1=\"1713.98\" y1=\"1375.53\" x2=\"1681.98\" y2=\"1375.53\" style=\"stroke:#000000; stroke-width:3.2; stroke-opacity:1\"/>\n",
       "<line clip-path=\"url(#clip392)\" x1=\"1713.98\" y1=\"1370.6\" x2=\"1681.98\" y2=\"1370.6\" style=\"stroke:#000000; stroke-width:3.2; stroke-opacity:1\"/>\n",
       "<line clip-path=\"url(#clip392)\" x1=\"1912.4\" y1=\"1372.15\" x2=\"1880.4\" y2=\"1372.15\" style=\"stroke:#000000; stroke-width:3.2; stroke-opacity:1\"/>\n",
       "<line clip-path=\"url(#clip392)\" x1=\"1912.4\" y1=\"1371.44\" x2=\"1880.4\" y2=\"1371.44\" style=\"stroke:#000000; stroke-width:3.2; stroke-opacity:1\"/>\n",
       "<line clip-path=\"url(#clip392)\" x1=\"2110.81\" y1=\"1369.98\" x2=\"2078.81\" y2=\"1369.98\" style=\"stroke:#000000; stroke-width:3.2; stroke-opacity:1\"/>\n",
       "<line clip-path=\"url(#clip392)\" x1=\"2110.81\" y1=\"1365.93\" x2=\"2078.81\" y2=\"1365.93\" style=\"stroke:#000000; stroke-width:3.2; stroke-opacity:1\"/>\n",
       "<line clip-path=\"url(#clip392)\" x1=\"2309.23\" y1=\"1366.03\" x2=\"2277.23\" y2=\"1366.03\" style=\"stroke:#000000; stroke-width:3.2; stroke-opacity:1\"/>\n",
       "<line clip-path=\"url(#clip392)\" x1=\"2309.23\" y1=\"1362.63\" x2=\"2277.23\" y2=\"1362.63\" style=\"stroke:#000000; stroke-width:3.2; stroke-opacity:1\"/>\n",
       "<circle clip-path=\"url(#clip392)\" cx=\"309.067\" cy=\"1384.05\" r=\"14.4\" fill=\"#3da44d\" fill-rule=\"evenodd\" fill-opacity=\"1\" stroke=\"#000000\" stroke-opacity=\"1\" stroke-width=\"3.2\"/>\n",
       "<circle clip-path=\"url(#clip392)\" cx=\"507.483\" cy=\"1383.03\" r=\"14.4\" fill=\"#3da44d\" fill-rule=\"evenodd\" fill-opacity=\"1\" stroke=\"#000000\" stroke-opacity=\"1\" stroke-width=\"3.2\"/>\n",
       "<circle clip-path=\"url(#clip392)\" cx=\"705.9\" cy=\"1382.15\" r=\"14.4\" fill=\"#3da44d\" fill-rule=\"evenodd\" fill-opacity=\"1\" stroke=\"#000000\" stroke-opacity=\"1\" stroke-width=\"3.2\"/>\n",
       "<circle clip-path=\"url(#clip392)\" cx=\"904.316\" cy=\"1381.44\" r=\"14.4\" fill=\"#3da44d\" fill-rule=\"evenodd\" fill-opacity=\"1\" stroke=\"#000000\" stroke-opacity=\"1\" stroke-width=\"3.2\"/>\n",
       "<circle clip-path=\"url(#clip392)\" cx=\"1102.73\" cy=\"1379.6\" r=\"14.4\" fill=\"#3da44d\" fill-rule=\"evenodd\" fill-opacity=\"1\" stroke=\"#000000\" stroke-opacity=\"1\" stroke-width=\"3.2\"/>\n",
       "<circle clip-path=\"url(#clip392)\" cx=\"1301.15\" cy=\"1377.08\" r=\"14.4\" fill=\"#3da44d\" fill-rule=\"evenodd\" fill-opacity=\"1\" stroke=\"#000000\" stroke-opacity=\"1\" stroke-width=\"3.2\"/>\n",
       "<circle clip-path=\"url(#clip392)\" cx=\"1499.57\" cy=\"1376.33\" r=\"14.4\" fill=\"#3da44d\" fill-rule=\"evenodd\" fill-opacity=\"1\" stroke=\"#000000\" stroke-opacity=\"1\" stroke-width=\"3.2\"/>\n",
       "<circle clip-path=\"url(#clip392)\" cx=\"1697.98\" cy=\"1373.07\" r=\"14.4\" fill=\"#3da44d\" fill-rule=\"evenodd\" fill-opacity=\"1\" stroke=\"#000000\" stroke-opacity=\"1\" stroke-width=\"3.2\"/>\n",
       "<circle clip-path=\"url(#clip392)\" cx=\"1896.4\" cy=\"1371.8\" r=\"14.4\" fill=\"#3da44d\" fill-rule=\"evenodd\" fill-opacity=\"1\" stroke=\"#000000\" stroke-opacity=\"1\" stroke-width=\"3.2\"/>\n",
       "<circle clip-path=\"url(#clip392)\" cx=\"2094.81\" cy=\"1367.96\" r=\"14.4\" fill=\"#3da44d\" fill-rule=\"evenodd\" fill-opacity=\"1\" stroke=\"#000000\" stroke-opacity=\"1\" stroke-width=\"3.2\"/>\n",
       "<circle clip-path=\"url(#clip392)\" cx=\"2293.23\" cy=\"1364.33\" r=\"14.4\" fill=\"#3da44d\" fill-rule=\"evenodd\" fill-opacity=\"1\" stroke=\"#000000\" stroke-opacity=\"1\" stroke-width=\"3.2\"/>\n",
       "<path clip-path=\"url(#clip390)\" d=\"M319.649 300.469 L815.501 300.469 L815.501 93.1086 L319.649 93.1086  Z\" fill=\"#ffffff\" fill-rule=\"evenodd\" fill-opacity=\"1\"/>\n",
       "<polyline clip-path=\"url(#clip390)\" style=\"stroke:#000000; stroke-linecap:round; stroke-linejoin:round; stroke-width:4; stroke-opacity:1; fill:none\" points=\"319.649,300.469 815.501,300.469 815.501,93.1086 319.649,93.1086 319.649,300.469 \"/>\n",
       "<circle clip-path=\"url(#clip390)\" cx=\"413.125\" cy=\"144.949\" r=\"23.04\" fill=\"#009af9\" fill-rule=\"evenodd\" fill-opacity=\"1\" stroke=\"#000000\" stroke-opacity=\"1\" stroke-width=\"5.12\"/>\n",
       "<path clip-path=\"url(#clip390)\" d=\"M525.375 149.289 Q525.375 144.59 523.43 141.928 Q521.509 139.243 518.129 139.243 Q514.75 139.243 512.805 141.928 Q510.884 144.59 510.884 149.289 Q510.884 153.988 512.805 156.673 Q514.75 159.335 518.129 159.335 Q521.509 159.335 523.43 156.673 Q525.375 153.988 525.375 149.289 M510.884 140.238 Q512.226 137.923 514.264 136.812 Q516.324 135.678 519.171 135.678 Q523.893 135.678 526.833 139.428 Q529.796 143.178 529.796 149.289 Q529.796 155.4 526.833 159.15 Q523.893 162.9 519.171 162.9 Q516.324 162.9 514.264 161.789 Q512.226 160.655 510.884 158.34 L510.884 162.229 L506.602 162.229 L506.602 126.21 L510.884 126.21 L510.884 140.238 Z\" fill=\"#000000\" fill-rule=\"evenodd\" fill-opacity=\"1\" /><path clip-path=\"url(#clip390)\" d=\"M559.032 148.201 L559.032 150.284 L539.449 150.284 Q539.726 154.682 542.087 156.997 Q544.472 159.289 548.708 159.289 Q551.161 159.289 553.453 158.687 Q555.768 158.085 558.036 156.881 L558.036 160.909 Q555.745 161.881 553.337 162.391 Q550.93 162.9 548.453 162.9 Q542.249 162.9 538.615 159.289 Q535.004 155.678 535.004 149.52 Q535.004 143.155 538.43 139.428 Q541.879 135.678 547.712 135.678 Q552.944 135.678 555.976 139.057 Q559.032 142.414 559.032 148.201 M554.773 146.951 Q554.726 143.456 552.805 141.372 Q550.907 139.289 547.759 139.289 Q544.194 139.289 542.041 141.303 Q539.912 143.317 539.587 146.974 L554.773 146.951 Z\" fill=\"#000000\" fill-rule=\"evenodd\" fill-opacity=\"1\" /><path clip-path=\"url(#clip390)\" d=\"M570.235 128.942 L570.235 136.303 L579.009 136.303 L579.009 139.613 L570.235 139.613 L570.235 153.687 Q570.235 156.858 571.092 157.761 Q571.972 158.664 574.634 158.664 L579.009 158.664 L579.009 162.229 L574.634 162.229 Q569.703 162.229 567.828 160.4 Q565.953 158.548 565.953 153.687 L565.953 139.613 L562.828 139.613 L562.828 136.303 L565.953 136.303 L565.953 128.942 L570.235 128.942 Z\" fill=\"#000000\" fill-rule=\"evenodd\" fill-opacity=\"1\" /><path clip-path=\"url(#clip390)\" d=\"M588.823 128.942 L588.823 136.303 L597.596 136.303 L597.596 139.613 L588.823 139.613 L588.823 153.687 Q588.823 156.858 589.68 157.761 Q590.559 158.664 593.221 158.664 L597.596 158.664 L597.596 162.229 L593.221 162.229 Q588.291 162.229 586.416 160.4 Q584.541 158.548 584.541 153.687 L584.541 139.613 L581.416 139.613 L581.416 136.303 L584.541 136.303 L584.541 128.942 L588.823 128.942 Z\" fill=\"#000000\" fill-rule=\"evenodd\" fill-opacity=\"1\" /><path clip-path=\"url(#clip390)\" d=\"M625.374 148.201 L625.374 150.284 L605.791 150.284 Q606.069 154.682 608.43 156.997 Q610.814 159.289 615.05 159.289 Q617.504 159.289 619.795 158.687 Q622.11 158.085 624.379 156.881 L624.379 160.909 Q622.087 161.881 619.68 162.391 Q617.272 162.9 614.795 162.9 Q608.592 162.9 604.957 159.289 Q601.346 155.678 601.346 149.52 Q601.346 143.155 604.772 139.428 Q608.221 135.678 614.055 135.678 Q619.286 135.678 622.318 139.057 Q625.374 142.414 625.374 148.201 M621.115 146.951 Q621.068 143.456 619.147 141.372 Q617.249 139.289 614.101 139.289 Q610.536 139.289 608.383 141.303 Q606.254 143.317 605.93 146.974 L621.115 146.951 Z\" fill=\"#000000\" fill-rule=\"evenodd\" fill-opacity=\"1\" /><path clip-path=\"url(#clip390)\" d=\"M647.388 140.284 Q646.67 139.868 645.814 139.682 Q644.98 139.474 643.962 139.474 Q640.351 139.474 638.406 141.835 Q636.485 144.173 636.485 148.571 L636.485 162.229 L632.203 162.229 L632.203 136.303 L636.485 136.303 L636.485 140.331 Q637.828 137.969 639.98 136.835 Q642.133 135.678 645.212 135.678 Q645.652 135.678 646.184 135.747 Q646.716 135.794 647.365 135.909 L647.388 140.284 Z\" fill=\"#000000\" fill-rule=\"evenodd\" fill-opacity=\"1\" /><circle clip-path=\"url(#clip390)\" cx=\"413.125\" cy=\"196.789\" r=\"23.04\" fill=\"#e26f46\" fill-rule=\"evenodd\" fill-opacity=\"1\" stroke=\"#000000\" stroke-opacity=\"1\" stroke-width=\"5.12\"/>\n",
       "<path clip-path=\"url(#clip390)\" d=\"M528.314 198.421 L528.314 214.069 L524.055 214.069 L524.055 198.559 Q524.055 194.879 522.62 193.05 Q521.185 191.222 518.314 191.222 Q514.865 191.222 512.875 193.421 Q510.884 195.62 510.884 199.416 L510.884 214.069 L506.602 214.069 L506.602 188.143 L510.884 188.143 L510.884 192.171 Q512.412 189.833 514.472 188.675 Q516.555 187.518 519.263 187.518 Q523.731 187.518 526.023 190.296 Q528.314 193.05 528.314 198.421 Z\" fill=\"#000000\" fill-rule=\"evenodd\" fill-opacity=\"1\" /><path clip-path=\"url(#clip390)\" d=\"M548.592 201.036 Q543.43 201.036 541.439 202.217 Q539.449 203.397 539.449 206.245 Q539.449 208.513 540.93 209.856 Q542.435 211.175 545.004 211.175 Q548.546 211.175 550.675 208.675 Q552.828 206.152 552.828 201.985 L552.828 201.036 L548.592 201.036 M557.087 199.277 L557.087 214.069 L552.828 214.069 L552.828 210.133 Q551.37 212.495 549.194 213.629 Q547.018 214.74 543.87 214.74 Q539.888 214.74 537.527 212.518 Q535.189 210.272 535.189 206.522 Q535.189 202.147 538.106 199.925 Q541.046 197.703 546.856 197.703 L552.828 197.703 L552.828 197.286 Q552.828 194.347 550.884 192.749 Q548.962 191.129 545.467 191.129 Q543.245 191.129 541.138 191.661 Q539.032 192.194 537.087 193.259 L537.087 189.323 Q539.425 188.421 541.624 187.981 Q543.824 187.518 545.907 187.518 Q551.532 187.518 554.31 190.434 Q557.087 193.351 557.087 199.277 Z\" fill=\"#000000\" fill-rule=\"evenodd\" fill-opacity=\"1\" /><path clip-path=\"url(#clip390)\" d=\"M565.86 188.143 L570.12 188.143 L570.12 214.069 L565.86 214.069 L565.86 188.143 M565.86 178.05 L570.12 178.05 L570.12 183.444 L565.86 183.444 L565.86 178.05 Z\" fill=\"#000000\" fill-rule=\"evenodd\" fill-opacity=\"1\" /><path clip-path=\"url(#clip390)\" d=\"M575.976 188.143 L580.49 188.143 L588.592 209.902 L596.694 188.143 L601.207 188.143 L591.485 214.069 L585.698 214.069 L575.976 188.143 Z\" fill=\"#000000\" fill-rule=\"evenodd\" fill-opacity=\"1\" /><path clip-path=\"url(#clip390)\" d=\"M629.263 200.041 L629.263 202.124 L609.68 202.124 Q609.957 206.522 612.319 208.837 Q614.703 211.129 618.939 211.129 Q621.393 211.129 623.684 210.527 Q625.999 209.925 628.268 208.721 L628.268 212.749 Q625.976 213.721 623.568 214.231 Q621.161 214.74 618.684 214.74 Q612.481 214.74 608.846 211.129 Q605.235 207.518 605.235 201.36 Q605.235 194.995 608.661 191.268 Q612.11 187.518 617.944 187.518 Q623.175 187.518 626.207 190.897 Q629.263 194.254 629.263 200.041 M625.004 198.791 Q624.957 195.296 623.036 193.212 Q621.138 191.129 617.99 191.129 Q614.425 191.129 612.272 193.143 Q610.143 195.157 609.819 198.814 L625.004 198.791 Z\" fill=\"#000000\" fill-rule=\"evenodd\" fill-opacity=\"1\" /><circle clip-path=\"url(#clip390)\" cx=\"413.125\" cy=\"248.629\" r=\"23.04\" fill=\"#3da44d\" fill-rule=\"evenodd\" fill-opacity=\"1\" stroke=\"#000000\" stroke-opacity=\"1\" stroke-width=\"5.12\"/>\n",
       "<path clip-path=\"url(#clip390)\" d=\"M525.027 240.747 L525.027 244.774 Q523.222 243.849 521.277 243.386 Q519.333 242.923 517.25 242.923 Q514.078 242.923 512.481 243.895 Q510.907 244.867 510.907 246.811 Q510.907 248.293 512.041 249.149 Q513.176 249.983 516.601 250.747 L518.06 251.071 Q522.597 252.043 524.495 253.825 Q526.416 255.585 526.416 258.756 Q526.416 262.367 523.546 264.473 Q520.699 266.58 515.699 266.58 Q513.615 266.58 511.347 266.163 Q509.101 265.77 506.602 264.96 L506.602 260.561 Q508.963 261.788 511.254 262.413 Q513.546 263.015 515.791 263.015 Q518.801 263.015 520.421 261.997 Q522.041 260.955 522.041 259.08 Q522.041 257.344 520.861 256.418 Q519.703 255.492 515.745 254.636 L514.264 254.288 Q510.305 253.455 508.546 251.742 Q506.787 250.006 506.787 246.997 Q506.787 243.339 509.379 241.349 Q511.972 239.358 516.74 239.358 Q519.101 239.358 521.185 239.705 Q523.268 240.052 525.027 240.747 Z\" fill=\"#000000\" fill-rule=\"evenodd\" fill-opacity=\"1\" /><path clip-path=\"url(#clip390)\" d=\"M537.412 232.622 L537.412 239.983 L546.185 239.983 L546.185 243.293 L537.412 243.293 L537.412 257.367 Q537.412 260.538 538.268 261.441 Q539.148 262.344 541.81 262.344 L546.185 262.344 L546.185 265.909 L541.81 265.909 Q536.879 265.909 535.004 264.08 Q533.129 262.228 533.129 257.367 L533.129 243.293 L530.004 243.293 L530.004 239.983 L533.129 239.983 L533.129 232.622 L537.412 232.622 Z\" fill=\"#000000\" fill-rule=\"evenodd\" fill-opacity=\"1\" /><path clip-path=\"url(#clip390)\" d=\"M563.569 252.876 Q558.407 252.876 556.416 254.057 Q554.425 255.237 554.425 258.085 Q554.425 260.353 555.907 261.696 Q557.411 263.015 559.981 263.015 Q563.522 263.015 565.652 260.515 Q567.805 257.992 567.805 253.825 L567.805 252.876 L563.569 252.876 M572.064 251.117 L572.064 265.909 L567.805 265.909 L567.805 261.973 Q566.347 264.335 564.171 265.469 Q561.995 266.58 558.847 266.58 Q554.865 266.58 552.504 264.358 Q550.166 262.112 550.166 258.362 Q550.166 253.987 553.083 251.765 Q556.023 249.543 561.833 249.543 L567.805 249.543 L567.805 249.126 Q567.805 246.187 565.86 244.589 Q563.939 242.969 560.444 242.969 Q558.222 242.969 556.115 243.501 Q554.009 244.034 552.064 245.099 L552.064 241.163 Q554.402 240.261 556.601 239.821 Q558.8 239.358 560.884 239.358 Q566.509 239.358 569.286 242.274 Q572.064 245.191 572.064 251.117 Z\" fill=\"#000000\" fill-rule=\"evenodd\" fill-opacity=\"1\" /><path clip-path=\"url(#clip390)\" d=\"M595.86 243.964 Q595.143 243.548 594.286 243.362 Q593.453 243.154 592.434 243.154 Q588.823 243.154 586.879 245.515 Q584.958 247.853 584.958 252.251 L584.958 265.909 L580.675 265.909 L580.675 239.983 L584.958 239.983 L584.958 244.011 Q586.3 241.649 588.453 240.515 Q590.606 239.358 593.684 239.358 Q594.124 239.358 594.657 239.427 Q595.189 239.474 595.837 239.589 L595.86 243.964 Z\" fill=\"#000000\" fill-rule=\"evenodd\" fill-opacity=\"1\" /><path clip-path=\"url(#clip390)\" d=\"M619.518 262.02 L619.518 275.77 L615.235 275.77 L615.235 239.983 L619.518 239.983 L619.518 243.918 Q620.86 241.603 622.897 240.492 Q624.957 239.358 627.805 239.358 Q632.527 239.358 635.467 243.108 Q638.43 246.858 638.43 252.969 Q638.43 259.08 635.467 262.83 Q632.527 266.58 627.805 266.58 Q624.957 266.58 622.897 265.469 Q620.86 264.335 619.518 262.02 M634.008 252.969 Q634.008 248.27 632.064 245.608 Q630.143 242.923 626.763 242.923 Q623.383 242.923 621.439 245.608 Q619.518 248.27 619.518 252.969 Q619.518 257.668 621.439 260.353 Q623.383 263.015 626.763 263.015 Q630.143 263.015 632.064 260.353 Q634.008 257.668 634.008 252.969 Z\" fill=\"#000000\" fill-rule=\"evenodd\" fill-opacity=\"1\" /><path clip-path=\"url(#clip390)\" d=\"M660.513 243.964 Q659.795 243.548 658.939 243.362 Q658.105 243.154 657.087 243.154 Q653.476 243.154 651.531 245.515 Q649.61 247.853 649.61 252.251 L649.61 265.909 L645.328 265.909 L645.328 239.983 L649.61 239.983 L649.61 244.011 Q650.953 241.649 653.105 240.515 Q655.258 239.358 658.337 239.358 Q658.777 239.358 659.309 239.427 Q659.841 239.474 660.49 239.589 L660.513 243.964 Z\" fill=\"#000000\" fill-rule=\"evenodd\" fill-opacity=\"1\" /><path clip-path=\"url(#clip390)\" d=\"M673.985 242.969 Q670.559 242.969 668.568 245.654 Q666.578 248.316 666.578 252.969 Q666.578 257.622 668.545 260.307 Q670.536 262.969 673.985 262.969 Q677.388 262.969 679.378 260.284 Q681.369 257.598 681.369 252.969 Q681.369 248.362 679.378 245.677 Q677.388 242.969 673.985 242.969 M673.985 239.358 Q679.54 239.358 682.712 242.969 Q685.883 246.58 685.883 252.969 Q685.883 259.335 682.712 262.969 Q679.54 266.58 673.985 266.58 Q668.406 266.58 665.235 262.969 Q662.087 259.335 662.087 252.969 Q662.087 246.58 665.235 242.969 Q668.406 239.358 673.985 239.358 Z\" fill=\"#000000\" fill-rule=\"evenodd\" fill-opacity=\"1\" /><path clip-path=\"url(#clip390)\" d=\"M710.003 243.918 L710.003 229.89 L714.262 229.89 L714.262 265.909 L710.003 265.909 L710.003 262.02 Q708.661 264.335 706.6 265.469 Q704.563 266.58 701.693 266.58 Q696.994 266.58 694.031 262.83 Q691.091 259.08 691.091 252.969 Q691.091 246.858 694.031 243.108 Q696.994 239.358 701.693 239.358 Q704.563 239.358 706.6 240.492 Q708.661 241.603 710.003 243.918 M695.489 252.969 Q695.489 257.668 697.411 260.353 Q699.355 263.015 702.735 263.015 Q706.114 263.015 708.059 260.353 Q710.003 257.668 710.003 252.969 Q710.003 248.27 708.059 245.608 Q706.114 242.923 702.735 242.923 Q699.355 242.923 697.411 245.608 Q695.489 248.27 695.489 252.969 Z\" fill=\"#000000\" fill-rule=\"evenodd\" fill-opacity=\"1\" /><path clip-path=\"url(#clip390)\" d=\"M722.596 255.677 L722.596 239.983 L726.855 239.983 L726.855 255.515 Q726.855 259.196 728.29 261.048 Q729.725 262.876 732.596 262.876 Q736.045 262.876 738.035 260.677 Q740.049 258.478 740.049 254.682 L740.049 239.983 L744.309 239.983 L744.309 265.909 L740.049 265.909 L740.049 261.927 Q738.498 264.288 736.438 265.446 Q734.401 266.58 731.693 266.58 Q727.225 266.58 724.911 263.802 Q722.596 261.024 722.596 255.677 M733.313 239.358 L733.313 239.358 Z\" fill=\"#000000\" fill-rule=\"evenodd\" fill-opacity=\"1\" /><path clip-path=\"url(#clip390)\" d=\"M771.739 240.978 L771.739 244.96 Q769.933 243.964 768.105 243.478 Q766.299 242.969 764.447 242.969 Q760.304 242.969 758.012 245.608 Q755.721 248.224 755.721 252.969 Q755.721 257.714 758.012 260.353 Q760.304 262.969 764.447 262.969 Q766.299 262.969 768.105 262.483 Q769.933 261.973 771.739 260.978 L771.739 264.913 Q769.957 265.747 768.035 266.163 Q766.137 266.58 763.984 266.58 Q758.128 266.58 754.679 262.899 Q751.23 259.219 751.23 252.969 Q751.23 246.626 754.702 242.992 Q758.197 239.358 764.262 239.358 Q766.23 239.358 768.105 239.775 Q769.98 240.168 771.739 240.978 Z\" fill=\"#000000\" fill-rule=\"evenodd\" fill-opacity=\"1\" /><path clip-path=\"url(#clip390)\" d=\"M783.359 232.622 L783.359 239.983 L792.132 239.983 L792.132 243.293 L783.359 243.293 L783.359 257.367 Q783.359 260.538 784.216 261.441 Q785.095 262.344 787.757 262.344 L792.132 262.344 L792.132 265.909 L787.757 265.909 Q782.827 265.909 780.952 264.08 Q779.077 262.228 779.077 257.367 L779.077 243.293 L775.952 243.293 L775.952 239.983 L779.077 239.983 L779.077 232.622 L783.359 232.622 Z\" fill=\"#000000\" fill-rule=\"evenodd\" fill-opacity=\"1\" /></svg>\n"
      ]
     },
     "execution_count": 32,
     "metadata": {},
     "output_type": "execute_result"
    }
   ],
   "source": [
    "using Plots\n",
    "\n",
    "scatter(measurements_plottable.matrix_size,\n",
    "    measurements_plottable.time_mean,\n",
    "    yerror=measurements_plottable.time_std,\n",
    "    group=measurements_plottable.type,\n",
    "    ylabel=\"time [s]\",\n",
    "    xlabel=\"matrix size\")"
   ]
  },
  {
   "cell_type": "code",
   "execution_count": null,
   "id": "513f5563-d0bc-42ef-895d-b57052e94dcb",
   "metadata": {},
   "outputs": [],
   "source": []
  },
  {
   "cell_type": "markdown",
   "id": "a52a9596-01f1-4d6b-899c-80004a641570",
   "metadata": {},
   "source": [
    "## Zad2"
   ]
  },
  {
   "cell_type": "markdown",
   "id": "a9be7113-9fb2-4785-ab48-b3040e247fe5",
   "metadata": {},
   "source": [
    "Napisać w języku C:\n",
    "   - naiwną metodę mnożenia macierzy kwadratowych (wersja 1) \n",
    "   - ulepszoną wersję za pomocą zamiany pętli metodę mnożenia macierzy(wersja 2), pamiętając, że w C macierz przechowywana jest wierszami (row major order tzn A11,A12, ..., A1m, A21, A22,...,A2m, ..Anm), inaczej niż w Julii ! \n",
    "   - skorzystać z  możliwości BLAS poziom 3 dostępnego w GSL  (przykład uzycia https://www.gnu.org/software/gsl/doc/html/blas.html#examples )\n",
    "    \n",
    "Należy porównywać działanie tych trzech algorytmow bez włączonej opcji optymalizacji kompilatora. Przedstawić wyniki na jednym wykresie tak jak w p.1. (osobno niż p.1). **(1 pkt)**\n",
    "    \n",
    "*(Dla chętnych)* sprawdzić, co się dzieje, jak włączymy optymalizację kompilatora i dodać do wykresu. \n",
    "Do analizy danych można użyć wybranego narzędzia (Julia, R)\n"
   ]
  },
  {
   "cell_type": "code",
   "execution_count": null,
   "id": "8d97ed43-4381-437c-b855-c67bb82716f4",
   "metadata": {},
   "outputs": [],
   "source": []
  },
  {
   "cell_type": "code",
   "execution_count": null,
   "id": "be16d0ed-5bb7-4e51-a8e6-09e4efd7f99f",
   "metadata": {},
   "outputs": [],
   "source": []
  },
  {
   "cell_type": "markdown",
   "id": "0c9fdb55-2463-46ae-8fe4-899e8e6a69cf",
   "metadata": {},
   "source": [
    "## Zad3"
   ]
  },
  {
   "cell_type": "markdown",
   "id": "59208d4f-ea3c-4643-9f6d-2ad1b1689f8d",
   "metadata": {},
   "source": [
    "Użyć aproksymacji odpowiednimi wielomianami, które najlepiej pasują do zależności czasowych każdego z algorytmów. Stopień wielomianu powinien zgadzać się z teoretyczną złożonoscią. Dodać wykresy uzyskanych wielomianów do wcześniejszych wykresów. **(1 pkt)** Do analizy danych można użyć wybranego narzędzia (Julia, R)"
   ]
  },
  {
   "cell_type": "code",
   "execution_count": null,
   "id": "1035fdec-16ff-4144-96f1-36be386559a1",
   "metadata": {},
   "outputs": [],
   "source": []
  },
  {
   "cell_type": "code",
   "execution_count": null,
   "id": "67026311-10d3-4097-9eb3-0bb859dbc380",
   "metadata": {},
   "outputs": [],
   "source": []
  },
  {
   "cell_type": "markdown",
   "id": "8b54c77f-f18a-4139-9db1-422f0c8412f2",
   "metadata": {},
   "source": [
    "## Zad4"
   ]
  },
  {
   "cell_type": "markdown",
   "id": "9155bbfc-9683-49ca-bad4-b19caa42c2df",
   "metadata": {},
   "source": [
    "Pokazać zniwelowanie efektu Rungego  poprzez użycie wsparcia dla wielomianów Czebyszewa w pakiecie Polynomials. Wymagany wykres. **(1 pkt)**"
   ]
  },
  {
   "cell_type": "code",
   "execution_count": null,
   "id": "c32d8471-7238-4cb6-bed4-8c7861927804",
   "metadata": {},
   "outputs": [],
   "source": []
  },
  {
   "cell_type": "code",
   "execution_count": null,
   "id": "28fe76f7-5c09-42a0-b397-7305e75bea94",
   "metadata": {},
   "outputs": [],
   "source": []
  },
  {
   "cell_type": "markdown",
   "id": "08fa24a3-4d12-46d3-b3e0-ad3422c7d6ee",
   "metadata": {},
   "source": [
    "## Zad5"
   ]
  },
  {
   "cell_type": "markdown",
   "id": "1fd8c85d-0fe4-443d-9c93-8349f62a0d93",
   "metadata": {},
   "source": [
    "Przybliżenie Pade jest często lepsze niż rozwinięcie w szereg Taylora przy aproksymowaniu funkcji, które posiadają osobliwości. Korzystając ze wsparcia dla aproksymacji Pade w pakiecie Polynomials pokazać dowolny przykład (wraz z wykresem), gdzie takie przybliżenie faktycznie jest lepsze. Można odtworzyć wykres z wykładu albo zainspirować się przykładowym artykułem https://www.hindawi.com/journals/ijcm/2014/587430/ **(1 pkt)**"
   ]
  },
  {
   "cell_type": "code",
   "execution_count": null,
   "id": "e7b0ec0f-e958-4ac7-8ed6-c57c35041577",
   "metadata": {},
   "outputs": [],
   "source": []
  },
  {
   "cell_type": "code",
   "execution_count": null,
   "id": "1e093152-025f-4512-917b-a4b81f65d122",
   "metadata": {},
   "outputs": [],
   "source": []
  }
 ],
 "metadata": {
  "kernelspec": {
   "display_name": "Julia 1.8.5",
   "language": "julia",
   "name": "julia-1.8"
  },
  "language_info": {
   "file_extension": ".jl",
   "mimetype": "application/julia",
   "name": "julia",
   "version": "1.8.5"
  }
 },
 "nbformat": 4,
 "nbformat_minor": 5
}
